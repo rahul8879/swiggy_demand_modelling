{
 "cells": [
  {
   "cell_type": "markdown",
   "metadata": {},
   "source": [
    "# Advanced Time Series Analysis\n",
    "\n",
    "This notebook explores the fundamental concepts and advanced techniques in time series analysis, including trends, seasonality, cyclic patterns, and randomness. We will also cover decomposition techniques and hands-on exercises using Python libraries."
   ]
  },
  {
   "cell_type": "code",
   "execution_count": 19,
   "id": "efe40983",
   "metadata": {},
   "outputs": [
    {
     "name": "stdout",
     "output_type": "stream",
     "text": [
      "Collecting openmeteo-requests\n",
      "  Downloading openmeteo_requests-1.3.0-py3-none-any.whl.metadata (9.7 kB)\n",
      "Collecting requests-cache\n",
      "  Downloading requests_cache-1.2.1-py3-none-any.whl.metadata (9.9 kB)\n",
      "Collecting retry-requests\n",
      "  Downloading retry_requests-2.0.0-py3-none-any.whl.metadata (2.6 kB)\n",
      "Collecting openmeteo-sdk>=1.4.0 (from openmeteo-requests)\n",
      "  Downloading openmeteo_sdk-1.18.0-py3-none-any.whl.metadata (934 bytes)\n",
      "Requirement already satisfied: requests in c:\\users\\rahul\\anaconda3\\envs\\live-demo\\lib\\site-packages (from openmeteo-requests) (2.32.3)\n",
      "Requirement already satisfied: attrs>=21.2 in c:\\users\\rahul\\anaconda3\\envs\\live-demo\\lib\\site-packages (from requests-cache) (24.3.0)\n",
      "Collecting cattrs>=22.2 (from requests-cache)\n",
      "  Downloading cattrs-24.1.2-py3-none-any.whl.metadata (8.4 kB)\n",
      "Requirement already satisfied: platformdirs>=2.5 in c:\\users\\rahul\\anaconda3\\envs\\live-demo\\lib\\site-packages (from requests-cache) (4.3.6)\n",
      "Collecting url-normalize>=1.4 (from requests-cache)\n",
      "  Downloading url_normalize-1.4.3-py2.py3-none-any.whl.metadata (3.1 kB)\n",
      "Requirement already satisfied: urllib3>=1.25.5 in c:\\users\\rahul\\anaconda3\\envs\\live-demo\\lib\\site-packages (from requests-cache) (2.3.0)\n",
      "Collecting exceptiongroup>=1.1.1 (from cattrs>=22.2->requests-cache)\n",
      "  Downloading exceptiongroup-1.2.2-py3-none-any.whl.metadata (6.6 kB)\n",
      "Requirement already satisfied: typing-extensions!=4.6.3,>=4.1.0 in c:\\users\\rahul\\anaconda3\\envs\\live-demo\\lib\\site-packages (from cattrs>=22.2->requests-cache) (4.12.2)\n",
      "Collecting flatbuffers>=24.0.0 (from openmeteo-sdk>=1.4.0->openmeteo-requests)\n",
      "  Downloading flatbuffers-24.12.23-py2.py3-none-any.whl.metadata (876 bytes)\n",
      "Requirement already satisfied: charset-normalizer<4,>=2 in c:\\users\\rahul\\anaconda3\\envs\\live-demo\\lib\\site-packages (from requests->openmeteo-requests) (3.4.1)\n",
      "Requirement already satisfied: idna<4,>=2.5 in c:\\users\\rahul\\anaconda3\\envs\\live-demo\\lib\\site-packages (from requests->openmeteo-requests) (3.10)\n",
      "Requirement already satisfied: certifi>=2017.4.17 in c:\\users\\rahul\\anaconda3\\envs\\live-demo\\lib\\site-packages (from requests->openmeteo-requests) (2024.12.14)\n",
      "Requirement already satisfied: six in c:\\users\\rahul\\anaconda3\\envs\\live-demo\\lib\\site-packages (from url-normalize>=1.4->requests-cache) (1.17.0)\n",
      "Downloading openmeteo_requests-1.3.0-py3-none-any.whl (6.0 kB)\n",
      "Downloading requests_cache-1.2.1-py3-none-any.whl (61 kB)\n",
      "   ---------------------------------------- 0.0/61.4 kB ? eta -:--:--\n",
      "   ---------------------------------------- 61.4/61.4 kB 1.7 MB/s eta 0:00:00\n",
      "Downloading retry_requests-2.0.0-py3-none-any.whl (15 kB)\n",
      "Downloading cattrs-24.1.2-py3-none-any.whl (66 kB)\n",
      "   ---------------------------------------- 0.0/66.4 kB ? eta -:--:--\n",
      "   ---------------------------------------- 66.4/66.4 kB 1.8 MB/s eta 0:00:00\n",
      "Downloading openmeteo_sdk-1.18.0-py3-none-any.whl (7.6 kB)\n",
      "Downloading url_normalize-1.4.3-py2.py3-none-any.whl (6.8 kB)\n",
      "Downloading exceptiongroup-1.2.2-py3-none-any.whl (16 kB)\n",
      "Downloading flatbuffers-24.12.23-py2.py3-none-any.whl (30 kB)\n",
      "Installing collected packages: flatbuffers, url-normalize, openmeteo-sdk, exceptiongroup, retry-requests, openmeteo-requests, cattrs, requests-cache\n",
      "Successfully installed cattrs-24.1.2 exceptiongroup-1.2.2 flatbuffers-24.12.23 openmeteo-requests-1.3.0 openmeteo-sdk-1.18.0 requests-cache-1.2.1 retry-requests-2.0.0 url-normalize-1.4.3\n"
     ]
    }
   ],
   "source": [
    "# import requests\n",
    "!pip install openmeteo-requests requests-cache retry-requests"
   ]
  },
  {
   "cell_type": "markdown",
   "metadata": {},
   "source": [
    "## 1. Import Required Libraries"
   ]
  },
  {
   "cell_type": "code",
   "execution_count": 3,
   "metadata": {},
   "outputs": [],
   "source": [
    "import pandas as pd\n",
    "import matplotlib.pyplot as plt\n",
    "import numpy as np\n",
    "from statsmodels.tsa.seasonal import seasonal_decompose\n",
    "from datetime import datetime, timedelta\n",
    "import requests"
   ]
  },
  {
   "cell_type": "markdown",
   "metadata": {},
   "source": [
    "## 2. Key Concepts in Time Series Analysis\n",
    "\n",
    "### 2.1 Trend\n",
    "A trend is the long-term increase or decrease in the data. It does not repeat and is usually caused by external factors, such as population growth or technology advancements.\n",
    "\n",
    "### 2.2 Seasonality\n",
    "Seasonality refers to patterns that repeat at regular intervals, such as daily, monthly, or yearly.\n",
    "\n",
    "### 2.3 Cyclic Patterns\n",
    "Cyclic patterns are fluctuations that occur at irregular intervals and are usually related to economic or business cycles.\n",
    "\n",
    "### 2.4 Randomness\n",
    "Randomness refers to the unpredictable component in a time series that cannot be modeled using trends, seasonality, or cyclic patterns."
   ]
  },
  {
   "cell_type": "markdown",
   "metadata": {},
   "source": [
    "## 3. Fetch Weather Data for Analysis"
   ]
  },
  {
   "cell_type": "code",
   "execution_count": 27,
   "id": "06967813",
   "metadata": {},
   "outputs": [
    {
     "name": "stdout",
     "output_type": "stream",
     "text": [
      "Coordinates 28.625°N 77.25°E\n",
      "Elevation 231.0 m asl\n",
      "Timezone b'Asia/Kolkata' b'IST'\n",
      "Timezone difference to GMT+0 19800 s\n"
     ]
    },
    {
     "data": {
      "text/html": [
       "<div>\n",
       "<style scoped>\n",
       "    .dataframe tbody tr th:only-of-type {\n",
       "        vertical-align: middle;\n",
       "    }\n",
       "\n",
       "    .dataframe tbody tr th {\n",
       "        vertical-align: top;\n",
       "    }\n",
       "\n",
       "    .dataframe thead th {\n",
       "        text-align: right;\n",
       "    }\n",
       "</style>\n",
       "<table border=\"1\" class=\"dataframe\">\n",
       "  <thead>\n",
       "    <tr style=\"text-align: right;\">\n",
       "      <th></th>\n",
       "      <th>date</th>\n",
       "      <th>temperature_2m</th>\n",
       "      <th>relative_humidity_2m</th>\n",
       "      <th>rain</th>\n",
       "      <th>wind_speed_10m</th>\n",
       "      <th>soil_temperature_6cm</th>\n",
       "    </tr>\n",
       "  </thead>\n",
       "  <tbody>\n",
       "    <tr>\n",
       "      <th>0</th>\n",
       "      <td>2022-12-31 18:30:00+00:00</td>\n",
       "      <td>10.5505</td>\n",
       "      <td>91.0</td>\n",
       "      <td>0.0</td>\n",
       "      <td>3.319036</td>\n",
       "      <td>11.6005</td>\n",
       "    </tr>\n",
       "    <tr>\n",
       "      <th>1</th>\n",
       "      <td>2022-12-31 19:30:00+00:00</td>\n",
       "      <td>10.0505</td>\n",
       "      <td>93.0</td>\n",
       "      <td>0.0</td>\n",
       "      <td>3.259938</td>\n",
       "      <td>11.2005</td>\n",
       "    </tr>\n",
       "  </tbody>\n",
       "</table>\n",
       "</div>"
      ],
      "text/plain": [
       "                       date  temperature_2m  relative_humidity_2m  rain  \\\n",
       "0 2022-12-31 18:30:00+00:00         10.5505                  91.0   0.0   \n",
       "1 2022-12-31 19:30:00+00:00         10.0505                  93.0   0.0   \n",
       "\n",
       "   wind_speed_10m  soil_temperature_6cm  \n",
       "0        3.319036               11.6005  \n",
       "1        3.259938               11.2005  "
      ]
     },
     "execution_count": 27,
     "metadata": {},
     "output_type": "execute_result"
    }
   ],
   "source": [
    "import openmeteo_requests\n",
    "\n",
    "import requests_cache\n",
    "import pandas as pd\n",
    "from retry_requests import retry\n",
    "\n",
    "# Setup the Open-Meteo API client with cache and retry on error\n",
    "cache_session = requests_cache.CachedSession('.cache', expire_after = 3600)\n",
    "retry_session = retry(cache_session, retries = 5, backoff_factor = 0.2)\n",
    "openmeteo = openmeteo_requests.Client(session = retry_session)\n",
    "\n",
    "# Make sure all required weather variables are listed here\n",
    "# The order of variables in hourly or daily is important to assign them correctly below\n",
    "url = \"https://historical-forecast-api.open-meteo.com/v1/forecast\"\n",
    "params = {\n",
    "\t\"latitude\": 28.6519,\n",
    "\t\"longitude\": 77.2315,\n",
    "\t\"start_date\": \"2023-01-01\",\n",
    "\t\"end_date\": \"2023-12-31\",\n",
    "\t\"hourly\": [\"temperature_2m\", \"relative_humidity_2m\", \"rain\", \"wind_speed_10m\", \"soil_temperature_6cm\"],\n",
    "\t\"daily\": [\"temperature_2m_max\", \"daylight_duration\", \"uv_index_clear_sky_max\"],\n",
    "\t\"timezone\": \"auto\"\n",
    "}\n",
    "responses = openmeteo.weather_api(url, params=params)\n",
    "\n",
    "# Process first location. Add a for-loop for multiple locations or weather models\n",
    "response = responses[0]\n",
    "print(f\"Coordinates {response.Latitude()}°N {response.Longitude()}°E\")\n",
    "print(f\"Elevation {response.Elevation()} m asl\")\n",
    "print(f\"Timezone {response.Timezone()} {response.TimezoneAbbreviation()}\")\n",
    "print(f\"Timezone difference to GMT+0 {response.UtcOffsetSeconds()} s\")\n",
    "\n",
    "# Process hourly data. The order of variables needs to be the same as requested.\n",
    "hourly = response.Hourly()\n",
    "hourly_temperature_2m = hourly.Variables(0).ValuesAsNumpy()\n",
    "hourly_relative_humidity_2m = hourly.Variables(1).ValuesAsNumpy()\n",
    "hourly_rain = hourly.Variables(2).ValuesAsNumpy()\n",
    "hourly_wind_speed_10m = hourly.Variables(3).ValuesAsNumpy()\n",
    "hourly_soil_temperature_6cm = hourly.Variables(4).ValuesAsNumpy()\n",
    "\n",
    "hourly_data = {\"date\": pd.date_range(\n",
    "\tstart = pd.to_datetime(hourly.Time(), unit = \"s\", utc = True),\n",
    "\tend = pd.to_datetime(hourly.TimeEnd(), unit = \"s\", utc = True),\n",
    "\tfreq = pd.Timedelta(seconds = hourly.Interval()),\n",
    "\tinclusive = \"left\"\n",
    ")}\n",
    "hourly_data[\"temperature_2m\"] = hourly_temperature_2m\n",
    "hourly_data[\"relative_humidity_2m\"] = hourly_relative_humidity_2m\n",
    "hourly_data[\"rain\"] = hourly_rain\n",
    "hourly_data[\"wind_speed_10m\"] = hourly_wind_speed_10m\n",
    "hourly_data[\"soil_temperature_6cm\"] = hourly_soil_temperature_6cm\n",
    "\n",
    "\n",
    "weather_data = pd.DataFrame(data = hourly_data)\n",
    "# print(hourly_dataframe)\n",
    "weather_data.head(2)"
   ]
  },
  {
   "cell_type": "code",
   "execution_count": 30,
   "id": "b88b51e7",
   "metadata": {},
   "outputs": [
    {
     "data": {
      "text/html": [
       "<div>\n",
       "<style scoped>\n",
       "    .dataframe tbody tr th:only-of-type {\n",
       "        vertical-align: middle;\n",
       "    }\n",
       "\n",
       "    .dataframe tbody tr th {\n",
       "        vertical-align: top;\n",
       "    }\n",
       "\n",
       "    .dataframe thead th {\n",
       "        text-align: right;\n",
       "    }\n",
       "</style>\n",
       "<table border=\"1\" class=\"dataframe\">\n",
       "  <thead>\n",
       "    <tr style=\"text-align: right;\">\n",
       "      <th></th>\n",
       "      <th>date</th>\n",
       "      <th>temperature_2m</th>\n",
       "      <th>relative_humidity_2m</th>\n",
       "      <th>rain</th>\n",
       "      <th>wind_speed_10m</th>\n",
       "      <th>soil_temperature_6cm</th>\n",
       "    </tr>\n",
       "  </thead>\n",
       "  <tbody>\n",
       "    <tr>\n",
       "      <th>8755</th>\n",
       "      <td>2023-12-31 13:30:00+00:00</td>\n",
       "      <td>17.450500</td>\n",
       "      <td>70.0</td>\n",
       "      <td>0.0</td>\n",
       "      <td>2.968636</td>\n",
       "      <td>17.100500</td>\n",
       "    </tr>\n",
       "    <tr>\n",
       "      <th>8756</th>\n",
       "      <td>2023-12-31 14:30:00+00:00</td>\n",
       "      <td>16.400499</td>\n",
       "      <td>74.0</td>\n",
       "      <td>0.0</td>\n",
       "      <td>2.968636</td>\n",
       "      <td>15.900499</td>\n",
       "    </tr>\n",
       "    <tr>\n",
       "      <th>8757</th>\n",
       "      <td>2023-12-31 15:30:00+00:00</td>\n",
       "      <td>15.550500</td>\n",
       "      <td>77.0</td>\n",
       "      <td>0.0</td>\n",
       "      <td>2.968636</td>\n",
       "      <td>15.050500</td>\n",
       "    </tr>\n",
       "    <tr>\n",
       "      <th>8758</th>\n",
       "      <td>2023-12-31 16:30:00+00:00</td>\n",
       "      <td>14.800500</td>\n",
       "      <td>79.0</td>\n",
       "      <td>0.0</td>\n",
       "      <td>3.415260</td>\n",
       "      <td>14.350500</td>\n",
       "    </tr>\n",
       "    <tr>\n",
       "      <th>8759</th>\n",
       "      <td>2023-12-31 17:30:00+00:00</td>\n",
       "      <td>14.150500</td>\n",
       "      <td>81.0</td>\n",
       "      <td>0.0</td>\n",
       "      <td>3.415260</td>\n",
       "      <td>13.750500</td>\n",
       "    </tr>\n",
       "  </tbody>\n",
       "</table>\n",
       "</div>"
      ],
      "text/plain": [
       "                          date  temperature_2m  relative_humidity_2m  rain  \\\n",
       "8755 2023-12-31 13:30:00+00:00       17.450500                  70.0   0.0   \n",
       "8756 2023-12-31 14:30:00+00:00       16.400499                  74.0   0.0   \n",
       "8757 2023-12-31 15:30:00+00:00       15.550500                  77.0   0.0   \n",
       "8758 2023-12-31 16:30:00+00:00       14.800500                  79.0   0.0   \n",
       "8759 2023-12-31 17:30:00+00:00       14.150500                  81.0   0.0   \n",
       "\n",
       "      wind_speed_10m  soil_temperature_6cm  \n",
       "8755        2.968636             17.100500  \n",
       "8756        2.968636             15.900499  \n",
       "8757        2.968636             15.050500  \n",
       "8758        3.415260             14.350500  \n",
       "8759        3.415260             13.750500  "
      ]
     },
     "execution_count": 30,
     "metadata": {},
     "output_type": "execute_result"
    }
   ],
   "source": [
    "weather_data.tail()"
   ]
  },
  {
   "cell_type": "markdown",
   "metadata": {},
   "source": [
    "## 4. Visualize the Time Series Data"
   ]
  },
  {
   "cell_type": "code",
   "execution_count": 29,
   "metadata": {},
   "outputs": [
    {
     "data": {
      "image/png": "[encoded data removed]",
      "text/plain": [
       "<Figure size 1200x600 with 1 Axes>"
      ]
     },
     "metadata": {},
     "output_type": "display_data"
    }
   ],
   "source": [
    "plt.figure(figsize=(12, 6))\n",
    "plt.plot(weather_data['date'], weather_data['temperature_2m'], marker='o')\n",
    "plt.title('Daily Temperature Over Last 30 Days')\n",
    "plt.xlabel('Date')\n",
    "plt.ylabel('Temperature (°C)')\n",
    "plt.grid(True)\n",
    "plt.show()"
   ]
  },
  {
   "cell_type": "markdown",
   "metadata": {},
   "source": [
    "## 5. Time Series Decomposition"
   ]
  },
  {
   "cell_type": "code",
   "execution_count": null,
   "metadata": {},
   "outputs": [],
   "source": [
    "decomposition = seasonal_decompose(weather_data['temperature'], period=7, model='additive')\n",
    "\n",
    "# Plot decomposition\n",
    "plt.figure(figsize=(12, 8))\n",
    "decomposition.plot()\n",
    "plt.show()"
   ]
  },
  {
   "cell_type": "markdown",
   "metadata": {},
   "source": [
    "## 6. Basic Statistics"
   ]
  },
  {
   "cell_type": "code",
   "execution_count": null,
   "metadata": {},
   "outputs": [],
   "source": [
    "mean_temp = weather_data['temperature'].mean()\n",
    "variance_temp = weather_data['temperature'].var()\n",
    "std_dev_temp = weather_data['temperature'].std()\n",
    "\n",
    "print(f\"Mean Temperature: {mean_temp:.2f}°C\")\n",
    "print(f\"Variance in Temperature: {variance_temp:.2f}\")\n",
    "print(f\"Standard Deviation: {std_dev_temp:.2f}\")"
   ]
  },
  {
   "cell_type": "markdown",
   "metadata": {},
   "source": [
    "## 7. Moving Averages and Smoothing"
   ]
  },
  {
   "cell_type": "code",
   "execution_count": null,
   "metadata": {},
   "outputs": [],
   "source": [
    "weather_data['moving_avg'] = weather_data['temperature'].rolling(window=5).mean()\n",
    "\n",
    "# Plot with moving average\n",
    "plt.figure(figsize=(12, 6))\n",
    "plt.plot(weather_data['date'], weather_data['temperature'], label='Daily Temperature', marker='o')\n",
    "plt.plot(weather_data['date'], weather_data['moving_avg'], label='5-Day Moving Average', color='orange', linewidth=2)\n",
    "plt.title('Temperature and Moving Average')\n",
    "plt.xlabel('Date')\n",
    "plt.ylabel('Temperature (°C)')\n",
    "plt.legend()\n",
    "plt.grid(True)\n",
    "plt.show()"
   ]
  }
 ],
 "metadata": {
  "kernelspec": {
   "display_name": "live-demo",
   "language": "python",
   "name": "python3"
  },
  "language_info": {
   "codemirror_mode": {
    "name": "ipython",
    "version": 3
   },
   "file_extension": ".py",
   "mimetype": "text/x-python",
   "name": "python",
   "nbconvert_exporter": "python",
   "pygments_lexer": "ipython3",
   "version": "3.9.19"
  }
 },
 "nbformat": 4,
 "nbformat_minor": 5
}
