{
 "cells": [
  {
   "cell_type": "markdown",
   "metadata": {},
   "source": [
    "<h1>Time Series Analysis for bread in'Indranagar'</h1>"
   ]
  },
  {
   "cell_type": "markdown",
   "metadata": {},
   "source": [
    "<h2>Exploring (EDA)data to indentify trends and patterns</h2>"
   ]
  },
  {
   "cell_type": "code",
   "execution_count": 1,
   "metadata": {},
   "outputs": [],
   "source": [
    "import pandas as pd \n",
    "import numpy as np \n",
    "import matplotlib.pyplot as plt \n",
    "import seaborn as sns\n",
    "import plotly.express as px\n",
    "from statsmodels.tsa.seasonal import seasonal_decompose "
   ]
  },
  {
   "cell_type": "code",
   "execution_count": 2,
   "metadata": {},
   "outputs": [
    {
     "data": {
      "text/html": [
       "<div>\n",
       "<style scoped>\n",
       "    .dataframe tbody tr th:only-of-type {\n",
       "        vertical-align: middle;\n",
       "    }\n",
       "\n",
       "    .dataframe tbody tr th {\n",
       "        vertical-align: top;\n",
       "    }\n",
       "\n",
       "    .dataframe thead th {\n",
       "        text-align: right;\n",
       "    }\n",
       "</style>\n",
       "<table border=\"1\" class=\"dataframe\">\n",
       "  <thead>\n",
       "    <tr style=\"text-align: right;\">\n",
       "      <th></th>\n",
       "      <th>DateTime</th>\n",
       "      <th>Date</th>\n",
       "      <th>Hour</th>\n",
       "      <th>Day_of_Week</th>\n",
       "      <th>Location</th>\n",
       "      <th>Product</th>\n",
       "      <th>Order_Volume</th>\n",
       "      <th>Weather</th>\n",
       "      <th>Traffic</th>\n",
       "      <th>Is_Holiday</th>\n",
       "      <th>...</th>\n",
       "      <th>Distance_to_Warehouse</th>\n",
       "      <th>Customer_Age_Group</th>\n",
       "      <th>Feedback_Score</th>\n",
       "      <th>Item_Returned</th>\n",
       "      <th>Discount_Amount</th>\n",
       "      <th>Gift_Wrapping_Requested</th>\n",
       "      <th>Time_Since_Last_Order</th>\n",
       "      <th>Weather_Severity</th>\n",
       "      <th>Traffic_Congestion_Index</th>\n",
       "      <th>Warehouse_Proximity_Score</th>\n",
       "    </tr>\n",
       "  </thead>\n",
       "  <tbody>\n",
       "    <tr>\n",
       "      <th>0</th>\n",
       "      <td>2023-01-01 00:00:00</td>\n",
       "      <td>2023-01-01</td>\n",
       "      <td>0</td>\n",
       "      <td>Sunday</td>\n",
       "      <td>Koramangala</td>\n",
       "      <td>Milk</td>\n",
       "      <td>143</td>\n",
       "      <td>Clear</td>\n",
       "      <td>Moderate</td>\n",
       "      <td>0</td>\n",
       "      <td>...</td>\n",
       "      <td>19.320305</td>\n",
       "      <td>26-35</td>\n",
       "      <td>4.089132</td>\n",
       "      <td>True</td>\n",
       "      <td>80.454587</td>\n",
       "      <td>True</td>\n",
       "      <td>23.395002</td>\n",
       "      <td>1.366587</td>\n",
       "      <td>1.985490</td>\n",
       "      <td>7.916775</td>\n",
       "    </tr>\n",
       "    <tr>\n",
       "      <th>1</th>\n",
       "      <td>2023-01-01 00:00:00</td>\n",
       "      <td>2023-01-01</td>\n",
       "      <td>0</td>\n",
       "      <td>Sunday</td>\n",
       "      <td>Koramangala</td>\n",
       "      <td>Bread</td>\n",
       "      <td>121</td>\n",
       "      <td>Clear</td>\n",
       "      <td>Moderate</td>\n",
       "      <td>0</td>\n",
       "      <td>...</td>\n",
       "      <td>16.529100</td>\n",
       "      <td>18-25</td>\n",
       "      <td>4.403027</td>\n",
       "      <td>False</td>\n",
       "      <td>43.380880</td>\n",
       "      <td>True</td>\n",
       "      <td>20.877744</td>\n",
       "      <td>1.421246</td>\n",
       "      <td>1.043545</td>\n",
       "      <td>5.236938</td>\n",
       "    </tr>\n",
       "  </tbody>\n",
       "</table>\n",
       "<p>2 rows × 43 columns</p>\n",
       "</div>"
      ],
      "text/plain": [
       "              DateTime        Date  Hour Day_of_Week     Location Product  \\\n",
       "0  2023-01-01 00:00:00  2023-01-01     0      Sunday  Koramangala    Milk   \n",
       "1  2023-01-01 00:00:00  2023-01-01     0      Sunday  Koramangala   Bread   \n",
       "\n",
       "   Order_Volume Weather   Traffic  Is_Holiday  ... Distance_to_Warehouse  \\\n",
       "0           143   Clear  Moderate           0  ...             19.320305   \n",
       "1           121   Clear  Moderate           0  ...             16.529100   \n",
       "\n",
       "   Customer_Age_Group  Feedback_Score  Item_Returned  Discount_Amount  \\\n",
       "0               26-35        4.089132           True        80.454587   \n",
       "1               18-25        4.403027          False        43.380880   \n",
       "\n",
       "   Gift_Wrapping_Requested  Time_Since_Last_Order  Weather_Severity  \\\n",
       "0                     True              23.395002          1.366587   \n",
       "1                     True              20.877744          1.421246   \n",
       "\n",
       "   Traffic_Congestion_Index Warehouse_Proximity_Score  \n",
       "0                  1.985490                  7.916775  \n",
       "1                  1.043545                  5.236938  \n",
       "\n",
       "[2 rows x 43 columns]"
      ]
     },
     "execution_count": 2,
     "metadata": {},
     "output_type": "execute_result"
    }
   ],
   "source": [
    "# Loading the dataset for analysis\n",
    "analysis_data=pd.read_csv(r'C:\\Users\\vs390\\OneDrive\\Desktop\\Swiggy instamart delivery prediction\\data\\test.csv')\n",
    "analysis_data.head(2)"
   ]
  },
  {
   "cell_type": "code",
   "execution_count": 3,
   "metadata": {},
   "outputs": [
    {
     "name": "stdout",
     "output_type": "stream",
     "text": [
      "<class 'pandas.core.frame.DataFrame'>\n",
      "RangeIndex: 131055 entries, 0 to 131054\n",
      "Data columns (total 43 columns):\n",
      " #   Column                       Non-Null Count   Dtype  \n",
      "---  ------                       --------------   -----  \n",
      " 0   DateTime                     131055 non-null  object \n",
      " 1   Date                         131055 non-null  object \n",
      " 2   Hour                         131055 non-null  int64  \n",
      " 3   Day_of_Week                  131055 non-null  object \n",
      " 4   Location                     131055 non-null  object \n",
      " 5   Product                      131055 non-null  object \n",
      " 6   Order_Volume                 131055 non-null  int64  \n",
      " 7   Weather                      131055 non-null  object \n",
      " 8   Traffic                      131055 non-null  object \n",
      " 9   Is_Holiday                   131055 non-null  int64  \n",
      " 10  Promotion                    74895 non-null   object \n",
      " 11  Customer_Rating              131055 non-null  float64\n",
      " 12  Distance_to_Customer         131055 non-null  float64\n",
      " 13  Warehouse_Stock_Level        131055 non-null  int64  \n",
      " 14  Average_Preparation_Time     131055 non-null  float64\n",
      " 15  Delivery_Staff_Availability  131055 non-null  int64  \n",
      " 16  Temperature                  131055 non-null  float64\n",
      " 17  Humidity                     131055 non-null  float64\n",
      " 18  Air_Quality_Index            131055 non-null  int64  \n",
      " 19  Vehicle_Type                 131055 non-null  object \n",
      " 20  Order_Priority               131055 non-null  object \n",
      " 21  Coupon_Used                  131055 non-null  bool   \n",
      " 22  Previous_Order_Cancellation  131055 non-null  float64\n",
      " 23  Delivery_Speed               131055 non-null  float64\n",
      " 24  Staff_Experience_Level       131055 non-null  float64\n",
      " 25  Fuel_Cost                    131055 non-null  float64\n",
      " 26  Packaging_Cost               131055 non-null  float64\n",
      " 27  Customer_Loyalty_Points      131055 non-null  int64  \n",
      " 28  Nearby_Competitors           131055 non-null  int64  \n",
      " 29  Seasonal_Demand_Factor       131055 non-null  float64\n",
      " 30  Payment_Type                 131055 non-null  object \n",
      " 31  Order_Frequency              131055 non-null  int64  \n",
      " 32  Average_Order_Value          131055 non-null  float64\n",
      " 33  Distance_to_Warehouse        131055 non-null  float64\n",
      " 34  Customer_Age_Group           131055 non-null  object \n",
      " 35  Feedback_Score               131055 non-null  float64\n",
      " 36  Item_Returned                131055 non-null  bool   \n",
      " 37  Discount_Amount              131055 non-null  float64\n",
      " 38  Gift_Wrapping_Requested      131055 non-null  bool   \n",
      " 39  Time_Since_Last_Order        131055 non-null  float64\n",
      " 40  Weather_Severity             131055 non-null  float64\n",
      " 41  Traffic_Congestion_Index     131055 non-null  float64\n",
      " 42  Warehouse_Proximity_Score    131055 non-null  float64\n",
      "dtypes: bool(3), float64(19), int64(9), object(12)\n",
      "memory usage: 40.4+ MB\n"
     ]
    }
   ],
   "source": [
    "# Displaying the information about the dataset, including the number of non-null entries and the data types of each column\n",
    "analysis_data.info()"
   ]
  },
  {
   "cell_type": "code",
   "execution_count": 4,
   "metadata": {},
   "outputs": [
    {
     "data": {
      "text/html": [
       "<div>\n",
       "<style scoped>\n",
       "    .dataframe tbody tr th:only-of-type {\n",
       "        vertical-align: middle;\n",
       "    }\n",
       "\n",
       "    .dataframe tbody tr th {\n",
       "        vertical-align: top;\n",
       "    }\n",
       "\n",
       "    .dataframe thead th {\n",
       "        text-align: right;\n",
       "    }\n",
       "</style>\n",
       "<table border=\"1\" class=\"dataframe\">\n",
       "  <thead>\n",
       "    <tr style=\"text-align: right;\">\n",
       "      <th></th>\n",
       "      <th>Hour</th>\n",
       "      <th>Order_Volume</th>\n",
       "      <th>Is_Holiday</th>\n",
       "      <th>Customer_Rating</th>\n",
       "      <th>Distance_to_Customer</th>\n",
       "      <th>Warehouse_Stock_Level</th>\n",
       "      <th>Average_Preparation_Time</th>\n",
       "      <th>Delivery_Staff_Availability</th>\n",
       "      <th>Temperature</th>\n",
       "      <th>Humidity</th>\n",
       "      <th>...</th>\n",
       "      <th>Seasonal_Demand_Factor</th>\n",
       "      <th>Order_Frequency</th>\n",
       "      <th>Average_Order_Value</th>\n",
       "      <th>Distance_to_Warehouse</th>\n",
       "      <th>Feedback_Score</th>\n",
       "      <th>Discount_Amount</th>\n",
       "      <th>Time_Since_Last_Order</th>\n",
       "      <th>Weather_Severity</th>\n",
       "      <th>Traffic_Congestion_Index</th>\n",
       "      <th>Warehouse_Proximity_Score</th>\n",
       "    </tr>\n",
       "  </thead>\n",
       "  <tbody>\n",
       "    <tr>\n",
       "      <th>count</th>\n",
       "      <td>131055.000000</td>\n",
       "      <td>131055.000000</td>\n",
       "      <td>131055.000000</td>\n",
       "      <td>131055.000000</td>\n",
       "      <td>131055.000000</td>\n",
       "      <td>131055.000000</td>\n",
       "      <td>131055.000000</td>\n",
       "      <td>131055.000000</td>\n",
       "      <td>131055.000000</td>\n",
       "      <td>131055.000000</td>\n",
       "      <td>...</td>\n",
       "      <td>131055.000000</td>\n",
       "      <td>131055.000000</td>\n",
       "      <td>131055.000000</td>\n",
       "      <td>131055.000000</td>\n",
       "      <td>131055.000000</td>\n",
       "      <td>131055.000000</td>\n",
       "      <td>131055.000000</td>\n",
       "      <td>131055.000000</td>\n",
       "      <td>131055.000000</td>\n",
       "      <td>131055.000000</td>\n",
       "    </tr>\n",
       "    <tr>\n",
       "      <th>mean</th>\n",
       "      <td>11.498684</td>\n",
       "      <td>186.978116</td>\n",
       "      <td>0.010988</td>\n",
       "      <td>4.001241</td>\n",
       "      <td>7.738285</td>\n",
       "      <td>5251.224364</td>\n",
       "      <td>12.520945</td>\n",
       "      <td>25.446996</td>\n",
       "      <td>27.442987</td>\n",
       "      <td>59.949845</td>\n",
       "      <td>...</td>\n",
       "      <td>1.150446</td>\n",
       "      <td>5.500187</td>\n",
       "      <td>549.598448</td>\n",
       "      <td>10.484298</td>\n",
       "      <td>4.002639</td>\n",
       "      <td>49.939542</td>\n",
       "      <td>15.008348</td>\n",
       "      <td>1.251417</td>\n",
       "      <td>1.250972</td>\n",
       "      <td>5.510312</td>\n",
       "    </tr>\n",
       "    <tr>\n",
       "      <th>std</th>\n",
       "      <td>6.922910</td>\n",
       "      <td>113.856596</td>\n",
       "      <td>0.104245</td>\n",
       "      <td>0.577467</td>\n",
       "      <td>4.189325</td>\n",
       "      <td>2737.110791</td>\n",
       "      <td>4.338912</td>\n",
       "      <td>14.428719</td>\n",
       "      <td>7.214370</td>\n",
       "      <td>17.340146</td>\n",
       "      <td>...</td>\n",
       "      <td>0.201802</td>\n",
       "      <td>2.877272</td>\n",
       "      <td>259.797596</td>\n",
       "      <td>5.482059</td>\n",
       "      <td>0.577086</td>\n",
       "      <td>28.880152</td>\n",
       "      <td>8.663951</td>\n",
       "      <td>0.433150</td>\n",
       "      <td>0.432839</td>\n",
       "      <td>2.590764</td>\n",
       "    </tr>\n",
       "    <tr>\n",
       "      <th>min</th>\n",
       "      <td>0.000000</td>\n",
       "      <td>80.000000</td>\n",
       "      <td>0.000000</td>\n",
       "      <td>3.000001</td>\n",
       "      <td>0.500075</td>\n",
       "      <td>500.000000</td>\n",
       "      <td>5.000116</td>\n",
       "      <td>1.000000</td>\n",
       "      <td>15.000120</td>\n",
       "      <td>30.000691</td>\n",
       "      <td>...</td>\n",
       "      <td>0.800007</td>\n",
       "      <td>1.000000</td>\n",
       "      <td>100.000713</td>\n",
       "      <td>1.000029</td>\n",
       "      <td>3.000020</td>\n",
       "      <td>0.000010</td>\n",
       "      <td>0.000131</td>\n",
       "      <td>0.500002</td>\n",
       "      <td>0.500026</td>\n",
       "      <td>1.000016</td>\n",
       "    </tr>\n",
       "    <tr>\n",
       "      <th>25%</th>\n",
       "      <td>5.000000</td>\n",
       "      <td>114.000000</td>\n",
       "      <td>0.000000</td>\n",
       "      <td>3.498508</td>\n",
       "      <td>4.100091</td>\n",
       "      <td>2888.000000</td>\n",
       "      <td>8.764904</td>\n",
       "      <td>13.000000</td>\n",
       "      <td>21.180931</td>\n",
       "      <td>44.917260</td>\n",
       "      <td>...</td>\n",
       "      <td>0.976320</td>\n",
       "      <td>3.000000</td>\n",
       "      <td>324.719657</td>\n",
       "      <td>5.721243</td>\n",
       "      <td>3.503016</td>\n",
       "      <td>24.946042</td>\n",
       "      <td>7.521753</td>\n",
       "      <td>0.877262</td>\n",
       "      <td>0.875364</td>\n",
       "      <td>3.276227</td>\n",
       "    </tr>\n",
       "    <tr>\n",
       "      <th>50%</th>\n",
       "      <td>11.000000</td>\n",
       "      <td>136.000000</td>\n",
       "      <td>0.000000</td>\n",
       "      <td>4.004470</td>\n",
       "      <td>7.731209</td>\n",
       "      <td>5244.000000</td>\n",
       "      <td>12.531838</td>\n",
       "      <td>25.000000</td>\n",
       "      <td>27.413058</td>\n",
       "      <td>59.931597</td>\n",
       "      <td>...</td>\n",
       "      <td>1.150270</td>\n",
       "      <td>6.000000</td>\n",
       "      <td>550.133017</td>\n",
       "      <td>10.472986</td>\n",
       "      <td>4.005176</td>\n",
       "      <td>49.926669</td>\n",
       "      <td>15.019368</td>\n",
       "      <td>1.250025</td>\n",
       "      <td>1.251652</td>\n",
       "      <td>5.508709</td>\n",
       "    </tr>\n",
       "    <tr>\n",
       "      <th>75%</th>\n",
       "      <td>17.000000</td>\n",
       "      <td>175.000000</td>\n",
       "      <td>0.000000</td>\n",
       "      <td>4.499205</td>\n",
       "      <td>11.367584</td>\n",
       "      <td>7621.000000</td>\n",
       "      <td>16.299481</td>\n",
       "      <td>38.000000</td>\n",
       "      <td>33.674739</td>\n",
       "      <td>74.953814</td>\n",
       "      <td>...</td>\n",
       "      <td>1.325623</td>\n",
       "      <td>8.000000</td>\n",
       "      <td>774.598225</td>\n",
       "      <td>15.233410</td>\n",
       "      <td>4.502309</td>\n",
       "      <td>74.957024</td>\n",
       "      <td>22.516458</td>\n",
       "      <td>1.627430</td>\n",
       "      <td>1.624996</td>\n",
       "      <td>7.750759</td>\n",
       "    </tr>\n",
       "    <tr>\n",
       "      <th>max</th>\n",
       "      <td>23.000000</td>\n",
       "      <td>487.000000</td>\n",
       "      <td>1.000000</td>\n",
       "      <td>4.999987</td>\n",
       "      <td>14.999970</td>\n",
       "      <td>10000.000000</td>\n",
       "      <td>19.999984</td>\n",
       "      <td>50.000000</td>\n",
       "      <td>39.999951</td>\n",
       "      <td>89.999720</td>\n",
       "      <td>...</td>\n",
       "      <td>1.499994</td>\n",
       "      <td>10.000000</td>\n",
       "      <td>999.994965</td>\n",
       "      <td>19.999728</td>\n",
       "      <td>4.999979</td>\n",
       "      <td>99.999577</td>\n",
       "      <td>29.999872</td>\n",
       "      <td>1.999987</td>\n",
       "      <td>1.999989</td>\n",
       "      <td>9.999961</td>\n",
       "    </tr>\n",
       "  </tbody>\n",
       "</table>\n",
       "<p>8 rows × 28 columns</p>\n",
       "</div>"
      ],
      "text/plain": [
       "                Hour   Order_Volume     Is_Holiday  Customer_Rating  \\\n",
       "count  131055.000000  131055.000000  131055.000000    131055.000000   \n",
       "mean       11.498684     186.978116       0.010988         4.001241   \n",
       "std         6.922910     113.856596       0.104245         0.577467   \n",
       "min         0.000000      80.000000       0.000000         3.000001   \n",
       "25%         5.000000     114.000000       0.000000         3.498508   \n",
       "50%        11.000000     136.000000       0.000000         4.004470   \n",
       "75%        17.000000     175.000000       0.000000         4.499205   \n",
       "max        23.000000     487.000000       1.000000         4.999987   \n",
       "\n",
       "       Distance_to_Customer  Warehouse_Stock_Level  Average_Preparation_Time  \\\n",
       "count         131055.000000          131055.000000             131055.000000   \n",
       "mean               7.738285            5251.224364                 12.520945   \n",
       "std                4.189325            2737.110791                  4.338912   \n",
       "min                0.500075             500.000000                  5.000116   \n",
       "25%                4.100091            2888.000000                  8.764904   \n",
       "50%                7.731209            5244.000000                 12.531838   \n",
       "75%               11.367584            7621.000000                 16.299481   \n",
       "max               14.999970           10000.000000                 19.999984   \n",
       "\n",
       "       Delivery_Staff_Availability    Temperature       Humidity  ...  \\\n",
       "count                131055.000000  131055.000000  131055.000000  ...   \n",
       "mean                     25.446996      27.442987      59.949845  ...   \n",
       "std                      14.428719       7.214370      17.340146  ...   \n",
       "min                       1.000000      15.000120      30.000691  ...   \n",
       "25%                      13.000000      21.180931      44.917260  ...   \n",
       "50%                      25.000000      27.413058      59.931597  ...   \n",
       "75%                      38.000000      33.674739      74.953814  ...   \n",
       "max                      50.000000      39.999951      89.999720  ...   \n",
       "\n",
       "       Seasonal_Demand_Factor  Order_Frequency  Average_Order_Value  \\\n",
       "count           131055.000000    131055.000000        131055.000000   \n",
       "mean                 1.150446         5.500187           549.598448   \n",
       "std                  0.201802         2.877272           259.797596   \n",
       "min                  0.800007         1.000000           100.000713   \n",
       "25%                  0.976320         3.000000           324.719657   \n",
       "50%                  1.150270         6.000000           550.133017   \n",
       "75%                  1.325623         8.000000           774.598225   \n",
       "max                  1.499994        10.000000           999.994965   \n",
       "\n",
       "       Distance_to_Warehouse  Feedback_Score  Discount_Amount  \\\n",
       "count          131055.000000   131055.000000    131055.000000   \n",
       "mean               10.484298        4.002639        49.939542   \n",
       "std                 5.482059        0.577086        28.880152   \n",
       "min                 1.000029        3.000020         0.000010   \n",
       "25%                 5.721243        3.503016        24.946042   \n",
       "50%                10.472986        4.005176        49.926669   \n",
       "75%                15.233410        4.502309        74.957024   \n",
       "max                19.999728        4.999979        99.999577   \n",
       "\n",
       "       Time_Since_Last_Order  Weather_Severity  Traffic_Congestion_Index  \\\n",
       "count          131055.000000     131055.000000             131055.000000   \n",
       "mean               15.008348          1.251417                  1.250972   \n",
       "std                 8.663951          0.433150                  0.432839   \n",
       "min                 0.000131          0.500002                  0.500026   \n",
       "25%                 7.521753          0.877262                  0.875364   \n",
       "50%                15.019368          1.250025                  1.251652   \n",
       "75%                22.516458          1.627430                  1.624996   \n",
       "max                29.999872          1.999987                  1.999989   \n",
       "\n",
       "       Warehouse_Proximity_Score  \n",
       "count              131055.000000  \n",
       "mean                    5.510312  \n",
       "std                     2.590764  \n",
       "min                     1.000016  \n",
       "25%                     3.276227  \n",
       "50%                     5.508709  \n",
       "75%                     7.750759  \n",
       "max                     9.999961  \n",
       "\n",
       "[8 rows x 28 columns]"
      ]
     },
     "execution_count": 4,
     "metadata": {},
     "output_type": "execute_result"
    }
   ],
   "source": [
    "# Displaying summary statistics of the dataset, including count, mean, standard deviation, min, max, and quartiles for each numeric column\n",
    "analysis_data.describe()"
   ]
  },
  {
   "cell_type": "code",
   "execution_count": 5,
   "metadata": {},
   "outputs": [
    {
     "data": {
      "text/plain": [
       "DateTime                           0\n",
       "Date                               0\n",
       "Hour                               0\n",
       "Day_of_Week                        0\n",
       "Location                           0\n",
       "Product                            0\n",
       "Order_Volume                       0\n",
       "Weather                            0\n",
       "Traffic                            0\n",
       "Is_Holiday                         0\n",
       "Promotion                      56160\n",
       "Customer_Rating                    0\n",
       "Distance_to_Customer               0\n",
       "Warehouse_Stock_Level              0\n",
       "Average_Preparation_Time           0\n",
       "Delivery_Staff_Availability        0\n",
       "Temperature                        0\n",
       "Humidity                           0\n",
       "Air_Quality_Index                  0\n",
       "Vehicle_Type                       0\n",
       "Order_Priority                     0\n",
       "Coupon_Used                        0\n",
       "Previous_Order_Cancellation        0\n",
       "Delivery_Speed                     0\n",
       "Staff_Experience_Level             0\n",
       "Fuel_Cost                          0\n",
       "Packaging_Cost                     0\n",
       "Customer_Loyalty_Points            0\n",
       "Nearby_Competitors                 0\n",
       "Seasonal_Demand_Factor             0\n",
       "Payment_Type                       0\n",
       "Order_Frequency                    0\n",
       "Average_Order_Value                0\n",
       "Distance_to_Warehouse              0\n",
       "Customer_Age_Group                 0\n",
       "Feedback_Score                     0\n",
       "Item_Returned                      0\n",
       "Discount_Amount                    0\n",
       "Gift_Wrapping_Requested            0\n",
       "Time_Since_Last_Order              0\n",
       "Weather_Severity                   0\n",
       "Traffic_Congestion_Index           0\n",
       "Warehouse_Proximity_Score          0\n",
       "dtype: int64"
      ]
     },
     "execution_count": 5,
     "metadata": {},
     "output_type": "execute_result"
    }
   ],
   "source": [
    "# Checking for missing (null) values in each column and displaying the total count of null values per column\n",
    "analysis_data.isnull().sum()"
   ]
  },
  {
   "cell_type": "code",
   "execution_count": 6,
   "metadata": {},
   "outputs": [
    {
     "data": {
      "text/plain": [
       "array(['Weekend Bonanza', 'No_Prmotion', 'Midweek Madness'], dtype=object)"
      ]
     },
     "execution_count": 6,
     "metadata": {},
     "output_type": "execute_result"
    }
   ],
   "source": [
    "# Filling missing values in the 'Promotion' column with the value 'No_Promotion'\n",
    "analysis_data['Promotion']=analysis_data ['Promotion'].fillna('No_Prmotion')\n",
    "analysis_data['Promotion'].unique()"
   ]
  },
  {
   "cell_type": "code",
   "execution_count": 7,
   "metadata": {},
   "outputs": [
    {
     "name": "stdout",
     "output_type": "stream",
     "text": [
      "Mean Order Volume: 186.97811605814354\n",
      "Median Order Volume: 136.0\n",
      "Standard Deviation of Order Volume: 113.85659634888782\n",
      "Maximum Order Volume: 487\n",
      "Minimum Order Volume: 80\n"
     ]
    }
   ],
   "source": [
    "#  Basic Statistical Analysis (Mean, Median, etc.)\n",
    "mean_order_volume =analysis_data['Order_Volume'].mean()\n",
    "median_order_volume = analysis_data['Order_Volume'].median()\n",
    "std_order_volume = analysis_data['Order_Volume'].std()\n",
    "max_order_volume = analysis_data['Order_Volume'].max()\n",
    "min_order_volume = analysis_data['Order_Volume'].min()\n",
    "\n",
    "print(f\"Mean Order Volume: {mean_order_volume}\")\n",
    "print(f\"Median Order Volume: {median_order_volume}\")\n",
    "print(f\"Standard Deviation of Order Volume: {std_order_volume}\")\n",
    "print(f\"Maximum Order Volume: {max_order_volume}\")\n",
    "print(f\"Minimum Order Volume: {min_order_volume}\")"
   ]
  },
  {
   "cell_type": "code",
   "execution_count": 8,
   "metadata": {},
   "outputs": [
    {
     "data": {
      "text/html": [
       "<div>\n",
       "<style scoped>\n",
       "    .dataframe tbody tr th:only-of-type {\n",
       "        vertical-align: middle;\n",
       "    }\n",
       "\n",
       "    .dataframe tbody tr th {\n",
       "        vertical-align: top;\n",
       "    }\n",
       "\n",
       "    .dataframe thead th {\n",
       "        text-align: right;\n",
       "    }\n",
       "</style>\n",
       "<table border=\"1\" class=\"dataframe\">\n",
       "  <thead>\n",
       "    <tr style=\"text-align: right;\">\n",
       "      <th></th>\n",
       "      <th>DateTime</th>\n",
       "      <th>Date</th>\n",
       "      <th>Hour</th>\n",
       "      <th>Day_of_Week</th>\n",
       "      <th>Location</th>\n",
       "      <th>Product</th>\n",
       "      <th>Order_Volume</th>\n",
       "      <th>Weather</th>\n",
       "      <th>Traffic</th>\n",
       "      <th>Is_Holiday</th>\n",
       "      <th>...</th>\n",
       "      <th>Distance_to_Warehouse</th>\n",
       "      <th>Customer_Age_Group</th>\n",
       "      <th>Feedback_Score</th>\n",
       "      <th>Item_Returned</th>\n",
       "      <th>Discount_Amount</th>\n",
       "      <th>Gift_Wrapping_Requested</th>\n",
       "      <th>Time_Since_Last_Order</th>\n",
       "      <th>Weather_Severity</th>\n",
       "      <th>Traffic_Congestion_Index</th>\n",
       "      <th>Warehouse_Proximity_Score</th>\n",
       "    </tr>\n",
       "  </thead>\n",
       "  <tbody>\n",
       "    <tr>\n",
       "      <th>11</th>\n",
       "      <td>2023-01-01 00:00:00</td>\n",
       "      <td>2023-01-01</td>\n",
       "      <td>0</td>\n",
       "      <td>Sunday</td>\n",
       "      <td>Indiranagar</td>\n",
       "      <td>Bread</td>\n",
       "      <td>119</td>\n",
       "      <td>Clear</td>\n",
       "      <td>Moderate</td>\n",
       "      <td>0</td>\n",
       "      <td>...</td>\n",
       "      <td>12.660535</td>\n",
       "      <td>50+</td>\n",
       "      <td>4.061432</td>\n",
       "      <td>False</td>\n",
       "      <td>9.658734</td>\n",
       "      <td>False</td>\n",
       "      <td>26.852074</td>\n",
       "      <td>1.944521</td>\n",
       "      <td>1.298351</td>\n",
       "      <td>3.110002</td>\n",
       "    </tr>\n",
       "    <tr>\n",
       "      <th>26</th>\n",
       "      <td>2023-01-01 01:00:00</td>\n",
       "      <td>2023-01-01</td>\n",
       "      <td>1</td>\n",
       "      <td>Sunday</td>\n",
       "      <td>Indiranagar</td>\n",
       "      <td>Bread</td>\n",
       "      <td>112</td>\n",
       "      <td>Cloudy</td>\n",
       "      <td>Low</td>\n",
       "      <td>0</td>\n",
       "      <td>...</td>\n",
       "      <td>12.619701</td>\n",
       "      <td>26-35</td>\n",
       "      <td>4.132424</td>\n",
       "      <td>False</td>\n",
       "      <td>57.146098</td>\n",
       "      <td>False</td>\n",
       "      <td>10.757698</td>\n",
       "      <td>0.620857</td>\n",
       "      <td>0.905051</td>\n",
       "      <td>2.803342</td>\n",
       "    </tr>\n",
       "    <tr>\n",
       "      <th>41</th>\n",
       "      <td>2023-01-01 02:00:00</td>\n",
       "      <td>2023-01-01</td>\n",
       "      <td>2</td>\n",
       "      <td>Sunday</td>\n",
       "      <td>Indiranagar</td>\n",
       "      <td>Bread</td>\n",
       "      <td>137</td>\n",
       "      <td>Clear</td>\n",
       "      <td>Moderate</td>\n",
       "      <td>0</td>\n",
       "      <td>...</td>\n",
       "      <td>17.686458</td>\n",
       "      <td>18-25</td>\n",
       "      <td>3.672789</td>\n",
       "      <td>False</td>\n",
       "      <td>80.490222</td>\n",
       "      <td>True</td>\n",
       "      <td>26.791430</td>\n",
       "      <td>1.267244</td>\n",
       "      <td>1.578910</td>\n",
       "      <td>1.241782</td>\n",
       "    </tr>\n",
       "    <tr>\n",
       "      <th>56</th>\n",
       "      <td>2023-01-01 03:00:00</td>\n",
       "      <td>2023-01-01</td>\n",
       "      <td>3</td>\n",
       "      <td>Sunday</td>\n",
       "      <td>Indiranagar</td>\n",
       "      <td>Bread</td>\n",
       "      <td>112</td>\n",
       "      <td>Clear</td>\n",
       "      <td>Low</td>\n",
       "      <td>0</td>\n",
       "      <td>...</td>\n",
       "      <td>10.821622</td>\n",
       "      <td>26-35</td>\n",
       "      <td>3.674612</td>\n",
       "      <td>False</td>\n",
       "      <td>79.820336</td>\n",
       "      <td>True</td>\n",
       "      <td>24.250765</td>\n",
       "      <td>0.551302</td>\n",
       "      <td>0.844015</td>\n",
       "      <td>2.554798</td>\n",
       "    </tr>\n",
       "    <tr>\n",
       "      <th>71</th>\n",
       "      <td>2023-01-01 04:00:00</td>\n",
       "      <td>2023-01-01</td>\n",
       "      <td>4</td>\n",
       "      <td>Sunday</td>\n",
       "      <td>Indiranagar</td>\n",
       "      <td>Bread</td>\n",
       "      <td>132</td>\n",
       "      <td>Clear</td>\n",
       "      <td>High</td>\n",
       "      <td>0</td>\n",
       "      <td>...</td>\n",
       "      <td>5.601203</td>\n",
       "      <td>36-50</td>\n",
       "      <td>3.478499</td>\n",
       "      <td>False</td>\n",
       "      <td>76.547548</td>\n",
       "      <td>True</td>\n",
       "      <td>10.168827</td>\n",
       "      <td>0.745243</td>\n",
       "      <td>1.405398</td>\n",
       "      <td>2.866666</td>\n",
       "    </tr>\n",
       "    <tr>\n",
       "      <th>...</th>\n",
       "      <td>...</td>\n",
       "      <td>...</td>\n",
       "      <td>...</td>\n",
       "      <td>...</td>\n",
       "      <td>...</td>\n",
       "      <td>...</td>\n",
       "      <td>...</td>\n",
       "      <td>...</td>\n",
       "      <td>...</td>\n",
       "      <td>...</td>\n",
       "      <td>...</td>\n",
       "      <td>...</td>\n",
       "      <td>...</td>\n",
       "      <td>...</td>\n",
       "      <td>...</td>\n",
       "      <td>...</td>\n",
       "      <td>...</td>\n",
       "      <td>...</td>\n",
       "      <td>...</td>\n",
       "      <td>...</td>\n",
       "      <td>...</td>\n",
       "    </tr>\n",
       "    <tr>\n",
       "      <th>130991</th>\n",
       "      <td>2023-12-30 20:00:00</td>\n",
       "      <td>2023-12-30</td>\n",
       "      <td>20</td>\n",
       "      <td>Saturday</td>\n",
       "      <td>Indiranagar</td>\n",
       "      <td>Bread</td>\n",
       "      <td>386</td>\n",
       "      <td>Clear</td>\n",
       "      <td>Low</td>\n",
       "      <td>0</td>\n",
       "      <td>...</td>\n",
       "      <td>3.459181</td>\n",
       "      <td>50+</td>\n",
       "      <td>3.051029</td>\n",
       "      <td>False</td>\n",
       "      <td>10.534726</td>\n",
       "      <td>True</td>\n",
       "      <td>13.837943</td>\n",
       "      <td>1.249496</td>\n",
       "      <td>1.897350</td>\n",
       "      <td>4.317802</td>\n",
       "    </tr>\n",
       "    <tr>\n",
       "      <th>131006</th>\n",
       "      <td>2023-12-30 21:00:00</td>\n",
       "      <td>2023-12-30</td>\n",
       "      <td>21</td>\n",
       "      <td>Saturday</td>\n",
       "      <td>Indiranagar</td>\n",
       "      <td>Bread</td>\n",
       "      <td>159</td>\n",
       "      <td>Rainy</td>\n",
       "      <td>Low</td>\n",
       "      <td>0</td>\n",
       "      <td>...</td>\n",
       "      <td>8.210937</td>\n",
       "      <td>26-35</td>\n",
       "      <td>4.312745</td>\n",
       "      <td>False</td>\n",
       "      <td>29.815627</td>\n",
       "      <td>False</td>\n",
       "      <td>5.941265</td>\n",
       "      <td>1.837516</td>\n",
       "      <td>1.738034</td>\n",
       "      <td>4.384649</td>\n",
       "    </tr>\n",
       "    <tr>\n",
       "      <th>131021</th>\n",
       "      <td>2023-12-30 22:00:00</td>\n",
       "      <td>2023-12-30</td>\n",
       "      <td>22</td>\n",
       "      <td>Saturday</td>\n",
       "      <td>Indiranagar</td>\n",
       "      <td>Bread</td>\n",
       "      <td>175</td>\n",
       "      <td>Rainy</td>\n",
       "      <td>Low</td>\n",
       "      <td>0</td>\n",
       "      <td>...</td>\n",
       "      <td>5.372663</td>\n",
       "      <td>50+</td>\n",
       "      <td>3.530148</td>\n",
       "      <td>True</td>\n",
       "      <td>8.825933</td>\n",
       "      <td>False</td>\n",
       "      <td>20.286031</td>\n",
       "      <td>0.576702</td>\n",
       "      <td>1.997606</td>\n",
       "      <td>2.301381</td>\n",
       "    </tr>\n",
       "    <tr>\n",
       "      <th>131036</th>\n",
       "      <td>2023-12-30 23:00:00</td>\n",
       "      <td>2023-12-30</td>\n",
       "      <td>23</td>\n",
       "      <td>Saturday</td>\n",
       "      <td>Indiranagar</td>\n",
       "      <td>Bread</td>\n",
       "      <td>116</td>\n",
       "      <td>Cloudy</td>\n",
       "      <td>Low</td>\n",
       "      <td>0</td>\n",
       "      <td>...</td>\n",
       "      <td>3.386441</td>\n",
       "      <td>36-50</td>\n",
       "      <td>4.904712</td>\n",
       "      <td>False</td>\n",
       "      <td>19.944306</td>\n",
       "      <td>True</td>\n",
       "      <td>16.528246</td>\n",
       "      <td>1.059553</td>\n",
       "      <td>0.517482</td>\n",
       "      <td>6.757154</td>\n",
       "    </tr>\n",
       "    <tr>\n",
       "      <th>131051</th>\n",
       "      <td>2023-12-31 00:00:00</td>\n",
       "      <td>2023-12-31</td>\n",
       "      <td>0</td>\n",
       "      <td>Sunday</td>\n",
       "      <td>Indiranagar</td>\n",
       "      <td>Bread</td>\n",
       "      <td>110</td>\n",
       "      <td>Cloudy</td>\n",
       "      <td>Moderate</td>\n",
       "      <td>0</td>\n",
       "      <td>...</td>\n",
       "      <td>8.760218</td>\n",
       "      <td>36-50</td>\n",
       "      <td>3.413382</td>\n",
       "      <td>False</td>\n",
       "      <td>43.678419</td>\n",
       "      <td>True</td>\n",
       "      <td>9.275332</td>\n",
       "      <td>1.591587</td>\n",
       "      <td>1.013702</td>\n",
       "      <td>1.031083</td>\n",
       "    </tr>\n",
       "  </tbody>\n",
       "</table>\n",
       "<p>8737 rows × 43 columns</p>\n",
       "</div>"
      ],
      "text/plain": [
       "                   DateTime        Date  Hour Day_of_Week     Location  \\\n",
       "11      2023-01-01 00:00:00  2023-01-01     0      Sunday  Indiranagar   \n",
       "26      2023-01-01 01:00:00  2023-01-01     1      Sunday  Indiranagar   \n",
       "41      2023-01-01 02:00:00  2023-01-01     2      Sunday  Indiranagar   \n",
       "56      2023-01-01 03:00:00  2023-01-01     3      Sunday  Indiranagar   \n",
       "71      2023-01-01 04:00:00  2023-01-01     4      Sunday  Indiranagar   \n",
       "...                     ...         ...   ...         ...          ...   \n",
       "130991  2023-12-30 20:00:00  2023-12-30    20    Saturday  Indiranagar   \n",
       "131006  2023-12-30 21:00:00  2023-12-30    21    Saturday  Indiranagar   \n",
       "131021  2023-12-30 22:00:00  2023-12-30    22    Saturday  Indiranagar   \n",
       "131036  2023-12-30 23:00:00  2023-12-30    23    Saturday  Indiranagar   \n",
       "131051  2023-12-31 00:00:00  2023-12-31     0      Sunday  Indiranagar   \n",
       "\n",
       "       Product  Order_Volume Weather   Traffic  Is_Holiday  ...  \\\n",
       "11       Bread           119   Clear  Moderate           0  ...   \n",
       "26       Bread           112  Cloudy       Low           0  ...   \n",
       "41       Bread           137   Clear  Moderate           0  ...   \n",
       "56       Bread           112   Clear       Low           0  ...   \n",
       "71       Bread           132   Clear      High           0  ...   \n",
       "...        ...           ...     ...       ...         ...  ...   \n",
       "130991   Bread           386   Clear       Low           0  ...   \n",
       "131006   Bread           159   Rainy       Low           0  ...   \n",
       "131021   Bread           175   Rainy       Low           0  ...   \n",
       "131036   Bread           116  Cloudy       Low           0  ...   \n",
       "131051   Bread           110  Cloudy  Moderate           0  ...   \n",
       "\n",
       "       Distance_to_Warehouse  Customer_Age_Group  Feedback_Score  \\\n",
       "11                 12.660535                 50+        4.061432   \n",
       "26                 12.619701               26-35        4.132424   \n",
       "41                 17.686458               18-25        3.672789   \n",
       "56                 10.821622               26-35        3.674612   \n",
       "71                  5.601203               36-50        3.478499   \n",
       "...                      ...                 ...             ...   \n",
       "130991              3.459181                 50+        3.051029   \n",
       "131006              8.210937               26-35        4.312745   \n",
       "131021              5.372663                 50+        3.530148   \n",
       "131036              3.386441               36-50        4.904712   \n",
       "131051              8.760218               36-50        3.413382   \n",
       "\n",
       "        Item_Returned  Discount_Amount  Gift_Wrapping_Requested  \\\n",
       "11              False         9.658734                    False   \n",
       "26              False        57.146098                    False   \n",
       "41              False        80.490222                     True   \n",
       "56              False        79.820336                     True   \n",
       "71              False        76.547548                     True   \n",
       "...               ...              ...                      ...   \n",
       "130991          False        10.534726                     True   \n",
       "131006          False        29.815627                    False   \n",
       "131021           True         8.825933                    False   \n",
       "131036          False        19.944306                     True   \n",
       "131051          False        43.678419                     True   \n",
       "\n",
       "        Time_Since_Last_Order  Weather_Severity  Traffic_Congestion_Index  \\\n",
       "11                  26.852074          1.944521                  1.298351   \n",
       "26                  10.757698          0.620857                  0.905051   \n",
       "41                  26.791430          1.267244                  1.578910   \n",
       "56                  24.250765          0.551302                  0.844015   \n",
       "71                  10.168827          0.745243                  1.405398   \n",
       "...                       ...               ...                       ...   \n",
       "130991              13.837943          1.249496                  1.897350   \n",
       "131006               5.941265          1.837516                  1.738034   \n",
       "131021              20.286031          0.576702                  1.997606   \n",
       "131036              16.528246          1.059553                  0.517482   \n",
       "131051               9.275332          1.591587                  1.013702   \n",
       "\n",
       "       Warehouse_Proximity_Score  \n",
       "11                      3.110002  \n",
       "26                      2.803342  \n",
       "41                      1.241782  \n",
       "56                      2.554798  \n",
       "71                      2.866666  \n",
       "...                          ...  \n",
       "130991                  4.317802  \n",
       "131006                  4.384649  \n",
       "131021                  2.301381  \n",
       "131036                  6.757154  \n",
       "131051                  1.031083  \n",
       "\n",
       "[8737 rows x 43 columns]"
      ]
     },
     "execution_count": 8,
     "metadata": {},
     "output_type": "execute_result"
    }
   ],
   "source": [
    "product_data=analysis_data[(analysis_data['Location']=='Indiranagar') &\n",
    "                           (analysis_data['Product']=='Bread')]\n",
    "product_data"
   ]
  },
  {
   "cell_type": "code",
   "execution_count": 11,
   "metadata": {},
   "outputs": [
    {
     "name": "stderr",
     "output_type": "stream",
     "text": [
      "C:\\Users\\vs390\\AppData\\Local\\Temp\\ipykernel_24292\\3754222028.py:2: SettingWithCopyWarning: \n",
      "A value is trying to be set on a copy of a slice from a DataFrame.\n",
      "Try using .loc[row_indexer,col_indexer] = value instead\n",
      "\n",
      "See the caveats in the documentation: https://pandas.pydata.org/pandas-docs/stable/user_guide/indexing.html#returning-a-view-versus-a-copy\n",
      "  product_data['DateTime'] = pd.to_datetime(product_data['DateTime'], errors='coerce')\n",
      "C:\\Users\\vs390\\AppData\\Local\\Temp\\ipykernel_24292\\3754222028.py:3: SettingWithCopyWarning: \n",
      "A value is trying to be set on a copy of a slice from a DataFrame.\n",
      "Try using .loc[row_indexer,col_indexer] = value instead\n",
      "\n",
      "See the caveats in the documentation: https://pandas.pydata.org/pandas-docs/stable/user_guide/indexing.html#returning-a-view-versus-a-copy\n",
      "  product_data.loc[:,'Weekr'] = product_data['DateTime'].dt.isocalendar().week\n",
      "C:\\Users\\vs390\\AppData\\Local\\Temp\\ipykernel_24292\\3754222028.py:4: SettingWithCopyWarning: \n",
      "A value is trying to be set on a copy of a slice from a DataFrame.\n",
      "Try using .loc[row_indexer,col_indexer] = value instead\n",
      "\n",
      "See the caveats in the documentation: https://pandas.pydata.org/pandas-docs/stable/user_guide/indexing.html#returning-a-view-versus-a-copy\n",
      "  product_data.loc[:,'Month'] = product_data['DateTime'].dt.month_name()\n",
      "C:\\Users\\vs390\\AppData\\Local\\Temp\\ipykernel_24292\\3754222028.py:5: SettingWithCopyWarning: \n",
      "A value is trying to be set on a copy of a slice from a DataFrame.\n",
      "Try using .loc[row_indexer,col_indexer] = value instead\n",
      "\n",
      "See the caveats in the documentation: https://pandas.pydata.org/pandas-docs/stable/user_guide/indexing.html#returning-a-view-versus-a-copy\n",
      "  product_data.loc[:,'Season'] = (product_data['DateTime'].dt.month % 12 // 3 + 1).map({1: 'Winter', 2: 'Spring', 3: 'Summer', 4: 'Fall'})\n",
      "C:\\Users\\vs390\\AppData\\Local\\Temp\\ipykernel_24292\\3754222028.py:6: SettingWithCopyWarning: \n",
      "A value is trying to be set on a copy of a slice from a DataFrame.\n",
      "Try using .loc[row_indexer,col_indexer] = value instead\n",
      "\n",
      "See the caveats in the documentation: https://pandas.pydata.org/pandas-docs/stable/user_guide/indexing.html#returning-a-view-versus-a-copy\n",
      "  product_data.loc[:,'Minute'] = product_data['DateTime'].dt.minute\n"
     ]
    },
    {
     "data": {
      "text/html": [
       "<div>\n",
       "<style scoped>\n",
       "    .dataframe tbody tr th:only-of-type {\n",
       "        vertical-align: middle;\n",
       "    }\n",
       "\n",
       "    .dataframe tbody tr th {\n",
       "        vertical-align: top;\n",
       "    }\n",
       "\n",
       "    .dataframe thead th {\n",
       "        text-align: right;\n",
       "    }\n",
       "</style>\n",
       "<table border=\"1\" class=\"dataframe\">\n",
       "  <thead>\n",
       "    <tr style=\"text-align: right;\">\n",
       "      <th></th>\n",
       "      <th>DateTime</th>\n",
       "      <th>Date</th>\n",
       "      <th>Hour</th>\n",
       "      <th>Day_of_Week</th>\n",
       "      <th>Location</th>\n",
       "      <th>Product</th>\n",
       "      <th>Order_Volume</th>\n",
       "      <th>Weather</th>\n",
       "      <th>Traffic</th>\n",
       "      <th>Is_Holiday</th>\n",
       "      <th>...</th>\n",
       "      <th>Discount_Amount</th>\n",
       "      <th>Gift_Wrapping_Requested</th>\n",
       "      <th>Time_Since_Last_Order</th>\n",
       "      <th>Weather_Severity</th>\n",
       "      <th>Traffic_Congestion_Index</th>\n",
       "      <th>Warehouse_Proximity_Score</th>\n",
       "      <th>Weekr</th>\n",
       "      <th>Month</th>\n",
       "      <th>Season</th>\n",
       "      <th>Minute</th>\n",
       "    </tr>\n",
       "  </thead>\n",
       "  <tbody>\n",
       "    <tr>\n",
       "      <th>11</th>\n",
       "      <td>2023-01-01 00:00:00</td>\n",
       "      <td>2023-01-01</td>\n",
       "      <td>0</td>\n",
       "      <td>Sunday</td>\n",
       "      <td>Indiranagar</td>\n",
       "      <td>Bread</td>\n",
       "      <td>119</td>\n",
       "      <td>Clear</td>\n",
       "      <td>Moderate</td>\n",
       "      <td>0</td>\n",
       "      <td>...</td>\n",
       "      <td>9.658734</td>\n",
       "      <td>False</td>\n",
       "      <td>26.852074</td>\n",
       "      <td>1.944521</td>\n",
       "      <td>1.298351</td>\n",
       "      <td>3.110002</td>\n",
       "      <td>52</td>\n",
       "      <td>January</td>\n",
       "      <td>Winter</td>\n",
       "      <td>0.0</td>\n",
       "    </tr>\n",
       "    <tr>\n",
       "      <th>26</th>\n",
       "      <td>2023-01-01 01:00:00</td>\n",
       "      <td>2023-01-01</td>\n",
       "      <td>1</td>\n",
       "      <td>Sunday</td>\n",
       "      <td>Indiranagar</td>\n",
       "      <td>Bread</td>\n",
       "      <td>112</td>\n",
       "      <td>Cloudy</td>\n",
       "      <td>Low</td>\n",
       "      <td>0</td>\n",
       "      <td>...</td>\n",
       "      <td>57.146098</td>\n",
       "      <td>False</td>\n",
       "      <td>10.757698</td>\n",
       "      <td>0.620857</td>\n",
       "      <td>0.905051</td>\n",
       "      <td>2.803342</td>\n",
       "      <td>52</td>\n",
       "      <td>January</td>\n",
       "      <td>Winter</td>\n",
       "      <td>0.0</td>\n",
       "    </tr>\n",
       "    <tr>\n",
       "      <th>41</th>\n",
       "      <td>2023-01-01 02:00:00</td>\n",
       "      <td>2023-01-01</td>\n",
       "      <td>2</td>\n",
       "      <td>Sunday</td>\n",
       "      <td>Indiranagar</td>\n",
       "      <td>Bread</td>\n",
       "      <td>137</td>\n",
       "      <td>Clear</td>\n",
       "      <td>Moderate</td>\n",
       "      <td>0</td>\n",
       "      <td>...</td>\n",
       "      <td>80.490222</td>\n",
       "      <td>True</td>\n",
       "      <td>26.79143</td>\n",
       "      <td>1.267244</td>\n",
       "      <td>1.57891</td>\n",
       "      <td>1.241782</td>\n",
       "      <td>52</td>\n",
       "      <td>January</td>\n",
       "      <td>Winter</td>\n",
       "      <td>0.0</td>\n",
       "    </tr>\n",
       "    <tr>\n",
       "      <th>56</th>\n",
       "      <td>2023-01-01 03:00:00</td>\n",
       "      <td>2023-01-01</td>\n",
       "      <td>3</td>\n",
       "      <td>Sunday</td>\n",
       "      <td>Indiranagar</td>\n",
       "      <td>Bread</td>\n",
       "      <td>112</td>\n",
       "      <td>Clear</td>\n",
       "      <td>Low</td>\n",
       "      <td>0</td>\n",
       "      <td>...</td>\n",
       "      <td>79.820336</td>\n",
       "      <td>True</td>\n",
       "      <td>24.250765</td>\n",
       "      <td>0.551302</td>\n",
       "      <td>0.844015</td>\n",
       "      <td>2.554798</td>\n",
       "      <td>52</td>\n",
       "      <td>January</td>\n",
       "      <td>Winter</td>\n",
       "      <td>0.0</td>\n",
       "    </tr>\n",
       "    <tr>\n",
       "      <th>71</th>\n",
       "      <td>2023-01-01 04:00:00</td>\n",
       "      <td>2023-01-01</td>\n",
       "      <td>4</td>\n",
       "      <td>Sunday</td>\n",
       "      <td>Indiranagar</td>\n",
       "      <td>Bread</td>\n",
       "      <td>132</td>\n",
       "      <td>Clear</td>\n",
       "      <td>High</td>\n",
       "      <td>0</td>\n",
       "      <td>...</td>\n",
       "      <td>76.547548</td>\n",
       "      <td>True</td>\n",
       "      <td>10.168827</td>\n",
       "      <td>0.745243</td>\n",
       "      <td>1.405398</td>\n",
       "      <td>2.866666</td>\n",
       "      <td>52</td>\n",
       "      <td>January</td>\n",
       "      <td>Winter</td>\n",
       "      <td>0.0</td>\n",
       "    </tr>\n",
       "    <tr>\n",
       "      <th>...</th>\n",
       "      <td>...</td>\n",
       "      <td>...</td>\n",
       "      <td>...</td>\n",
       "      <td>...</td>\n",
       "      <td>...</td>\n",
       "      <td>...</td>\n",
       "      <td>...</td>\n",
       "      <td>...</td>\n",
       "      <td>...</td>\n",
       "      <td>...</td>\n",
       "      <td>...</td>\n",
       "      <td>...</td>\n",
       "      <td>...</td>\n",
       "      <td>...</td>\n",
       "      <td>...</td>\n",
       "      <td>...</td>\n",
       "      <td>...</td>\n",
       "      <td>...</td>\n",
       "      <td>...</td>\n",
       "      <td>...</td>\n",
       "      <td>...</td>\n",
       "    </tr>\n",
       "    <tr>\n",
       "      <th>131006</th>\n",
       "      <td>2023-12-30 21:00:00</td>\n",
       "      <td>2023-12-30</td>\n",
       "      <td>21</td>\n",
       "      <td>Saturday</td>\n",
       "      <td>Indiranagar</td>\n",
       "      <td>Bread</td>\n",
       "      <td>159</td>\n",
       "      <td>Rainy</td>\n",
       "      <td>Low</td>\n",
       "      <td>0</td>\n",
       "      <td>...</td>\n",
       "      <td>29.815627</td>\n",
       "      <td>False</td>\n",
       "      <td>5.941265</td>\n",
       "      <td>1.837516</td>\n",
       "      <td>1.738034</td>\n",
       "      <td>4.384649</td>\n",
       "      <td>52</td>\n",
       "      <td>December</td>\n",
       "      <td>Winter</td>\n",
       "      <td>0.0</td>\n",
       "    </tr>\n",
       "    <tr>\n",
       "      <th>131021</th>\n",
       "      <td>2023-12-30 22:00:00</td>\n",
       "      <td>2023-12-30</td>\n",
       "      <td>22</td>\n",
       "      <td>Saturday</td>\n",
       "      <td>Indiranagar</td>\n",
       "      <td>Bread</td>\n",
       "      <td>175</td>\n",
       "      <td>Rainy</td>\n",
       "      <td>Low</td>\n",
       "      <td>0</td>\n",
       "      <td>...</td>\n",
       "      <td>8.825933</td>\n",
       "      <td>False</td>\n",
       "      <td>20.286031</td>\n",
       "      <td>0.576702</td>\n",
       "      <td>1.997606</td>\n",
       "      <td>2.301381</td>\n",
       "      <td>52</td>\n",
       "      <td>December</td>\n",
       "      <td>Winter</td>\n",
       "      <td>0.0</td>\n",
       "    </tr>\n",
       "    <tr>\n",
       "      <th>131036</th>\n",
       "      <td>2023-12-30 23:00:00</td>\n",
       "      <td>2023-12-30</td>\n",
       "      <td>23</td>\n",
       "      <td>Saturday</td>\n",
       "      <td>Indiranagar</td>\n",
       "      <td>Bread</td>\n",
       "      <td>116</td>\n",
       "      <td>Cloudy</td>\n",
       "      <td>Low</td>\n",
       "      <td>0</td>\n",
       "      <td>...</td>\n",
       "      <td>19.944306</td>\n",
       "      <td>True</td>\n",
       "      <td>16.528246</td>\n",
       "      <td>1.059553</td>\n",
       "      <td>0.517482</td>\n",
       "      <td>6.757154</td>\n",
       "      <td>52</td>\n",
       "      <td>December</td>\n",
       "      <td>Winter</td>\n",
       "      <td>0.0</td>\n",
       "    </tr>\n",
       "    <tr>\n",
       "      <th>131051</th>\n",
       "      <td>2023-12-31 00:00:00</td>\n",
       "      <td>2023-12-31</td>\n",
       "      <td>0</td>\n",
       "      <td>Sunday</td>\n",
       "      <td>Indiranagar</td>\n",
       "      <td>Bread</td>\n",
       "      <td>110</td>\n",
       "      <td>Cloudy</td>\n",
       "      <td>Moderate</td>\n",
       "      <td>0</td>\n",
       "      <td>...</td>\n",
       "      <td>43.678419</td>\n",
       "      <td>True</td>\n",
       "      <td>9.275332</td>\n",
       "      <td>1.591587</td>\n",
       "      <td>1.013702</td>\n",
       "      <td>1.031083</td>\n",
       "      <td>52</td>\n",
       "      <td>December</td>\n",
       "      <td>Winter</td>\n",
       "      <td>0.0</td>\n",
       "    </tr>\n",
       "    <tr>\n",
       "      <th>DateTime</th>\n",
       "      <td>NaT</td>\n",
       "      <td>NaN</td>\n",
       "      <td>NaT</td>\n",
       "      <td>NaN</td>\n",
       "      <td>NaN</td>\n",
       "      <td>NaN</td>\n",
       "      <td>NaT</td>\n",
       "      <td>NaN</td>\n",
       "      <td>NaN</td>\n",
       "      <td>NaT</td>\n",
       "      <td>...</td>\n",
       "      <td>NaT</td>\n",
       "      <td>NaT</td>\n",
       "      <td>NaT</td>\n",
       "      <td>NaT</td>\n",
       "      <td>NaT</td>\n",
       "      <td>NaT</td>\n",
       "      <td>&lt;NA&gt;</td>\n",
       "      <td>NaN</td>\n",
       "      <td>NaN</td>\n",
       "      <td>NaN</td>\n",
       "    </tr>\n",
       "  </tbody>\n",
       "</table>\n",
       "<p>8738 rows × 47 columns</p>\n",
       "</div>"
      ],
      "text/plain": [
       "                    DateTime        Date Hour Day_of_Week     Location  \\\n",
       "11       2023-01-01 00:00:00  2023-01-01    0      Sunday  Indiranagar   \n",
       "26       2023-01-01 01:00:00  2023-01-01    1      Sunday  Indiranagar   \n",
       "41       2023-01-01 02:00:00  2023-01-01    2      Sunday  Indiranagar   \n",
       "56       2023-01-01 03:00:00  2023-01-01    3      Sunday  Indiranagar   \n",
       "71       2023-01-01 04:00:00  2023-01-01    4      Sunday  Indiranagar   \n",
       "...                      ...         ...  ...         ...          ...   \n",
       "131006   2023-12-30 21:00:00  2023-12-30   21    Saturday  Indiranagar   \n",
       "131021   2023-12-30 22:00:00  2023-12-30   22    Saturday  Indiranagar   \n",
       "131036   2023-12-30 23:00:00  2023-12-30   23    Saturday  Indiranagar   \n",
       "131051   2023-12-31 00:00:00  2023-12-31    0      Sunday  Indiranagar   \n",
       "DateTime                 NaT         NaN  NaT         NaN          NaN   \n",
       "\n",
       "         Product Order_Volume Weather   Traffic Is_Holiday  ...  \\\n",
       "11         Bread          119   Clear  Moderate          0  ...   \n",
       "26         Bread          112  Cloudy       Low          0  ...   \n",
       "41         Bread          137   Clear  Moderate          0  ...   \n",
       "56         Bread          112   Clear       Low          0  ...   \n",
       "71         Bread          132   Clear      High          0  ...   \n",
       "...          ...          ...     ...       ...        ...  ...   \n",
       "131006     Bread          159   Rainy       Low          0  ...   \n",
       "131021     Bread          175   Rainy       Low          0  ...   \n",
       "131036     Bread          116  Cloudy       Low          0  ...   \n",
       "131051     Bread          110  Cloudy  Moderate          0  ...   \n",
       "DateTime     NaN          NaT     NaN       NaN        NaT  ...   \n",
       "\n",
       "         Discount_Amount Gift_Wrapping_Requested Time_Since_Last_Order  \\\n",
       "11              9.658734                   False             26.852074   \n",
       "26             57.146098                   False             10.757698   \n",
       "41             80.490222                    True              26.79143   \n",
       "56             79.820336                    True             24.250765   \n",
       "71             76.547548                    True             10.168827   \n",
       "...                  ...                     ...                   ...   \n",
       "131006         29.815627                   False              5.941265   \n",
       "131021          8.825933                   False             20.286031   \n",
       "131036         19.944306                    True             16.528246   \n",
       "131051         43.678419                    True              9.275332   \n",
       "DateTime             NaT                     NaT                   NaT   \n",
       "\n",
       "         Weather_Severity Traffic_Congestion_Index Warehouse_Proximity_Score  \\\n",
       "11               1.944521                 1.298351                  3.110002   \n",
       "26               0.620857                 0.905051                  2.803342   \n",
       "41               1.267244                  1.57891                  1.241782   \n",
       "56               0.551302                 0.844015                  2.554798   \n",
       "71               0.745243                 1.405398                  2.866666   \n",
       "...                   ...                      ...                       ...   \n",
       "131006           1.837516                 1.738034                  4.384649   \n",
       "131021           0.576702                 1.997606                  2.301381   \n",
       "131036           1.059553                 0.517482                  6.757154   \n",
       "131051           1.591587                 1.013702                  1.031083   \n",
       "DateTime              NaT                      NaT                       NaT   \n",
       "\n",
       "         Weekr     Month  Season Minute  \n",
       "11          52   January  Winter    0.0  \n",
       "26          52   January  Winter    0.0  \n",
       "41          52   January  Winter    0.0  \n",
       "56          52   January  Winter    0.0  \n",
       "71          52   January  Winter    0.0  \n",
       "...        ...       ...     ...    ...  \n",
       "131006      52  December  Winter    0.0  \n",
       "131021      52  December  Winter    0.0  \n",
       "131036      52  December  Winter    0.0  \n",
       "131051      52  December  Winter    0.0  \n",
       "DateTime  <NA>       NaN     NaN    NaN  \n",
       "\n",
       "[8738 rows x 47 columns]"
      ]
     },
     "execution_count": 11,
     "metadata": {},
     "output_type": "execute_result"
    }
   ],
   "source": [
    "# Assuming product_data is your dataframe and 'DateTime' column is in string format\n",
    "product_data['DateTime'] = pd.to_datetime(product_data['DateTime'], errors='coerce')\n",
    "product_data.loc[:,'Weekr'] = product_data['DateTime'].dt.isocalendar().week\n",
    "product_data.loc[:,'Month'] = product_data['DateTime'].dt.month_name()\n",
    "product_data.loc[:,'Season'] = (product_data['DateTime'].dt.month % 12 // 3 + 1).map({1: 'Winter', 2: 'Spring', 3: 'Summer', 4: 'Fall'})\n",
    "product_data.loc[:,'Minute'] = product_data['DateTime'].dt.minute  \n",
    "product_data"
   ]
  },
  {
   "cell_type": "code",
   "execution_count": 22,
   "metadata": {},
   "outputs": [
    {
     "data": {
      "application/vnd.plotly.v1+json": {
       "config": {
        "plotlyServerURL": "https://plot.ly"
       },
       "data": [
        {
         "alignmentgroup": "True",
         "hovertemplate": "Month=%{x}<br>Total Orders=%{y}<extra></extra>",
         "legendgroup": "",
         "marker": {
          "color": "#636efa",
          "pattern": {
           "shape": ""
          }
         },
         "name": "",
         "offsetgroup": "",
         "orientation": "v",
         "showlegend": false,
         "textposition": "auto",
         "type": "bar",
         "x": [
          "April",
          "August",
          "December",
          "February",
          "January",
          "July",
          "June",
          "March",
          "May",
          "November",
          "October",
          "September"
         ],
         "xaxis": "x",
         "y": [
          136271,
          139096,
          134889,
          126098,
          137944,
          139268,
          134048,
          139454,
          137806,
          135385,
          137810,
          134300
         ],
         "yaxis": "y"
        }
       ],
       "layout": {
        "barmode": "relative",
        "legend": {
         "tracegroupgap": 0
        },
        "template": {
         "data": {
          "bar": [
           {
            "error_x": {
             "color": "#2a3f5f"
            },
            "error_y": {
             "color": "#2a3f5f"
            },
            "marker": {
             "line": {
              "color": "#E5ECF6",
              "width": 0.5
             },
             "pattern": {
              "fillmode": "overlay",
              "size": 10,
              "solidity": 0.2
             }
            },
            "type": "bar"
           }
          ],
          "barpolar": [
           {
            "marker": {
             "line": {
              "color": "#E5ECF6",
              "width": 0.5
             },
             "pattern": {
              "fillmode": "overlay",
              "size": 10,
              "solidity": 0.2
             }
            },
            "type": "barpolar"
           }
          ],
          "carpet": [
           {
            "aaxis": {
             "endlinecolor": "#2a3f5f",
             "gridcolor": "white",
             "linecolor": "white",
             "minorgridcolor": "white",
             "startlinecolor": "#2a3f5f"
            },
            "baxis": {
             "endlinecolor": "#2a3f5f",
             "gridcolor": "white",
             "linecolor": "white",
             "minorgridcolor": "white",
             "startlinecolor": "#2a3f5f"
            },
            "type": "carpet"
           }
          ],
          "choropleth": [
           {
            "colorbar": {
             "outlinewidth": 0,
             "ticks": ""
            },
            "type": "choropleth"
           }
          ],
          "contour": [
           {
            "colorbar": {
             "outlinewidth": 0,
             "ticks": ""
            },
            "colorscale": [
             [
              0,
              "#0d0887"
             ],
             [
              0.1111111111111111,
              "#46039f"
             ],
             [
              0.2222222222222222,
              "#7201a8"
             ],
             [
              0.3333333333333333,
              "#9c179e"
             ],
             [
              0.4444444444444444,
              "#bd3786"
             ],
             [
              0.5555555555555556,
              "#d8576b"
             ],
             [
              0.6666666666666666,
              "#ed7953"
             ],
             [
              0.7777777777777778,
              "#fb9f3a"
             ],
             [
              0.8888888888888888,
              "#fdca26"
             ],
             [
              1,
              "#f0f921"
             ]
            ],
            "type": "contour"
           }
          ],
          "contourcarpet": [
           {
            "colorbar": {
             "outlinewidth": 0,
             "ticks": ""
            },
            "type": "contourcarpet"
           }
          ],
          "heatmap": [
           {
            "colorbar": {
             "outlinewidth": 0,
             "ticks": ""
            },
            "colorscale": [
             [
              0,
              "#0d0887"
             ],
             [
              0.1111111111111111,
              "#46039f"
             ],
             [
              0.2222222222222222,
              "#7201a8"
             ],
             [
              0.3333333333333333,
              "#9c179e"
             ],
             [
              0.4444444444444444,
              "#bd3786"
             ],
             [
              0.5555555555555556,
              "#d8576b"
             ],
             [
              0.6666666666666666,
              "#ed7953"
             ],
             [
              0.7777777777777778,
              "#fb9f3a"
             ],
             [
              0.8888888888888888,
              "#fdca26"
             ],
             [
              1,
              "#f0f921"
             ]
            ],
            "type": "heatmap"
           }
          ],
          "heatmapgl": [
           {
            "colorbar": {
             "outlinewidth": 0,
             "ticks": ""
            },
            "colorscale": [
             [
              0,
              "#0d0887"
             ],
             [
              0.1111111111111111,
              "#46039f"
             ],
             [
              0.2222222222222222,
              "#7201a8"
             ],
             [
              0.3333333333333333,
              "#9c179e"
             ],
             [
              0.4444444444444444,
              "#bd3786"
             ],
             [
              0.5555555555555556,
              "#d8576b"
             ],
             [
              0.6666666666666666,
              "#ed7953"
             ],
             [
              0.7777777777777778,
              "#fb9f3a"
             ],
             [
              0.8888888888888888,
              "#fdca26"
             ],
             [
              1,
              "#f0f921"
             ]
            ],
            "type": "heatmapgl"
           }
          ],
          "histogram": [
           {
            "marker": {
             "pattern": {
              "fillmode": "overlay",
              "size": 10,
              "solidity": 0.2
             }
            },
            "type": "histogram"
           }
          ],
          "histogram2d": [
           {
            "colorbar": {
             "outlinewidth": 0,
             "ticks": ""
            },
            "colorscale": [
             [
              0,
              "#0d0887"
             ],
             [
              0.1111111111111111,
              "#46039f"
             ],
             [
              0.2222222222222222,
              "#7201a8"
             ],
             [
              0.3333333333333333,
              "#9c179e"
             ],
             [
              0.4444444444444444,
              "#bd3786"
             ],
             [
              0.5555555555555556,
              "#d8576b"
             ],
             [
              0.6666666666666666,
              "#ed7953"
             ],
             [
              0.7777777777777778,
              "#fb9f3a"
             ],
             [
              0.8888888888888888,
              "#fdca26"
             ],
             [
              1,
              "#f0f921"
             ]
            ],
            "type": "histogram2d"
           }
          ],
          "histogram2dcontour": [
           {
            "colorbar": {
             "outlinewidth": 0,
             "ticks": ""
            },
            "colorscale": [
             [
              0,
              "#0d0887"
             ],
             [
              0.1111111111111111,
              "#46039f"
             ],
             [
              0.2222222222222222,
              "#7201a8"
             ],
             [
              0.3333333333333333,
              "#9c179e"
             ],
             [
              0.4444444444444444,
              "#bd3786"
             ],
             [
              0.5555555555555556,
              "#d8576b"
             ],
             [
              0.6666666666666666,
              "#ed7953"
             ],
             [
              0.7777777777777778,
              "#fb9f3a"
             ],
             [
              0.8888888888888888,
              "#fdca26"
             ],
             [
              1,
              "#f0f921"
             ]
            ],
            "type": "histogram2dcontour"
           }
          ],
          "mesh3d": [
           {
            "colorbar": {
             "outlinewidth": 0,
             "ticks": ""
            },
            "type": "mesh3d"
           }
          ],
          "parcoords": [
           {
            "line": {
             "colorbar": {
              "outlinewidth": 0,
              "ticks": ""
             }
            },
            "type": "parcoords"
           }
          ],
          "pie": [
           {
            "automargin": true,
            "type": "pie"
           }
          ],
          "scatter": [
           {
            "fillpattern": {
             "fillmode": "overlay",
             "size": 10,
             "solidity": 0.2
            },
            "type": "scatter"
           }
          ],
          "scatter3d": [
           {
            "line": {
             "colorbar": {
              "outlinewidth": 0,
              "ticks": ""
             }
            },
            "marker": {
             "colorbar": {
              "outlinewidth": 0,
              "ticks": ""
             }
            },
            "type": "scatter3d"
           }
          ],
          "scattercarpet": [
           {
            "marker": {
             "colorbar": {
              "outlinewidth": 0,
              "ticks": ""
             }
            },
            "type": "scattercarpet"
           }
          ],
          "scattergeo": [
           {
            "marker": {
             "colorbar": {
              "outlinewidth": 0,
              "ticks": ""
             }
            },
            "type": "scattergeo"
           }
          ],
          "scattergl": [
           {
            "marker": {
             "colorbar": {
              "outlinewidth": 0,
              "ticks": ""
             }
            },
            "type": "scattergl"
           }
          ],
          "scattermapbox": [
           {
            "marker": {
             "colorbar": {
              "outlinewidth": 0,
              "ticks": ""
             }
            },
            "type": "scattermapbox"
           }
          ],
          "scatterpolar": [
           {
            "marker": {
             "colorbar": {
              "outlinewidth": 0,
              "ticks": ""
             }
            },
            "type": "scatterpolar"
           }
          ],
          "scatterpolargl": [
           {
            "marker": {
             "colorbar": {
              "outlinewidth": 0,
              "ticks": ""
             }
            },
            "type": "scatterpolargl"
           }
          ],
          "scatterternary": [
           {
            "marker": {
             "colorbar": {
              "outlinewidth": 0,
              "ticks": ""
             }
            },
            "type": "scatterternary"
           }
          ],
          "surface": [
           {
            "colorbar": {
             "outlinewidth": 0,
             "ticks": ""
            },
            "colorscale": [
             [
              0,
              "#0d0887"
             ],
             [
              0.1111111111111111,
              "#46039f"
             ],
             [
              0.2222222222222222,
              "#7201a8"
             ],
             [
              0.3333333333333333,
              "#9c179e"
             ],
             [
              0.4444444444444444,
              "#bd3786"
             ],
             [
              0.5555555555555556,
              "#d8576b"
             ],
             [
              0.6666666666666666,
              "#ed7953"
             ],
             [
              0.7777777777777778,
              "#fb9f3a"
             ],
             [
              0.8888888888888888,
              "#fdca26"
             ],
             [
              1,
              "#f0f921"
             ]
            ],
            "type": "surface"
           }
          ],
          "table": [
           {
            "cells": {
             "fill": {
              "color": "#EBF0F8"
             },
             "line": {
              "color": "white"
             }
            },
            "header": {
             "fill": {
              "color": "#C8D4E3"
             },
             "line": {
              "color": "white"
             }
            },
            "type": "table"
           }
          ]
         },
         "layout": {
          "annotationdefaults": {
           "arrowcolor": "#2a3f5f",
           "arrowhead": 0,
           "arrowwidth": 1
          },
          "autotypenumbers": "strict",
          "coloraxis": {
           "colorbar": {
            "outlinewidth": 0,
            "ticks": ""
           }
          },
          "colorscale": {
           "diverging": [
            [
             0,
             "#8e0152"
            ],
            [
             0.1,
             "#c51b7d"
            ],
            [
             0.2,
             "#de77ae"
            ],
            [
             0.3,
             "#f1b6da"
            ],
            [
             0.4,
             "#fde0ef"
            ],
            [
             0.5,
             "#f7f7f7"
            ],
            [
             0.6,
             "#e6f5d0"
            ],
            [
             0.7,
             "#b8e186"
            ],
            [
             0.8,
             "#7fbc41"
            ],
            [
             0.9,
             "#4d9221"
            ],
            [
             1,
             "#276419"
            ]
           ],
           "sequential": [
            [
             0,
             "#0d0887"
            ],
            [
             0.1111111111111111,
             "#46039f"
            ],
            [
             0.2222222222222222,
             "#7201a8"
            ],
            [
             0.3333333333333333,
             "#9c179e"
            ],
            [
             0.4444444444444444,
             "#bd3786"
            ],
            [
             0.5555555555555556,
             "#d8576b"
            ],
            [
             0.6666666666666666,
             "#ed7953"
            ],
            [
             0.7777777777777778,
             "#fb9f3a"
            ],
            [
             0.8888888888888888,
             "#fdca26"
            ],
            [
             1,
             "#f0f921"
            ]
           ],
           "sequentialminus": [
            [
             0,
             "#0d0887"
            ],
            [
             0.1111111111111111,
             "#46039f"
            ],
            [
             0.2222222222222222,
             "#7201a8"
            ],
            [
             0.3333333333333333,
             "#9c179e"
            ],
            [
             0.4444444444444444,
             "#bd3786"
            ],
            [
             0.5555555555555556,
             "#d8576b"
            ],
            [
             0.6666666666666666,
             "#ed7953"
            ],
            [
             0.7777777777777778,
             "#fb9f3a"
            ],
            [
             0.8888888888888888,
             "#fdca26"
            ],
            [
             1,
             "#f0f921"
            ]
           ]
          },
          "colorway": [
           "#636efa",
           "#EF553B",
           "#00cc96",
           "#ab63fa",
           "#FFA15A",
           "#19d3f3",
           "#FF6692",
           "#B6E880",
           "#FF97FF",
           "#FECB52"
          ],
          "font": {
           "color": "#2a3f5f"
          },
          "geo": {
           "bgcolor": "white",
           "lakecolor": "white",
           "landcolor": "#E5ECF6",
           "showlakes": true,
           "showland": true,
           "subunitcolor": "white"
          },
          "hoverlabel": {
           "align": "left"
          },
          "hovermode": "closest",
          "mapbox": {
           "style": "light"
          },
          "paper_bgcolor": "white",
          "plot_bgcolor": "#E5ECF6",
          "polar": {
           "angularaxis": {
            "gridcolor": "white",
            "linecolor": "white",
            "ticks": ""
           },
           "bgcolor": "#E5ECF6",
           "radialaxis": {
            "gridcolor": "white",
            "linecolor": "white",
            "ticks": ""
           }
          },
          "scene": {
           "xaxis": {
            "backgroundcolor": "#E5ECF6",
            "gridcolor": "white",
            "gridwidth": 2,
            "linecolor": "white",
            "showbackground": true,
            "ticks": "",
            "zerolinecolor": "white"
           },
           "yaxis": {
            "backgroundcolor": "#E5ECF6",
            "gridcolor": "white",
            "gridwidth": 2,
            "linecolor": "white",
            "showbackground": true,
            "ticks": "",
            "zerolinecolor": "white"
           },
           "zaxis": {
            "backgroundcolor": "#E5ECF6",
            "gridcolor": "white",
            "gridwidth": 2,
            "linecolor": "white",
            "showbackground": true,
            "ticks": "",
            "zerolinecolor": "white"
           }
          },
          "shapedefaults": {
           "line": {
            "color": "#2a3f5f"
           }
          },
          "ternary": {
           "aaxis": {
            "gridcolor": "white",
            "linecolor": "white",
            "ticks": ""
           },
           "baxis": {
            "gridcolor": "white",
            "linecolor": "white",
            "ticks": ""
           },
           "bgcolor": "#E5ECF6",
           "caxis": {
            "gridcolor": "white",
            "linecolor": "white",
            "ticks": ""
           }
          },
          "title": {
           "x": 0.05
          },
          "xaxis": {
           "automargin": true,
           "gridcolor": "white",
           "linecolor": "white",
           "ticks": "",
           "title": {
            "standoff": 15
           },
           "zerolinecolor": "white",
           "zerolinewidth": 2
          },
          "yaxis": {
           "automargin": true,
           "gridcolor": "white",
           "linecolor": "white",
           "ticks": "",
           "title": {
            "standoff": 15
           },
           "zerolinecolor": "white",
           "zerolinewidth": 2
          }
         }
        },
        "title": {
         "text": "Monthly Order Volume"
        },
        "xaxis": {
         "anchor": "y",
         "domain": [
          0,
          1
         ],
         "title": {
          "text": "Month"
         }
        },
        "yaxis": {
         "anchor": "x",
         "domain": [
          0,
          1
         ],
         "title": {
          "text": "Total Orders"
         }
        }
       }
      }
     },
     "metadata": {},
     "output_type": "display_data"
    }
   ],
   "source": [
    "# Monthly Order Volume Analysis\n",
    "monthly_order_volume = product_data.groupby('Month')['Order_Volume'].sum().reset_index()\n",
    "# Plotting Monthly Order Volume\n",
    "fig = px.bar(monthly_order_volume, x='Month', y='Order_Volume', title='Monthly Order Volume', \n",
    "             labels={'Order_Volume': 'Total Orders'})\n",
    "fig.show()"
   ]
  },
  {
   "cell_type": "code",
   "execution_count": 23,
   "metadata": {},
   "outputs": [
    {
     "data": {
      "image/png": "[encoded data removed]",
      "text/plain": [
       "<Figure size 1000x600 with 1 Axes>"
      ]
     },
     "metadata": {},
     "output_type": "display_data"
    }
   ],
   "source": [
    "# Hourly Order Volume Analysis using Seaborn\n",
    "hourly_order_volume = product_data.groupby('Hour')['Order_Volume'].sum().reset_index()\n",
    "# Plotting Hourly Order Volume \n",
    "plt.figure(figsize=(10,6))\n",
    "sns.lineplot(x='Hour', y='Order_Volume', data=hourly_order_volume, marker='o', color='b')\n",
    "plt.title('Hourly Order Volume')\n",
    "plt.xlabel('Hour of Day')\n",
    "plt.ylabel('Total Orders')\n",
    "plt.grid(True)\n",
    "plt.show()"
   ]
  },
  {
   "cell_type": "code",
   "execution_count": 24,
   "metadata": {},
   "outputs": [
    {
     "data": {
      "application/vnd.plotly.v1+json": {
       "config": {
        "plotlyServerURL": "https://plot.ly"
       },
       "data": [
        {
         "alignmentgroup": "True",
         "hovertemplate": "Promotion (0: No, 1: Yes)=%{x}<br>Average Order Volume=%{y}<extra></extra>",
         "legendgroup": "",
         "marker": {
          "color": "#636efa",
          "pattern": {
           "shape": ""
          }
         },
         "name": "",
         "offsetgroup": "",
         "orientation": "v",
         "showlegend": false,
         "textposition": "auto",
         "type": "bar",
         "x": [
          "Midweek Madness",
          "No_Prmotion",
          "Weekend Bonanza"
         ],
         "xaxis": "x",
         "y": [
          207.93469551282053,
          159.2540064102564,
          207.0953143772527
         ],
         "yaxis": "y"
        }
       ],
       "layout": {
        "barmode": "relative",
        "legend": {
         "tracegroupgap": 0
        },
        "template": {
         "data": {
          "bar": [
           {
            "error_x": {
             "color": "#2a3f5f"
            },
            "error_y": {
             "color": "#2a3f5f"
            },
            "marker": {
             "line": {
              "color": "#E5ECF6",
              "width": 0.5
             },
             "pattern": {
              "fillmode": "overlay",
              "size": 10,
              "solidity": 0.2
             }
            },
            "type": "bar"
           }
          ],
          "barpolar": [
           {
            "marker": {
             "line": {
              "color": "#E5ECF6",
              "width": 0.5
             },
             "pattern": {
              "fillmode": "overlay",
              "size": 10,
              "solidity": 0.2
             }
            },
            "type": "barpolar"
           }
          ],
          "carpet": [
           {
            "aaxis": {
             "endlinecolor": "#2a3f5f",
             "gridcolor": "white",
             "linecolor": "white",
             "minorgridcolor": "white",
             "startlinecolor": "#2a3f5f"
            },
            "baxis": {
             "endlinecolor": "#2a3f5f",
             "gridcolor": "white",
             "linecolor": "white",
             "minorgridcolor": "white",
             "startlinecolor": "#2a3f5f"
            },
            "type": "carpet"
           }
          ],
          "choropleth": [
           {
            "colorbar": {
             "outlinewidth": 0,
             "ticks": ""
            },
            "type": "choropleth"
           }
          ],
          "contour": [
           {
            "colorbar": {
             "outlinewidth": 0,
             "ticks": ""
            },
            "colorscale": [
             [
              0,
              "#0d0887"
             ],
             [
              0.1111111111111111,
              "#46039f"
             ],
             [
              0.2222222222222222,
              "#7201a8"
             ],
             [
              0.3333333333333333,
              "#9c179e"
             ],
             [
              0.4444444444444444,
              "#bd3786"
             ],
             [
              0.5555555555555556,
              "#d8576b"
             ],
             [
              0.6666666666666666,
              "#ed7953"
             ],
             [
              0.7777777777777778,
              "#fb9f3a"
             ],
             [
              0.8888888888888888,
              "#fdca26"
             ],
             [
              1,
              "#f0f921"
             ]
            ],
            "type": "contour"
           }
          ],
          "contourcarpet": [
           {
            "colorbar": {
             "outlinewidth": 0,
             "ticks": ""
            },
            "type": "contourcarpet"
           }
          ],
          "heatmap": [
           {
            "colorbar": {
             "outlinewidth": 0,
             "ticks": ""
            },
            "colorscale": [
             [
              0,
              "#0d0887"
             ],
             [
              0.1111111111111111,
              "#46039f"
             ],
             [
              0.2222222222222222,
              "#7201a8"
             ],
             [
              0.3333333333333333,
              "#9c179e"
             ],
             [
              0.4444444444444444,
              "#bd3786"
             ],
             [
              0.5555555555555556,
              "#d8576b"
             ],
             [
              0.6666666666666666,
              "#ed7953"
             ],
             [
              0.7777777777777778,
              "#fb9f3a"
             ],
             [
              0.8888888888888888,
              "#fdca26"
             ],
             [
              1,
              "#f0f921"
             ]
            ],
            "type": "heatmap"
           }
          ],
          "heatmapgl": [
           {
            "colorbar": {
             "outlinewidth": 0,
             "ticks": ""
            },
            "colorscale": [
             [
              0,
              "#0d0887"
             ],
             [
              0.1111111111111111,
              "#46039f"
             ],
             [
              0.2222222222222222,
              "#7201a8"
             ],
             [
              0.3333333333333333,
              "#9c179e"
             ],
             [
              0.4444444444444444,
              "#bd3786"
             ],
             [
              0.5555555555555556,
              "#d8576b"
             ],
             [
              0.6666666666666666,
              "#ed7953"
             ],
             [
              0.7777777777777778,
              "#fb9f3a"
             ],
             [
              0.8888888888888888,
              "#fdca26"
             ],
             [
              1,
              "#f0f921"
             ]
            ],
            "type": "heatmapgl"
           }
          ],
          "histogram": [
           {
            "marker": {
             "pattern": {
              "fillmode": "overlay",
              "size": 10,
              "solidity": 0.2
             }
            },
            "type": "histogram"
           }
          ],
          "histogram2d": [
           {
            "colorbar": {
             "outlinewidth": 0,
             "ticks": ""
            },
            "colorscale": [
             [
              0,
              "#0d0887"
             ],
             [
              0.1111111111111111,
              "#46039f"
             ],
             [
              0.2222222222222222,
              "#7201a8"
             ],
             [
              0.3333333333333333,
              "#9c179e"
             ],
             [
              0.4444444444444444,
              "#bd3786"
             ],
             [
              0.5555555555555556,
              "#d8576b"
             ],
             [
              0.6666666666666666,
              "#ed7953"
             ],
             [
              0.7777777777777778,
              "#fb9f3a"
             ],
             [
              0.8888888888888888,
              "#fdca26"
             ],
             [
              1,
              "#f0f921"
             ]
            ],
            "type": "histogram2d"
           }
          ],
          "histogram2dcontour": [
           {
            "colorbar": {
             "outlinewidth": 0,
             "ticks": ""
            },
            "colorscale": [
             [
              0,
              "#0d0887"
             ],
             [
              0.1111111111111111,
              "#46039f"
             ],
             [
              0.2222222222222222,
              "#7201a8"
             ],
             [
              0.3333333333333333,
              "#9c179e"
             ],
             [
              0.4444444444444444,
              "#bd3786"
             ],
             [
              0.5555555555555556,
              "#d8576b"
             ],
             [
              0.6666666666666666,
              "#ed7953"
             ],
             [
              0.7777777777777778,
              "#fb9f3a"
             ],
             [
              0.8888888888888888,
              "#fdca26"
             ],
             [
              1,
              "#f0f921"
             ]
            ],
            "type": "histogram2dcontour"
           }
          ],
          "mesh3d": [
           {
            "colorbar": {
             "outlinewidth": 0,
             "ticks": ""
            },
            "type": "mesh3d"
           }
          ],
          "parcoords": [
           {
            "line": {
             "colorbar": {
              "outlinewidth": 0,
              "ticks": ""
             }
            },
            "type": "parcoords"
           }
          ],
          "pie": [
           {
            "automargin": true,
            "type": "pie"
           }
          ],
          "scatter": [
           {
            "fillpattern": {
             "fillmode": "overlay",
             "size": 10,
             "solidity": 0.2
            },
            "type": "scatter"
           }
          ],
          "scatter3d": [
           {
            "line": {
             "colorbar": {
              "outlinewidth": 0,
              "ticks": ""
             }
            },
            "marker": {
             "colorbar": {
              "outlinewidth": 0,
              "ticks": ""
             }
            },
            "type": "scatter3d"
           }
          ],
          "scattercarpet": [
           {
            "marker": {
             "colorbar": {
              "outlinewidth": 0,
              "ticks": ""
             }
            },
            "type": "scattercarpet"
           }
          ],
          "scattergeo": [
           {
            "marker": {
             "colorbar": {
              "outlinewidth": 0,
              "ticks": ""
             }
            },
            "type": "scattergeo"
           }
          ],
          "scattergl": [
           {
            "marker": {
             "colorbar": {
              "outlinewidth": 0,
              "ticks": ""
             }
            },
            "type": "scattergl"
           }
          ],
          "scattermapbox": [
           {
            "marker": {
             "colorbar": {
              "outlinewidth": 0,
              "ticks": ""
             }
            },
            "type": "scattermapbox"
           }
          ],
          "scatterpolar": [
           {
            "marker": {
             "colorbar": {
              "outlinewidth": 0,
              "ticks": ""
             }
            },
            "type": "scatterpolar"
           }
          ],
          "scatterpolargl": [
           {
            "marker": {
             "colorbar": {
              "outlinewidth": 0,
              "ticks": ""
             }
            },
            "type": "scatterpolargl"
           }
          ],
          "scatterternary": [
           {
            "marker": {
             "colorbar": {
              "outlinewidth": 0,
              "ticks": ""
             }
            },
            "type": "scatterternary"
           }
          ],
          "surface": [
           {
            "colorbar": {
             "outlinewidth": 0,
             "ticks": ""
            },
            "colorscale": [
             [
              0,
              "#0d0887"
             ],
             [
              0.1111111111111111,
              "#46039f"
             ],
             [
              0.2222222222222222,
              "#7201a8"
             ],
             [
              0.3333333333333333,
              "#9c179e"
             ],
             [
              0.4444444444444444,
              "#bd3786"
             ],
             [
              0.5555555555555556,
              "#d8576b"
             ],
             [
              0.6666666666666666,
              "#ed7953"
             ],
             [
              0.7777777777777778,
              "#fb9f3a"
             ],
             [
              0.8888888888888888,
              "#fdca26"
             ],
             [
              1,
              "#f0f921"
             ]
            ],
            "type": "surface"
           }
          ],
          "table": [
           {
            "cells": {
             "fill": {
              "color": "#EBF0F8"
             },
             "line": {
              "color": "white"
             }
            },
            "header": {
             "fill": {
              "color": "#C8D4E3"
             },
             "line": {
              "color": "white"
             }
            },
            "type": "table"
           }
          ]
         },
         "layout": {
          "annotationdefaults": {
           "arrowcolor": "#2a3f5f",
           "arrowhead": 0,
           "arrowwidth": 1
          },
          "autotypenumbers": "strict",
          "coloraxis": {
           "colorbar": {
            "outlinewidth": 0,
            "ticks": ""
           }
          },
          "colorscale": {
           "diverging": [
            [
             0,
             "#8e0152"
            ],
            [
             0.1,
             "#c51b7d"
            ],
            [
             0.2,
             "#de77ae"
            ],
            [
             0.3,
             "#f1b6da"
            ],
            [
             0.4,
             "#fde0ef"
            ],
            [
             0.5,
             "#f7f7f7"
            ],
            [
             0.6,
             "#e6f5d0"
            ],
            [
             0.7,
             "#b8e186"
            ],
            [
             0.8,
             "#7fbc41"
            ],
            [
             0.9,
             "#4d9221"
            ],
            [
             1,
             "#276419"
            ]
           ],
           "sequential": [
            [
             0,
             "#0d0887"
            ],
            [
             0.1111111111111111,
             "#46039f"
            ],
            [
             0.2222222222222222,
             "#7201a8"
            ],
            [
             0.3333333333333333,
             "#9c179e"
            ],
            [
             0.4444444444444444,
             "#bd3786"
            ],
            [
             0.5555555555555556,
             "#d8576b"
            ],
            [
             0.6666666666666666,
             "#ed7953"
            ],
            [
             0.7777777777777778,
             "#fb9f3a"
            ],
            [
             0.8888888888888888,
             "#fdca26"
            ],
            [
             1,
             "#f0f921"
            ]
           ],
           "sequentialminus": [
            [
             0,
             "#0d0887"
            ],
            [
             0.1111111111111111,
             "#46039f"
            ],
            [
             0.2222222222222222,
             "#7201a8"
            ],
            [
             0.3333333333333333,
             "#9c179e"
            ],
            [
             0.4444444444444444,
             "#bd3786"
            ],
            [
             0.5555555555555556,
             "#d8576b"
            ],
            [
             0.6666666666666666,
             "#ed7953"
            ],
            [
             0.7777777777777778,
             "#fb9f3a"
            ],
            [
             0.8888888888888888,
             "#fdca26"
            ],
            [
             1,
             "#f0f921"
            ]
           ]
          },
          "colorway": [
           "#636efa",
           "#EF553B",
           "#00cc96",
           "#ab63fa",
           "#FFA15A",
           "#19d3f3",
           "#FF6692",
           "#B6E880",
           "#FF97FF",
           "#FECB52"
          ],
          "font": {
           "color": "#2a3f5f"
          },
          "geo": {
           "bgcolor": "white",
           "lakecolor": "white",
           "landcolor": "#E5ECF6",
           "showlakes": true,
           "showland": true,
           "subunitcolor": "white"
          },
          "hoverlabel": {
           "align": "left"
          },
          "hovermode": "closest",
          "mapbox": {
           "style": "light"
          },
          "paper_bgcolor": "white",
          "plot_bgcolor": "#E5ECF6",
          "polar": {
           "angularaxis": {
            "gridcolor": "white",
            "linecolor": "white",
            "ticks": ""
           },
           "bgcolor": "#E5ECF6",
           "radialaxis": {
            "gridcolor": "white",
            "linecolor": "white",
            "ticks": ""
           }
          },
          "scene": {
           "xaxis": {
            "backgroundcolor": "#E5ECF6",
            "gridcolor": "white",
            "gridwidth": 2,
            "linecolor": "white",
            "showbackground": true,
            "ticks": "",
            "zerolinecolor": "white"
           },
           "yaxis": {
            "backgroundcolor": "#E5ECF6",
            "gridcolor": "white",
            "gridwidth": 2,
            "linecolor": "white",
            "showbackground": true,
            "ticks": "",
            "zerolinecolor": "white"
           },
           "zaxis": {
            "backgroundcolor": "#E5ECF6",
            "gridcolor": "white",
            "gridwidth": 2,
            "linecolor": "white",
            "showbackground": true,
            "ticks": "",
            "zerolinecolor": "white"
           }
          },
          "shapedefaults": {
           "line": {
            "color": "#2a3f5f"
           }
          },
          "ternary": {
           "aaxis": {
            "gridcolor": "white",
            "linecolor": "white",
            "ticks": ""
           },
           "baxis": {
            "gridcolor": "white",
            "linecolor": "white",
            "ticks": ""
           },
           "bgcolor": "#E5ECF6",
           "caxis": {
            "gridcolor": "white",
            "linecolor": "white",
            "ticks": ""
           }
          },
          "title": {
           "x": 0.05
          },
          "xaxis": {
           "automargin": true,
           "gridcolor": "white",
           "linecolor": "white",
           "ticks": "",
           "title": {
            "standoff": 15
           },
           "zerolinecolor": "white",
           "zerolinewidth": 2
          },
          "yaxis": {
           "automargin": true,
           "gridcolor": "white",
           "linecolor": "white",
           "ticks": "",
           "title": {
            "standoff": 15
           },
           "zerolinecolor": "white",
           "zerolinewidth": 2
          }
         }
        },
        "title": {
         "text": "Effect of Promotions on Orders"
        },
        "xaxis": {
         "anchor": "y",
         "domain": [
          0,
          1
         ],
         "title": {
          "text": "Promotion (0: No, 1: Yes)"
         }
        },
        "yaxis": {
         "anchor": "x",
         "domain": [
          0,
          1
         ],
         "title": {
          "text": "Average Order Volume"
         }
        }
       }
      }
     },
     "metadata": {},
     "output_type": "display_data"
    }
   ],
   "source": [
    "#Promotion Impact Analysis \n",
    "promotion_impact = product_data.groupby('Promotion')['Order_Volume'].mean().reset_index()\n",
    "\n",
    "# Plotting Promotion Impact \n",
    "fig = px.bar(promotion_impact, x='Promotion', y='Order_Volume', title='Effect of Promotions on Orders', \n",
    "             labels={'Promotion': 'Promotion (0: No, 1: Yes)', 'Order_Volume': 'Average Order Volume'})\n",
    "fig.show()"
   ]
  },
  {
   "cell_type": "code",
   "execution_count": 25,
   "metadata": {},
   "outputs": [
    {
     "data": {
      "image/png": "[encoded data removed]",
      "text/plain": [
       "<Figure size 1000x600 with 1 Axes>"
      ]
     },
     "metadata": {},
     "output_type": "display_data"
    }
   ],
   "source": [
    "#Seasonal Demand Effect on Order Volume \n",
    "seasonal_demand_effect = product_data.groupby('Seasonal_Demand_Factor')['Order_Volume'].mean().reset_index()\n",
    "\n",
    "# Plotting Seasonal Demand Effect \n",
    "plt.figure(figsize=(10,6))\n",
    "plt.plot(seasonal_demand_effect['Seasonal_Demand_Factor'], seasonal_demand_effect['Order_Volume'], marker='o', color='r')\n",
    "plt.title('Seasonal Demand Effect on Order Volume')\n",
    "plt.xlabel('Seasonal Demand Factor')\n",
    "plt.ylabel('Average Order Volume')\n",
    "plt.grid(True)\n",
    "plt.show()"
   ]
  },
  {
   "cell_type": "code",
   "execution_count": 26,
   "metadata": {},
   "outputs": [
    {
     "data": {
      "image/png": "[encoded data removed]",
      "text/plain": [
       "<Figure size 1000x600 with 1 Axes>"
      ]
     },
     "metadata": {},
     "output_type": "display_data"
    }
   ],
   "source": [
    "#Promotion and Traffic Interaction on Order Volume \n",
    "promotion_traffic_impact = product_data.groupby(['Promotion', 'Traffic'])['Order_Volume'].sum().reset_index()\n",
    "\n",
    "# Plotting Promotion vs Traffic Impact \n",
    "plt.figure(figsize=(10,6))\n",
    "sns.barplot(x='Traffic', y='Order_Volume', hue='Promotion', data=promotion_traffic_impact, palette='viridis')\n",
    "plt.title('Promotion and Traffic Impact on Order Volume')\n",
    "plt.xlabel('Traffic Level')\n",
    "plt.ylabel('Total Order Volume')\n",
    "plt.grid(True)\n",
    "plt.show()"
   ]
  },
  {
   "cell_type": "code",
   "execution_count": 27,
   "metadata": {},
   "outputs": [
    {
     "data": {
      "application/vnd.plotly.v1+json": {
       "config": {
        "plotlyServerURL": "https://plot.ly"
       },
       "data": [
        {
         "hovertemplate": "Date=%{x}<br>Total Orders=%{y}<extra></extra>",
         "legendgroup": "",
         "line": {
          "color": "#636efa",
          "dash": "solid"
         },
         "marker": {
          "symbol": "circle"
         },
         "mode": "lines",
         "name": "",
         "orientation": "v",
         "showlegend": false,
         "type": "scatter",
         "x": [
          "2023-01-01",
          "2023-01-02",
          "2023-01-03",
          "2023-01-04",
          "2023-01-05",
          "2023-01-06",
          "2023-01-07",
          "2023-01-08",
          "2023-01-09",
          "2023-01-10",
          "2023-01-11",
          "2023-01-12",
          "2023-01-13",
          "2023-01-14",
          "2023-01-15",
          "2023-01-16",
          "2023-01-17",
          "2023-01-18",
          "2023-01-19",
          "2023-01-20",
          "2023-01-21",
          "2023-01-22",
          "2023-01-23",
          "2023-01-24",
          "2023-01-25",
          "2023-01-26",
          "2023-01-27",
          "2023-01-28",
          "2023-01-29",
          "2023-01-30",
          "2023-01-31",
          "2023-02-01",
          "2023-02-02",
          "2023-02-03",
          "2023-02-04",
          "2023-02-05",
          "2023-02-06",
          "2023-02-07",
          "2023-02-08",
          "2023-02-09",
          "2023-02-10",
          "2023-02-11",
          "2023-02-12",
          "2023-02-13",
          "2023-02-14",
          "2023-02-15",
          "2023-02-16",
          "2023-02-17",
          "2023-02-18",
          "2023-02-19",
          "2023-02-20",
          "2023-02-21",
          "2023-02-22",
          "2023-02-23",
          "2023-02-24",
          "2023-02-25",
          "2023-02-26",
          "2023-02-27",
          "2023-02-28",
          "2023-03-01",
          "2023-03-02",
          "2023-03-03",
          "2023-03-04",
          "2023-03-05",
          "2023-03-06",
          "2023-03-07",
          "2023-03-08",
          "2023-03-09",
          "2023-03-10",
          "2023-03-11",
          "2023-03-12",
          "2023-03-13",
          "2023-03-14",
          "2023-03-15",
          "2023-03-16",
          "2023-03-17",
          "2023-03-18",
          "2023-03-19",
          "2023-03-20",
          "2023-03-21",
          "2023-03-22",
          "2023-03-23",
          "2023-03-24",
          "2023-03-25",
          "2023-03-26",
          "2023-03-27",
          "2023-03-28",
          "2023-03-29",
          "2023-03-30",
          "2023-03-31",
          "2023-04-01",
          "2023-04-02",
          "2023-04-03",
          "2023-04-04",
          "2023-04-05",
          "2023-04-06",
          "2023-04-07",
          "2023-04-08",
          "2023-04-09",
          "2023-04-10",
          "2023-04-11",
          "2023-04-12",
          "2023-04-13",
          "2023-04-14",
          "2023-04-15",
          "2023-04-16",
          "2023-04-17",
          "2023-04-18",
          "2023-04-19",
          "2023-04-20",
          "2023-04-21",
          "2023-04-22",
          "2023-04-23",
          "2023-04-24",
          "2023-04-25",
          "2023-04-26",
          "2023-04-27",
          "2023-04-28",
          "2023-04-29",
          "2023-04-30",
          "2023-05-01",
          "2023-05-02",
          "2023-05-03",
          "2023-05-04",
          "2023-05-05",
          "2023-05-06",
          "2023-05-07",
          "2023-05-08",
          "2023-05-09",
          "2023-05-10",
          "2023-05-11",
          "2023-05-12",
          "2023-05-13",
          "2023-05-14",
          "2023-05-15",
          "2023-05-16",
          "2023-05-17",
          "2023-05-18",
          "2023-05-19",
          "2023-05-20",
          "2023-05-21",
          "2023-05-22",
          "2023-05-23",
          "2023-05-24",
          "2023-05-25",
          "2023-05-26",
          "2023-05-27",
          "2023-05-28",
          "2023-05-29",
          "2023-05-30",
          "2023-05-31",
          "2023-06-01",
          "2023-06-02",
          "2023-06-03",
          "2023-06-04",
          "2023-06-05",
          "2023-06-06",
          "2023-06-07",
          "2023-06-08",
          "2023-06-09",
          "2023-06-10",
          "2023-06-11",
          "2023-06-12",
          "2023-06-13",
          "2023-06-14",
          "2023-06-15",
          "2023-06-16",
          "2023-06-17",
          "2023-06-18",
          "2023-06-19",
          "2023-06-20",
          "2023-06-21",
          "2023-06-22",
          "2023-06-23",
          "2023-06-24",
          "2023-06-25",
          "2023-06-26",
          "2023-06-27",
          "2023-06-28",
          "2023-06-29",
          "2023-06-30",
          "2023-07-01",
          "2023-07-02",
          "2023-07-03",
          "2023-07-04",
          "2023-07-05",
          "2023-07-06",
          "2023-07-07",
          "2023-07-08",
          "2023-07-09",
          "2023-07-10",
          "2023-07-11",
          "2023-07-12",
          "2023-07-13",
          "2023-07-14",
          "2023-07-15",
          "2023-07-16",
          "2023-07-17",
          "2023-07-18",
          "2023-07-19",
          "2023-07-20",
          "2023-07-21",
          "2023-07-22",
          "2023-07-23",
          "2023-07-24",
          "2023-07-25",
          "2023-07-26",
          "2023-07-27",
          "2023-07-28",
          "2023-07-29",
          "2023-07-30",
          "2023-07-31",
          "2023-08-01",
          "2023-08-02",
          "2023-08-03",
          "2023-08-04",
          "2023-08-05",
          "2023-08-06",
          "2023-08-07",
          "2023-08-08",
          "2023-08-09",
          "2023-08-10",
          "2023-08-11",
          "2023-08-12",
          "2023-08-13",
          "2023-08-14",
          "2023-08-15",
          "2023-08-16",
          "2023-08-17",
          "2023-08-18",
          "2023-08-19",
          "2023-08-20",
          "2023-08-21",
          "2023-08-22",
          "2023-08-23",
          "2023-08-24",
          "2023-08-25",
          "2023-08-26",
          "2023-08-27",
          "2023-08-28",
          "2023-08-29",
          "2023-08-30",
          "2023-08-31",
          "2023-09-01",
          "2023-09-02",
          "2023-09-03",
          "2023-09-04",
          "2023-09-05",
          "2023-09-06",
          "2023-09-07",
          "2023-09-08",
          "2023-09-09",
          "2023-09-10",
          "2023-09-11",
          "2023-09-12",
          "2023-09-13",
          "2023-09-14",
          "2023-09-15",
          "2023-09-16",
          "2023-09-17",
          "2023-09-18",
          "2023-09-19",
          "2023-09-20",
          "2023-09-21",
          "2023-09-22",
          "2023-09-23",
          "2023-09-24",
          "2023-09-25",
          "2023-09-26",
          "2023-09-27",
          "2023-09-28",
          "2023-09-29",
          "2023-09-30",
          "2023-10-01",
          "2023-10-02",
          "2023-10-03",
          "2023-10-04",
          "2023-10-05",
          "2023-10-06",
          "2023-10-07",
          "2023-10-08",
          "2023-10-09",
          "2023-10-10",
          "2023-10-11",
          "2023-10-12",
          "2023-10-13",
          "2023-10-14",
          "2023-10-15",
          "2023-10-16",
          "2023-10-17",
          "2023-10-18",
          "2023-10-19",
          "2023-10-20",
          "2023-10-21",
          "2023-10-22",
          "2023-10-23",
          "2023-10-24",
          "2023-10-25",
          "2023-10-26",
          "2023-10-27",
          "2023-10-28",
          "2023-10-29",
          "2023-10-30",
          "2023-10-31",
          "2023-11-01",
          "2023-11-02",
          "2023-11-03",
          "2023-11-04",
          "2023-11-05",
          "2023-11-06",
          "2023-11-07",
          "2023-11-08",
          "2023-11-09",
          "2023-11-10",
          "2023-11-11",
          "2023-11-12",
          "2023-11-13",
          "2023-11-14",
          "2023-11-15",
          "2023-11-16",
          "2023-11-17",
          "2023-11-18",
          "2023-11-19",
          "2023-11-20",
          "2023-11-21",
          "2023-11-22",
          "2023-11-23",
          "2023-11-24",
          "2023-11-25",
          "2023-11-26",
          "2023-11-27",
          "2023-11-28",
          "2023-11-29",
          "2023-11-30",
          "2023-12-01",
          "2023-12-02",
          "2023-12-03",
          "2023-12-04",
          "2023-12-05",
          "2023-12-06",
          "2023-12-07",
          "2023-12-08",
          "2023-12-09",
          "2023-12-10",
          "2023-12-11",
          "2023-12-12",
          "2023-12-13",
          "2023-12-14",
          "2023-12-15",
          "2023-12-16",
          "2023-12-17",
          "2023-12-18",
          "2023-12-19",
          "2023-12-20",
          "2023-12-21",
          "2023-12-22",
          "2023-12-23",
          "2023-12-24",
          "2023-12-25",
          "2023-12-26",
          "2023-12-27",
          "2023-12-28",
          "2023-12-29",
          "2023-12-30",
          "2023-12-31"
         ],
         "xaxis": "x",
         "y": [
          4937,
          3843,
          3680,
          5087,
          5181,
          3881,
          4798,
          5007,
          3725,
          3779,
          4783,
          4988,
          3794,
          5103,
          4869,
          3915,
          3828,
          5107,
          5056,
          3838,
          4911,
          4957,
          3808,
          3755,
          5093,
          4904,
          3879,
          4970,
          4886,
          3854,
          3728,
          4878,
          5168,
          3856,
          4980,
          5150,
          3830,
          3919,
          5000,
          5026,
          3877,
          4874,
          5031,
          3810,
          4029,
          5043,
          4996,
          3852,
          4846,
          4812,
          3925,
          3832,
          5187,
          4917,
          3823,
          4909,
          4753,
          3899,
          3876,
          5006,
          4957,
          3655,
          4887,
          4910,
          3693,
          3921,
          4960,
          4836,
          3748,
          5308,
          5100,
          3678,
          3549,
          5013,
          4872,
          3840,
          4996,
          5135,
          4039,
          3729,
          5026,
          5098,
          3974,
          4951,
          5153,
          4022,
          3773,
          5030,
          4839,
          3756,
          5023,
          5235,
          4035,
          3824,
          5024,
          5233,
          3899,
          4972,
          4930,
          3778,
          3845,
          5217,
          4723,
          3807,
          4963,
          4996,
          3864,
          3769,
          4722,
          5089,
          3917,
          5027,
          5074,
          4023,
          3939,
          4886,
          5076,
          3708,
          4883,
          4790,
          3715,
          3929,
          4910,
          4805,
          3721,
          4921,
          4958,
          3724,
          3861,
          4738,
          5294,
          3632,
          4859,
          4979,
          3975,
          3808,
          4986,
          5016,
          3833,
          4954,
          5132,
          3829,
          3898,
          4936,
          5170,
          3844,
          4982,
          4943,
          3595,
          3834,
          5025,
          4806,
          3827,
          5059,
          5072,
          3879,
          3826,
          4904,
          4865,
          3726,
          4892,
          4856,
          3887,
          3951,
          4866,
          4838,
          3841,
          4990,
          4930,
          3805,
          3867,
          4900,
          5127,
          3751,
          5034,
          4834,
          3951,
          3878,
          4977,
          4945,
          3964,
          4742,
          5179,
          3775,
          3984,
          4993,
          4929,
          3790,
          5010,
          4964,
          3788,
          3774,
          5039,
          5198,
          3855,
          4909,
          5053,
          3892,
          3933,
          4789,
          4969,
          3778,
          4916,
          4833,
          3739,
          3849,
          4986,
          5106,
          3718,
          4942,
          4970,
          3866,
          3768,
          4966,
          5009,
          3919,
          5016,
          5039,
          3799,
          3863,
          4984,
          5007,
          3655,
          4786,
          4996,
          3872,
          3834,
          4967,
          4881,
          3814,
          5106,
          5170,
          3900,
          3667,
          4924,
          5039,
          3846,
          4882,
          4914,
          3812,
          3752,
          4932,
          4977,
          3775,
          5156,
          4838,
          3860,
          3833,
          4960,
          4936,
          3838,
          5251,
          5033,
          3614,
          3703,
          4752,
          4937,
          3793,
          5096,
          5036,
          3842,
          3903,
          5125,
          4998,
          3843,
          4933,
          4921,
          3716,
          3811,
          5126,
          4933,
          3822,
          4916,
          4905,
          3733,
          3758,
          5015,
          5236,
          3857,
          5058,
          4880,
          3799,
          3945,
          5274,
          4876,
          3953,
          4983,
          4878,
          3793,
          3888,
          4955,
          4930,
          3733,
          4831,
          5003,
          3781,
          3759,
          5115,
          5004,
          3670,
          4811,
          4835,
          3757,
          3795,
          5000,
          4823,
          3815,
          4731,
          4791,
          3741,
          3932,
          5007,
          4939,
          4015,
          5101,
          4912,
          3620,
          3983,
          5015,
          5087,
          3772,
          4996,
          4909,
          3884,
          3899,
          5125,
          4927,
          3775,
          5088,
          4941,
          3740,
          3776,
          5015,
          5026,
          3914,
          5220,
          4724,
          3799,
          3872,
          5150,
          4995,
          3757,
          5146,
          5056,
          3798,
          3646,
          4907,
          5016,
          3798,
          5028,
          4945,
          3872,
          3790,
          5005,
          4972,
          3866,
          4790,
          5176,
          3716,
          3820,
          4913,
          5087,
          3860,
          5141,
          110
         ],
         "yaxis": "y"
        }
       ],
       "layout": {
        "legend": {
         "tracegroupgap": 0
        },
        "template": {
         "data": {
          "bar": [
           {
            "error_x": {
             "color": "#2a3f5f"
            },
            "error_y": {
             "color": "#2a3f5f"
            },
            "marker": {
             "line": {
              "color": "#E5ECF6",
              "width": 0.5
             },
             "pattern": {
              "fillmode": "overlay",
              "size": 10,
              "solidity": 0.2
             }
            },
            "type": "bar"
           }
          ],
          "barpolar": [
           {
            "marker": {
             "line": {
              "color": "#E5ECF6",
              "width": 0.5
             },
             "pattern": {
              "fillmode": "overlay",
              "size": 10,
              "solidity": 0.2
             }
            },
            "type": "barpolar"
           }
          ],
          "carpet": [
           {
            "aaxis": {
             "endlinecolor": "#2a3f5f",
             "gridcolor": "white",
             "linecolor": "white",
             "minorgridcolor": "white",
             "startlinecolor": "#2a3f5f"
            },
            "baxis": {
             "endlinecolor": "#2a3f5f",
             "gridcolor": "white",
             "linecolor": "white",
             "minorgridcolor": "white",
             "startlinecolor": "#2a3f5f"
            },
            "type": "carpet"
           }
          ],
          "choropleth": [
           {
            "colorbar": {
             "outlinewidth": 0,
             "ticks": ""
            },
            "type": "choropleth"
           }
          ],
          "contour": [
           {
            "colorbar": {
             "outlinewidth": 0,
             "ticks": ""
            },
            "colorscale": [
             [
              0,
              "#0d0887"
             ],
             [
              0.1111111111111111,
              "#46039f"
             ],
             [
              0.2222222222222222,
              "#7201a8"
             ],
             [
              0.3333333333333333,
              "#9c179e"
             ],
             [
              0.4444444444444444,
              "#bd3786"
             ],
             [
              0.5555555555555556,
              "#d8576b"
             ],
             [
              0.6666666666666666,
              "#ed7953"
             ],
             [
              0.7777777777777778,
              "#fb9f3a"
             ],
             [
              0.8888888888888888,
              "#fdca26"
             ],
             [
              1,
              "#f0f921"
             ]
            ],
            "type": "contour"
           }
          ],
          "contourcarpet": [
           {
            "colorbar": {
             "outlinewidth": 0,
             "ticks": ""
            },
            "type": "contourcarpet"
           }
          ],
          "heatmap": [
           {
            "colorbar": {
             "outlinewidth": 0,
             "ticks": ""
            },
            "colorscale": [
             [
              0,
              "#0d0887"
             ],
             [
              0.1111111111111111,
              "#46039f"
             ],
             [
              0.2222222222222222,
              "#7201a8"
             ],
             [
              0.3333333333333333,
              "#9c179e"
             ],
             [
              0.4444444444444444,
              "#bd3786"
             ],
             [
              0.5555555555555556,
              "#d8576b"
             ],
             [
              0.6666666666666666,
              "#ed7953"
             ],
             [
              0.7777777777777778,
              "#fb9f3a"
             ],
             [
              0.8888888888888888,
              "#fdca26"
             ],
             [
              1,
              "#f0f921"
             ]
            ],
            "type": "heatmap"
           }
          ],
          "heatmapgl": [
           {
            "colorbar": {
             "outlinewidth": 0,
             "ticks": ""
            },
            "colorscale": [
             [
              0,
              "#0d0887"
             ],
             [
              0.1111111111111111,
              "#46039f"
             ],
             [
              0.2222222222222222,
              "#7201a8"
             ],
             [
              0.3333333333333333,
              "#9c179e"
             ],
             [
              0.4444444444444444,
              "#bd3786"
             ],
             [
              0.5555555555555556,
              "#d8576b"
             ],
             [
              0.6666666666666666,
              "#ed7953"
             ],
             [
              0.7777777777777778,
              "#fb9f3a"
             ],
             [
              0.8888888888888888,
              "#fdca26"
             ],
             [
              1,
              "#f0f921"
             ]
            ],
            "type": "heatmapgl"
           }
          ],
          "histogram": [
           {
            "marker": {
             "pattern": {
              "fillmode": "overlay",
              "size": 10,
              "solidity": 0.2
             }
            },
            "type": "histogram"
           }
          ],
          "histogram2d": [
           {
            "colorbar": {
             "outlinewidth": 0,
             "ticks": ""
            },
            "colorscale": [
             [
              0,
              "#0d0887"
             ],
             [
              0.1111111111111111,
              "#46039f"
             ],
             [
              0.2222222222222222,
              "#7201a8"
             ],
             [
              0.3333333333333333,
              "#9c179e"
             ],
             [
              0.4444444444444444,
              "#bd3786"
             ],
             [
              0.5555555555555556,
              "#d8576b"
             ],
             [
              0.6666666666666666,
              "#ed7953"
             ],
             [
              0.7777777777777778,
              "#fb9f3a"
             ],
             [
              0.8888888888888888,
              "#fdca26"
             ],
             [
              1,
              "#f0f921"
             ]
            ],
            "type": "histogram2d"
           }
          ],
          "histogram2dcontour": [
           {
            "colorbar": {
             "outlinewidth": 0,
             "ticks": ""
            },
            "colorscale": [
             [
              0,
              "#0d0887"
             ],
             [
              0.1111111111111111,
              "#46039f"
             ],
             [
              0.2222222222222222,
              "#7201a8"
             ],
             [
              0.3333333333333333,
              "#9c179e"
             ],
             [
              0.4444444444444444,
              "#bd3786"
             ],
             [
              0.5555555555555556,
              "#d8576b"
             ],
             [
              0.6666666666666666,
              "#ed7953"
             ],
             [
              0.7777777777777778,
              "#fb9f3a"
             ],
             [
              0.8888888888888888,
              "#fdca26"
             ],
             [
              1,
              "#f0f921"
             ]
            ],
            "type": "histogram2dcontour"
           }
          ],
          "mesh3d": [
           {
            "colorbar": {
             "outlinewidth": 0,
             "ticks": ""
            },
            "type": "mesh3d"
           }
          ],
          "parcoords": [
           {
            "line": {
             "colorbar": {
              "outlinewidth": 0,
              "ticks": ""
             }
            },
            "type": "parcoords"
           }
          ],
          "pie": [
           {
            "automargin": true,
            "type": "pie"
           }
          ],
          "scatter": [
           {
            "fillpattern": {
             "fillmode": "overlay",
             "size": 10,
             "solidity": 0.2
            },
            "type": "scatter"
           }
          ],
          "scatter3d": [
           {
            "line": {
             "colorbar": {
              "outlinewidth": 0,
              "ticks": ""
             }
            },
            "marker": {
             "colorbar": {
              "outlinewidth": 0,
              "ticks": ""
             }
            },
            "type": "scatter3d"
           }
          ],
          "scattercarpet": [
           {
            "marker": {
             "colorbar": {
              "outlinewidth": 0,
              "ticks": ""
             }
            },
            "type": "scattercarpet"
           }
          ],
          "scattergeo": [
           {
            "marker": {
             "colorbar": {
              "outlinewidth": 0,
              "ticks": ""
             }
            },
            "type": "scattergeo"
           }
          ],
          "scattergl": [
           {
            "marker": {
             "colorbar": {
              "outlinewidth": 0,
              "ticks": ""
             }
            },
            "type": "scattergl"
           }
          ],
          "scattermapbox": [
           {
            "marker": {
             "colorbar": {
              "outlinewidth": 0,
              "ticks": ""
             }
            },
            "type": "scattermapbox"
           }
          ],
          "scatterpolar": [
           {
            "marker": {
             "colorbar": {
              "outlinewidth": 0,
              "ticks": ""
             }
            },
            "type": "scatterpolar"
           }
          ],
          "scatterpolargl": [
           {
            "marker": {
             "colorbar": {
              "outlinewidth": 0,
              "ticks": ""
             }
            },
            "type": "scatterpolargl"
           }
          ],
          "scatterternary": [
           {
            "marker": {
             "colorbar": {
              "outlinewidth": 0,
              "ticks": ""
             }
            },
            "type": "scatterternary"
           }
          ],
          "surface": [
           {
            "colorbar": {
             "outlinewidth": 0,
             "ticks": ""
            },
            "colorscale": [
             [
              0,
              "#0d0887"
             ],
             [
              0.1111111111111111,
              "#46039f"
             ],
             [
              0.2222222222222222,
              "#7201a8"
             ],
             [
              0.3333333333333333,
              "#9c179e"
             ],
             [
              0.4444444444444444,
              "#bd3786"
             ],
             [
              0.5555555555555556,
              "#d8576b"
             ],
             [
              0.6666666666666666,
              "#ed7953"
             ],
             [
              0.7777777777777778,
              "#fb9f3a"
             ],
             [
              0.8888888888888888,
              "#fdca26"
             ],
             [
              1,
              "#f0f921"
             ]
            ],
            "type": "surface"
           }
          ],
          "table": [
           {
            "cells": {
             "fill": {
              "color": "#EBF0F8"
             },
             "line": {
              "color": "white"
             }
            },
            "header": {
             "fill": {
              "color": "#C8D4E3"
             },
             "line": {
              "color": "white"
             }
            },
            "type": "table"
           }
          ]
         },
         "layout": {
          "annotationdefaults": {
           "arrowcolor": "#2a3f5f",
           "arrowhead": 0,
           "arrowwidth": 1
          },
          "autotypenumbers": "strict",
          "coloraxis": {
           "colorbar": {
            "outlinewidth": 0,
            "ticks": ""
           }
          },
          "colorscale": {
           "diverging": [
            [
             0,
             "#8e0152"
            ],
            [
             0.1,
             "#c51b7d"
            ],
            [
             0.2,
             "#de77ae"
            ],
            [
             0.3,
             "#f1b6da"
            ],
            [
             0.4,
             "#fde0ef"
            ],
            [
             0.5,
             "#f7f7f7"
            ],
            [
             0.6,
             "#e6f5d0"
            ],
            [
             0.7,
             "#b8e186"
            ],
            [
             0.8,
             "#7fbc41"
            ],
            [
             0.9,
             "#4d9221"
            ],
            [
             1,
             "#276419"
            ]
           ],
           "sequential": [
            [
             0,
             "#0d0887"
            ],
            [
             0.1111111111111111,
             "#46039f"
            ],
            [
             0.2222222222222222,
             "#7201a8"
            ],
            [
             0.3333333333333333,
             "#9c179e"
            ],
            [
             0.4444444444444444,
             "#bd3786"
            ],
            [
             0.5555555555555556,
             "#d8576b"
            ],
            [
             0.6666666666666666,
             "#ed7953"
            ],
            [
             0.7777777777777778,
             "#fb9f3a"
            ],
            [
             0.8888888888888888,
             "#fdca26"
            ],
            [
             1,
             "#f0f921"
            ]
           ],
           "sequentialminus": [
            [
             0,
             "#0d0887"
            ],
            [
             0.1111111111111111,
             "#46039f"
            ],
            [
             0.2222222222222222,
             "#7201a8"
            ],
            [
             0.3333333333333333,
             "#9c179e"
            ],
            [
             0.4444444444444444,
             "#bd3786"
            ],
            [
             0.5555555555555556,
             "#d8576b"
            ],
            [
             0.6666666666666666,
             "#ed7953"
            ],
            [
             0.7777777777777778,
             "#fb9f3a"
            ],
            [
             0.8888888888888888,
             "#fdca26"
            ],
            [
             1,
             "#f0f921"
            ]
           ]
          },
          "colorway": [
           "#636efa",
           "#EF553B",
           "#00cc96",
           "#ab63fa",
           "#FFA15A",
           "#19d3f3",
           "#FF6692",
           "#B6E880",
           "#FF97FF",
           "#FECB52"
          ],
          "font": {
           "color": "#2a3f5f"
          },
          "geo": {
           "bgcolor": "white",
           "lakecolor": "white",
           "landcolor": "#E5ECF6",
           "showlakes": true,
           "showland": true,
           "subunitcolor": "white"
          },
          "hoverlabel": {
           "align": "left"
          },
          "hovermode": "closest",
          "mapbox": {
           "style": "light"
          },
          "paper_bgcolor": "white",
          "plot_bgcolor": "#E5ECF6",
          "polar": {
           "angularaxis": {
            "gridcolor": "white",
            "linecolor": "white",
            "ticks": ""
           },
           "bgcolor": "#E5ECF6",
           "radialaxis": {
            "gridcolor": "white",
            "linecolor": "white",
            "ticks": ""
           }
          },
          "scene": {
           "xaxis": {
            "backgroundcolor": "#E5ECF6",
            "gridcolor": "white",
            "gridwidth": 2,
            "linecolor": "white",
            "showbackground": true,
            "ticks": "",
            "zerolinecolor": "white"
           },
           "yaxis": {
            "backgroundcolor": "#E5ECF6",
            "gridcolor": "white",
            "gridwidth": 2,
            "linecolor": "white",
            "showbackground": true,
            "ticks": "",
            "zerolinecolor": "white"
           },
           "zaxis": {
            "backgroundcolor": "#E5ECF6",
            "gridcolor": "white",
            "gridwidth": 2,
            "linecolor": "white",
            "showbackground": true,
            "ticks": "",
            "zerolinecolor": "white"
           }
          },
          "shapedefaults": {
           "line": {
            "color": "#2a3f5f"
           }
          },
          "ternary": {
           "aaxis": {
            "gridcolor": "white",
            "linecolor": "white",
            "ticks": ""
           },
           "baxis": {
            "gridcolor": "white",
            "linecolor": "white",
            "ticks": ""
           },
           "bgcolor": "#E5ECF6",
           "caxis": {
            "gridcolor": "white",
            "linecolor": "white",
            "ticks": ""
           }
          },
          "title": {
           "x": 0.05
          },
          "xaxis": {
           "automargin": true,
           "gridcolor": "white",
           "linecolor": "white",
           "ticks": "",
           "title": {
            "standoff": 15
           },
           "zerolinecolor": "white",
           "zerolinewidth": 2
          },
          "yaxis": {
           "automargin": true,
           "gridcolor": "white",
           "linecolor": "white",
           "ticks": "",
           "title": {
            "standoff": 15
           },
           "zerolinecolor": "white",
           "zerolinewidth": 2
          }
         }
        },
        "title": {
         "text": "Total Order Volume Over Time"
        },
        "xaxis": {
         "anchor": "y",
         "domain": [
          0,
          1
         ],
         "title": {
          "text": "Date"
         }
        },
        "yaxis": {
         "anchor": "x",
         "domain": [
          0,
          1
         ],
         "title": {
          "text": "Total Orders"
         }
        }
       }
      }
     },
     "metadata": {},
     "output_type": "display_data"
    }
   ],
   "source": [
    "#  Order Volume by DateTime (Monthly Time Series)\n",
    "datetime_order_volume = product_data.groupby('Date')['Order_Volume'].sum().reset_index()\n",
    "\n",
    "# Plotting Order Volume over Time\n",
    "fig = px.line(datetime_order_volume, x='Date', y='Order_Volume', title='Total Order Volume Over Time', \n",
    "              labels={'Order_Volume': 'Total Orders'})\n",
    "fig.show()"
   ]
  },
  {
   "cell_type": "code",
   "execution_count": 22,
   "metadata": {},
   "outputs": [
    {
     "name": "stderr",
     "output_type": "stream",
     "text": [
      "C:\\Users\\vs390\\AppData\\Local\\Temp\\ipykernel_24292\\827427679.py:2: SettingWithCopyWarning:\n",
      "\n",
      "\n",
      "A value is trying to be set on a copy of a slice from a DataFrame.\n",
      "Try using .loc[row_indexer,col_indexer] = value instead\n",
      "\n",
      "See the caveats in the documentation: https://pandas.pydata.org/pandas-docs/stable/user_guide/indexing.html#returning-a-view-versus-a-copy\n",
      "\n"
     ]
    },
    {
     "data": {
      "application/vnd.plotly.v1+json": {
       "config": {
        "plotlyServerURL": "https://plot.ly"
       },
       "data": [
        {
         "hovertemplate": "Week_Number=%{x}<br>Total Orders=%{y}<extra></extra>",
         "legendgroup": "",
         "line": {
          "color": "#636efa",
          "dash": "solid"
         },
         "marker": {
          "symbol": "circle"
         },
         "mode": "lines",
         "name": "",
         "orientation": "v",
         "showlegend": false,
         "type": "scatter",
         "x": [
          1,
          2,
          3,
          4,
          5,
          6,
          7,
          8,
          9,
          10,
          11,
          12,
          13,
          14,
          15,
          16,
          17,
          18,
          19,
          20,
          21,
          22,
          23,
          24,
          25,
          26,
          27,
          28,
          29,
          30,
          31,
          32,
          33,
          34,
          35,
          36,
          37,
          38,
          39,
          40,
          41,
          42,
          43,
          44,
          45,
          46,
          47,
          48,
          49,
          50,
          51,
          52
         ],
         "xaxis": "x",
         "y": [
          31477,
          31041,
          31612,
          31295,
          31614,
          31557,
          31388,
          31346,
          31190,
          31566,
          31083,
          31970,
          31678,
          31917,
          31329,
          31462,
          31305,
          30959,
          31087,
          31704,
          31602,
          31218,
          30948,
          31303,
          31318,
          31636,
          31445,
          31616,
          31110,
          31310,
          31583,
          31090,
          31644,
          31172,
          31242,
          31711,
          30931,
          31565,
          31229,
          31537,
          31708,
          31133,
          30975,
          30712,
          31647,
          31382,
          31639,
          31415,
          31775,
          31138,
          31471,
          31584
         ],
         "yaxis": "y"
        }
       ],
       "layout": {
        "legend": {
         "tracegroupgap": 0
        },
        "template": {
         "data": {
          "bar": [
           {
            "error_x": {
             "color": "#2a3f5f"
            },
            "error_y": {
             "color": "#2a3f5f"
            },
            "marker": {
             "line": {
              "color": "#E5ECF6",
              "width": 0.5
             },
             "pattern": {
              "fillmode": "overlay",
              "size": 10,
              "solidity": 0.2
             }
            },
            "type": "bar"
           }
          ],
          "barpolar": [
           {
            "marker": {
             "line": {
              "color": "#E5ECF6",
              "width": 0.5
             },
             "pattern": {
              "fillmode": "overlay",
              "size": 10,
              "solidity": 0.2
             }
            },
            "type": "barpolar"
           }
          ],
          "carpet": [
           {
            "aaxis": {
             "endlinecolor": "#2a3f5f",
             "gridcolor": "white",
             "linecolor": "white",
             "minorgridcolor": "white",
             "startlinecolor": "#2a3f5f"
            },
            "baxis": {
             "endlinecolor": "#2a3f5f",
             "gridcolor": "white",
             "linecolor": "white",
             "minorgridcolor": "white",
             "startlinecolor": "#2a3f5f"
            },
            "type": "carpet"
           }
          ],
          "choropleth": [
           {
            "colorbar": {
             "outlinewidth": 0,
             "ticks": ""
            },
            "type": "choropleth"
           }
          ],
          "contour": [
           {
            "colorbar": {
             "outlinewidth": 0,
             "ticks": ""
            },
            "colorscale": [
             [
              0,
              "#0d0887"
             ],
             [
              0.1111111111111111,
              "#46039f"
             ],
             [
              0.2222222222222222,
              "#7201a8"
             ],
             [
              0.3333333333333333,
              "#9c179e"
             ],
             [
              0.4444444444444444,
              "#bd3786"
             ],
             [
              0.5555555555555556,
              "#d8576b"
             ],
             [
              0.6666666666666666,
              "#ed7953"
             ],
             [
              0.7777777777777778,
              "#fb9f3a"
             ],
             [
              0.8888888888888888,
              "#fdca26"
             ],
             [
              1,
              "#f0f921"
             ]
            ],
            "type": "contour"
           }
          ],
          "contourcarpet": [
           {
            "colorbar": {
             "outlinewidth": 0,
             "ticks": ""
            },
            "type": "contourcarpet"
           }
          ],
          "heatmap": [
           {
            "colorbar": {
             "outlinewidth": 0,
             "ticks": ""
            },
            "colorscale": [
             [
              0,
              "#0d0887"
             ],
             [
              0.1111111111111111,
              "#46039f"
             ],
             [
              0.2222222222222222,
              "#7201a8"
             ],
             [
              0.3333333333333333,
              "#9c179e"
             ],
             [
              0.4444444444444444,
              "#bd3786"
             ],
             [
              0.5555555555555556,
              "#d8576b"
             ],
             [
              0.6666666666666666,
              "#ed7953"
             ],
             [
              0.7777777777777778,
              "#fb9f3a"
             ],
             [
              0.8888888888888888,
              "#fdca26"
             ],
             [
              1,
              "#f0f921"
             ]
            ],
            "type": "heatmap"
           }
          ],
          "heatmapgl": [
           {
            "colorbar": {
             "outlinewidth": 0,
             "ticks": ""
            },
            "colorscale": [
             [
              0,
              "#0d0887"
             ],
             [
              0.1111111111111111,
              "#46039f"
             ],
             [
              0.2222222222222222,
              "#7201a8"
             ],
             [
              0.3333333333333333,
              "#9c179e"
             ],
             [
              0.4444444444444444,
              "#bd3786"
             ],
             [
              0.5555555555555556,
              "#d8576b"
             ],
             [
              0.6666666666666666,
              "#ed7953"
             ],
             [
              0.7777777777777778,
              "#fb9f3a"
             ],
             [
              0.8888888888888888,
              "#fdca26"
             ],
             [
              1,
              "#f0f921"
             ]
            ],
            "type": "heatmapgl"
           }
          ],
          "histogram": [
           {
            "marker": {
             "pattern": {
              "fillmode": "overlay",
              "size": 10,
              "solidity": 0.2
             }
            },
            "type": "histogram"
           }
          ],
          "histogram2d": [
           {
            "colorbar": {
             "outlinewidth": 0,
             "ticks": ""
            },
            "colorscale": [
             [
              0,
              "#0d0887"
             ],
             [
              0.1111111111111111,
              "#46039f"
             ],
             [
              0.2222222222222222,
              "#7201a8"
             ],
             [
              0.3333333333333333,
              "#9c179e"
             ],
             [
              0.4444444444444444,
              "#bd3786"
             ],
             [
              0.5555555555555556,
              "#d8576b"
             ],
             [
              0.6666666666666666,
              "#ed7953"
             ],
             [
              0.7777777777777778,
              "#fb9f3a"
             ],
             [
              0.8888888888888888,
              "#fdca26"
             ],
             [
              1,
              "#f0f921"
             ]
            ],
            "type": "histogram2d"
           }
          ],
          "histogram2dcontour": [
           {
            "colorbar": {
             "outlinewidth": 0,
             "ticks": ""
            },
            "colorscale": [
             [
              0,
              "#0d0887"
             ],
             [
              0.1111111111111111,
              "#46039f"
             ],
             [
              0.2222222222222222,
              "#7201a8"
             ],
             [
              0.3333333333333333,
              "#9c179e"
             ],
             [
              0.4444444444444444,
              "#bd3786"
             ],
             [
              0.5555555555555556,
              "#d8576b"
             ],
             [
              0.6666666666666666,
              "#ed7953"
             ],
             [
              0.7777777777777778,
              "#fb9f3a"
             ],
             [
              0.8888888888888888,
              "#fdca26"
             ],
             [
              1,
              "#f0f921"
             ]
            ],
            "type": "histogram2dcontour"
           }
          ],
          "mesh3d": [
           {
            "colorbar": {
             "outlinewidth": 0,
             "ticks": ""
            },
            "type": "mesh3d"
           }
          ],
          "parcoords": [
           {
            "line": {
             "colorbar": {
              "outlinewidth": 0,
              "ticks": ""
             }
            },
            "type": "parcoords"
           }
          ],
          "pie": [
           {
            "automargin": true,
            "type": "pie"
           }
          ],
          "scatter": [
           {
            "fillpattern": {
             "fillmode": "overlay",
             "size": 10,
             "solidity": 0.2
            },
            "type": "scatter"
           }
          ],
          "scatter3d": [
           {
            "line": {
             "colorbar": {
              "outlinewidth": 0,
              "ticks": ""
             }
            },
            "marker": {
             "colorbar": {
              "outlinewidth": 0,
              "ticks": ""
             }
            },
            "type": "scatter3d"
           }
          ],
          "scattercarpet": [
           {
            "marker": {
             "colorbar": {
              "outlinewidth": 0,
              "ticks": ""
             }
            },
            "type": "scattercarpet"
           }
          ],
          "scattergeo": [
           {
            "marker": {
             "colorbar": {
              "outlinewidth": 0,
              "ticks": ""
             }
            },
            "type": "scattergeo"
           }
          ],
          "scattergl": [
           {
            "marker": {
             "colorbar": {
              "outlinewidth": 0,
              "ticks": ""
             }
            },
            "type": "scattergl"
           }
          ],
          "scattermapbox": [
           {
            "marker": {
             "colorbar": {
              "outlinewidth": 0,
              "ticks": ""
             }
            },
            "type": "scattermapbox"
           }
          ],
          "scatterpolar": [
           {
            "marker": {
             "colorbar": {
              "outlinewidth": 0,
              "ticks": ""
             }
            },
            "type": "scatterpolar"
           }
          ],
          "scatterpolargl": [
           {
            "marker": {
             "colorbar": {
              "outlinewidth": 0,
              "ticks": ""
             }
            },
            "type": "scatterpolargl"
           }
          ],
          "scatterternary": [
           {
            "marker": {
             "colorbar": {
              "outlinewidth": 0,
              "ticks": ""
             }
            },
            "type": "scatterternary"
           }
          ],
          "surface": [
           {
            "colorbar": {
             "outlinewidth": 0,
             "ticks": ""
            },
            "colorscale": [
             [
              0,
              "#0d0887"
             ],
             [
              0.1111111111111111,
              "#46039f"
             ],
             [
              0.2222222222222222,
              "#7201a8"
             ],
             [
              0.3333333333333333,
              "#9c179e"
             ],
             [
              0.4444444444444444,
              "#bd3786"
             ],
             [
              0.5555555555555556,
              "#d8576b"
             ],
             [
              0.6666666666666666,
              "#ed7953"
             ],
             [
              0.7777777777777778,
              "#fb9f3a"
             ],
             [
              0.8888888888888888,
              "#fdca26"
             ],
             [
              1,
              "#f0f921"
             ]
            ],
            "type": "surface"
           }
          ],
          "table": [
           {
            "cells": {
             "fill": {
              "color": "#EBF0F8"
             },
             "line": {
              "color": "white"
             }
            },
            "header": {
             "fill": {
              "color": "#C8D4E3"
             },
             "line": {
              "color": "white"
             }
            },
            "type": "table"
           }
          ]
         },
         "layout": {
          "annotationdefaults": {
           "arrowcolor": "#2a3f5f",
           "arrowhead": 0,
           "arrowwidth": 1
          },
          "autotypenumbers": "strict",
          "coloraxis": {
           "colorbar": {
            "outlinewidth": 0,
            "ticks": ""
           }
          },
          "colorscale": {
           "diverging": [
            [
             0,
             "#8e0152"
            ],
            [
             0.1,
             "#c51b7d"
            ],
            [
             0.2,
             "#de77ae"
            ],
            [
             0.3,
             "#f1b6da"
            ],
            [
             0.4,
             "#fde0ef"
            ],
            [
             0.5,
             "#f7f7f7"
            ],
            [
             0.6,
             "#e6f5d0"
            ],
            [
             0.7,
             "#b8e186"
            ],
            [
             0.8,
             "#7fbc41"
            ],
            [
             0.9,
             "#4d9221"
            ],
            [
             1,
             "#276419"
            ]
           ],
           "sequential": [
            [
             0,
             "#0d0887"
            ],
            [
             0.1111111111111111,
             "#46039f"
            ],
            [
             0.2222222222222222,
             "#7201a8"
            ],
            [
             0.3333333333333333,
             "#9c179e"
            ],
            [
             0.4444444444444444,
             "#bd3786"
            ],
            [
             0.5555555555555556,
             "#d8576b"
            ],
            [
             0.6666666666666666,
             "#ed7953"
            ],
            [
             0.7777777777777778,
             "#fb9f3a"
            ],
            [
             0.8888888888888888,
             "#fdca26"
            ],
            [
             1,
             "#f0f921"
            ]
           ],
           "sequentialminus": [
            [
             0,
             "#0d0887"
            ],
            [
             0.1111111111111111,
             "#46039f"
            ],
            [
             0.2222222222222222,
             "#7201a8"
            ],
            [
             0.3333333333333333,
             "#9c179e"
            ],
            [
             0.4444444444444444,
             "#bd3786"
            ],
            [
             0.5555555555555556,
             "#d8576b"
            ],
            [
             0.6666666666666666,
             "#ed7953"
            ],
            [
             0.7777777777777778,
             "#fb9f3a"
            ],
            [
             0.8888888888888888,
             "#fdca26"
            ],
            [
             1,
             "#f0f921"
            ]
           ]
          },
          "colorway": [
           "#636efa",
           "#EF553B",
           "#00cc96",
           "#ab63fa",
           "#FFA15A",
           "#19d3f3",
           "#FF6692",
           "#B6E880",
           "#FF97FF",
           "#FECB52"
          ],
          "font": {
           "color": "#2a3f5f"
          },
          "geo": {
           "bgcolor": "white",
           "lakecolor": "white",
           "landcolor": "#E5ECF6",
           "showlakes": true,
           "showland": true,
           "subunitcolor": "white"
          },
          "hoverlabel": {
           "align": "left"
          },
          "hovermode": "closest",
          "mapbox": {
           "style": "light"
          },
          "paper_bgcolor": "white",
          "plot_bgcolor": "#E5ECF6",
          "polar": {
           "angularaxis": {
            "gridcolor": "white",
            "linecolor": "white",
            "ticks": ""
           },
           "bgcolor": "#E5ECF6",
           "radialaxis": {
            "gridcolor": "white",
            "linecolor": "white",
            "ticks": ""
           }
          },
          "scene": {
           "xaxis": {
            "backgroundcolor": "#E5ECF6",
            "gridcolor": "white",
            "gridwidth": 2,
            "linecolor": "white",
            "showbackground": true,
            "ticks": "",
            "zerolinecolor": "white"
           },
           "yaxis": {
            "backgroundcolor": "#E5ECF6",
            "gridcolor": "white",
            "gridwidth": 2,
            "linecolor": "white",
            "showbackground": true,
            "ticks": "",
            "zerolinecolor": "white"
           },
           "zaxis": {
            "backgroundcolor": "#E5ECF6",
            "gridcolor": "white",
            "gridwidth": 2,
            "linecolor": "white",
            "showbackground": true,
            "ticks": "",
            "zerolinecolor": "white"
           }
          },
          "shapedefaults": {
           "line": {
            "color": "#2a3f5f"
           }
          },
          "ternary": {
           "aaxis": {
            "gridcolor": "white",
            "linecolor": "white",
            "ticks": ""
           },
           "baxis": {
            "gridcolor": "white",
            "linecolor": "white",
            "ticks": ""
           },
           "bgcolor": "#E5ECF6",
           "caxis": {
            "gridcolor": "white",
            "linecolor": "white",
            "ticks": ""
           }
          },
          "title": {
           "x": 0.05
          },
          "xaxis": {
           "automargin": true,
           "gridcolor": "white",
           "linecolor": "white",
           "ticks": "",
           "title": {
            "standoff": 15
           },
           "zerolinecolor": "white",
           "zerolinewidth": 2
          },
          "yaxis": {
           "automargin": true,
           "gridcolor": "white",
           "linecolor": "white",
           "ticks": "",
           "title": {
            "standoff": 15
           },
           "zerolinecolor": "white",
           "zerolinewidth": 2
          }
         }
        },
        "title": {
         "text": "Total Order Volume by Week Number"
        },
        "xaxis": {
         "anchor": "y",
         "domain": [
          0,
          1
         ],
         "title": {
          "text": "Week_Number"
         }
        },
        "yaxis": {
         "anchor": "x",
         "domain": [
          0,
          1
         ],
         "title": {
          "text": "Total Orders"
         }
        }
       }
      }
     },
     "metadata": {},
     "output_type": "display_data"
    }
   ],
   "source": [
    "#Order Volume by Week Number (Weekly Trend) using Plotly\n",
    "product_data.loc[:,'Week_Number'] = product_data['DateTime'].dt.isocalendar().week\n",
    "weekly_order_volume = product_data.groupby('Week_Number')['Order_Volume'].sum().reset_index()\n",
    "\n",
    "# Plotting Weekly Order Volume with Plotly\n",
    "fig = px.line(weekly_order_volume, x='Week_Number', y='Order_Volume', title='Total Order Volume by Week Number', \n",
    "              labels={'Order_Volume': 'Total Orders'})\n",
    "fig.show()"
   ]
  },
  {
   "cell_type": "code",
   "execution_count": 31,
   "metadata": {},
   "outputs": [
    {
     "name": "stderr",
     "output_type": "stream",
     "text": [
      "C:\\Users\\vs390\\AppData\\Local\\Temp\\ipykernel_21524\\2531794808.py:2: SettingWithCopyWarning:\n",
      "\n",
      "\n",
      "A value is trying to be set on a copy of a slice from a DataFrame.\n",
      "Try using .loc[row_indexer,col_indexer] = value instead\n",
      "\n",
      "See the caveats in the documentation: https://pandas.pydata.org/pandas-docs/stable/user_guide/indexing.html#returning-a-view-versus-a-copy\n",
      "\n"
     ]
    },
    {
     "data": {
      "text/plain": [
       "<Figure size 1000x800 with 0 Axes>"
      ]
     },
     "metadata": {},
     "output_type": "display_data"
    },
    {
     "data": {
      "image/png": "[encoded data removed]",
      "text/plain": [
       "<Figure size 640x480 with 4 Axes>"
      ]
     },
     "metadata": {},
     "output_type": "display_data"
    }
   ],
   "source": [
    "# 1. Seasonal Decomposition (Trend, Seasonal, Residuals)\n",
    "product_data['DateTime'] = pd.to_datetime(product_data['DateTime'])\n",
    "product_data.set_index('DateTime', inplace=True)\n",
    "daily_order_volume = product_data['Order_Volume'].resample('D').sum()\n",
    "decomposition = seasonal_decompose(daily_order_volume, model='additive', period=30)\n",
    "plt.figure(figsize=(10,8))\n",
    "decomposition.plot()\n",
    "plt.suptitle('Seasonal Decomposition of Order Volume (Whitefield)', fontsize=16)\n",
    "plt.show()"
   ]
  },
  {
   "cell_type": "code",
   "execution_count": 32,
   "metadata": {},
   "outputs": [
    {
     "data": {
      "image/png": "[encoded data removed]",
      "text/plain": [
       "<Figure size 800x600 with 1 Axes>"
      ]
     },
     "metadata": {},
     "output_type": "display_data"
    }
   ],
   "source": [
    "#Distribution of Order Volume \n",
    "plt.figure(figsize=(8,6))\n",
    "sns.histplot(product_data['Order_Volume'], kde=True, color='skyblue')\n",
    "plt.title('Distribution of Order Volume (Indiranagar)', fontsize=14)\n",
    "plt.xlabel('Order Volume', fontsize=12)\n",
    "plt.ylabel('Frequency', fontsize=12)\n",
    "plt.grid(True)\n",
    "plt.show()"
   ]
  },
  {
   "cell_type": "code",
   "execution_count": 33,
   "metadata": {},
   "outputs": [
    {
     "data": {
      "image/png": "[encoded data removed]",
      "text/plain": [
       "<Figure size 1000x600 with 1 Axes>"
      ]
     },
     "metadata": {},
     "output_type": "display_data"
    }
   ],
   "source": [
    "# Order Volume by Hour of the Day \n",
    "hourly_order_volume = product_data.groupby('Hour')['Order_Volume'].sum().reset_index()\n",
    "plt.figure(figsize=(10,6))\n",
    "plt.plot(hourly_order_volume['Hour'], hourly_order_volume['Order_Volume'], marker='o', color='green')\n",
    "plt.title('Total Order Volume by Hour of Day (Indiranagr)', fontsize=14)\n",
    "plt.xlabel('Hour of Day', fontsize=12)\n",
    "plt.ylabel('Total Order Volume', fontsize=12)\n",
    "plt.grid(True)\n",
    "plt.xticks(np.arange(0, 24, step=1))\n",
    "plt.show()"
   ]
  },
  {
   "cell_type": "code",
   "execution_count": 37,
   "metadata": {},
   "outputs": [
    {
     "name": "stderr",
     "output_type": "stream",
     "text": [
      "C:\\Users\\vs390\\AppData\\Local\\Temp\\ipykernel_21524\\4208951742.py:2: FutureWarning:\n",
      "\n",
      "\n",
      "\n",
      "The `ci` parameter is deprecated. Use `errorbar=None` for the same effect.\n",
      "\n",
      "\n"
     ]
    },
    {
     "data": {
      "image/png": "[encoded data removed]",
      "text/plain": [
       "<Figure size 600x400 with 1 Axes>"
      ]
     },
     "metadata": {},
     "output_type": "display_data"
    }
   ],
   "source": [
    "plt.figure(figsize=(6,4))\n",
    "sns.barplot(x='Location', y='Order_Volume',hue='Product', data=product_data, estimator=sum, ci=None)\n",
    "plt.title('Total Volume by Location')\n",
    "plt.xlabel('Location')\n",
    "plt.ylabel('Total Volume')\n",
    "plt.xticks()\n",
    "plt.show()"
   ]
  },
  {
   "cell_type": "code",
   "execution_count": 23,
   "metadata": {},
   "outputs": [
    {
     "data": {
      "application/vnd.plotly.v1+json": {
       "config": {
        "plotlyServerURL": "https://plot.ly"
       },
       "data": [
        {
         "alignmentgroup": "True",
         "hovertemplate": "Location=%{x}<br>Total Volume=%{y}<br>Minute=%{marker.color}<extra></extra>",
         "legendgroup": "",
         "marker": {
          "color": [
           0
          ],
          "coloraxis": "coloraxis",
          "pattern": {
           "shape": ""
          }
         },
         "name": "",
         "offsetgroup": "",
         "orientation": "v",
         "showlegend": false,
         "textposition": "auto",
         "type": "bar",
         "x": [
          "Indiranagar"
         ],
         "xaxis": "x",
         "y": [
          1632369
         ],
         "yaxis": "y"
        }
       ],
       "layout": {
        "barmode": "relative",
        "coloraxis": {
         "colorbar": {
          "title": {
           "text": "Minute"
          }
         },
         "colorscale": [
          [
           0,
           "#0d0887"
          ],
          [
           0.1111111111111111,
           "#46039f"
          ],
          [
           0.2222222222222222,
           "#7201a8"
          ],
          [
           0.3333333333333333,
           "#9c179e"
          ],
          [
           0.4444444444444444,
           "#bd3786"
          ],
          [
           0.5555555555555556,
           "#d8576b"
          ],
          [
           0.6666666666666666,
           "#ed7953"
          ],
          [
           0.7777777777777778,
           "#fb9f3a"
          ],
          [
           0.8888888888888888,
           "#fdca26"
          ],
          [
           1,
           "#f0f921"
          ]
         ]
        },
        "legend": {
         "tracegroupgap": 0
        },
        "template": {
         "data": {
          "bar": [
           {
            "error_x": {
             "color": "#2a3f5f"
            },
            "error_y": {
             "color": "#2a3f5f"
            },
            "marker": {
             "line": {
              "color": "#E5ECF6",
              "width": 0.5
             },
             "pattern": {
              "fillmode": "overlay",
              "size": 10,
              "solidity": 0.2
             }
            },
            "type": "bar"
           }
          ],
          "barpolar": [
           {
            "marker": {
             "line": {
              "color": "#E5ECF6",
              "width": 0.5
             },
             "pattern": {
              "fillmode": "overlay",
              "size": 10,
              "solidity": 0.2
             }
            },
            "type": "barpolar"
           }
          ],
          "carpet": [
           {
            "aaxis": {
             "endlinecolor": "#2a3f5f",
             "gridcolor": "white",
             "linecolor": "white",
             "minorgridcolor": "white",
             "startlinecolor": "#2a3f5f"
            },
            "baxis": {
             "endlinecolor": "#2a3f5f",
             "gridcolor": "white",
             "linecolor": "white",
             "minorgridcolor": "white",
             "startlinecolor": "#2a3f5f"
            },
            "type": "carpet"
           }
          ],
          "choropleth": [
           {
            "colorbar": {
             "outlinewidth": 0,
             "ticks": ""
            },
            "type": "choropleth"
           }
          ],
          "contour": [
           {
            "colorbar": {
             "outlinewidth": 0,
             "ticks": ""
            },
            "colorscale": [
             [
              0,
              "#0d0887"
             ],
             [
              0.1111111111111111,
              "#46039f"
             ],
             [
              0.2222222222222222,
              "#7201a8"
             ],
             [
              0.3333333333333333,
              "#9c179e"
             ],
             [
              0.4444444444444444,
              "#bd3786"
             ],
             [
              0.5555555555555556,
              "#d8576b"
             ],
             [
              0.6666666666666666,
              "#ed7953"
             ],
             [
              0.7777777777777778,
              "#fb9f3a"
             ],
             [
              0.8888888888888888,
              "#fdca26"
             ],
             [
              1,
              "#f0f921"
             ]
            ],
            "type": "contour"
           }
          ],
          "contourcarpet": [
           {
            "colorbar": {
             "outlinewidth": 0,
             "ticks": ""
            },
            "type": "contourcarpet"
           }
          ],
          "heatmap": [
           {
            "colorbar": {
             "outlinewidth": 0,
             "ticks": ""
            },
            "colorscale": [
             [
              0,
              "#0d0887"
             ],
             [
              0.1111111111111111,
              "#46039f"
             ],
             [
              0.2222222222222222,
              "#7201a8"
             ],
             [
              0.3333333333333333,
              "#9c179e"
             ],
             [
              0.4444444444444444,
              "#bd3786"
             ],
             [
              0.5555555555555556,
              "#d8576b"
             ],
             [
              0.6666666666666666,
              "#ed7953"
             ],
             [
              0.7777777777777778,
              "#fb9f3a"
             ],
             [
              0.8888888888888888,
              "#fdca26"
             ],
             [
              1,
              "#f0f921"
             ]
            ],
            "type": "heatmap"
           }
          ],
          "heatmapgl": [
           {
            "colorbar": {
             "outlinewidth": 0,
             "ticks": ""
            },
            "colorscale": [
             [
              0,
              "#0d0887"
             ],
             [
              0.1111111111111111,
              "#46039f"
             ],
             [
              0.2222222222222222,
              "#7201a8"
             ],
             [
              0.3333333333333333,
              "#9c179e"
             ],
             [
              0.4444444444444444,
              "#bd3786"
             ],
             [
              0.5555555555555556,
              "#d8576b"
             ],
             [
              0.6666666666666666,
              "#ed7953"
             ],
             [
              0.7777777777777778,
              "#fb9f3a"
             ],
             [
              0.8888888888888888,
              "#fdca26"
             ],
             [
              1,
              "#f0f921"
             ]
            ],
            "type": "heatmapgl"
           }
          ],
          "histogram": [
           {
            "marker": {
             "pattern": {
              "fillmode": "overlay",
              "size": 10,
              "solidity": 0.2
             }
            },
            "type": "histogram"
           }
          ],
          "histogram2d": [
           {
            "colorbar": {
             "outlinewidth": 0,
             "ticks": ""
            },
            "colorscale": [
             [
              0,
              "#0d0887"
             ],
             [
              0.1111111111111111,
              "#46039f"
             ],
             [
              0.2222222222222222,
              "#7201a8"
             ],
             [
              0.3333333333333333,
              "#9c179e"
             ],
             [
              0.4444444444444444,
              "#bd3786"
             ],
             [
              0.5555555555555556,
              "#d8576b"
             ],
             [
              0.6666666666666666,
              "#ed7953"
             ],
             [
              0.7777777777777778,
              "#fb9f3a"
             ],
             [
              0.8888888888888888,
              "#fdca26"
             ],
             [
              1,
              "#f0f921"
             ]
            ],
            "type": "histogram2d"
           }
          ],
          "histogram2dcontour": [
           {
            "colorbar": {
             "outlinewidth": 0,
             "ticks": ""
            },
            "colorscale": [
             [
              0,
              "#0d0887"
             ],
             [
              0.1111111111111111,
              "#46039f"
             ],
             [
              0.2222222222222222,
              "#7201a8"
             ],
             [
              0.3333333333333333,
              "#9c179e"
             ],
             [
              0.4444444444444444,
              "#bd3786"
             ],
             [
              0.5555555555555556,
              "#d8576b"
             ],
             [
              0.6666666666666666,
              "#ed7953"
             ],
             [
              0.7777777777777778,
              "#fb9f3a"
             ],
             [
              0.8888888888888888,
              "#fdca26"
             ],
             [
              1,
              "#f0f921"
             ]
            ],
            "type": "histogram2dcontour"
           }
          ],
          "mesh3d": [
           {
            "colorbar": {
             "outlinewidth": 0,
             "ticks": ""
            },
            "type": "mesh3d"
           }
          ],
          "parcoords": [
           {
            "line": {
             "colorbar": {
              "outlinewidth": 0,
              "ticks": ""
             }
            },
            "type": "parcoords"
           }
          ],
          "pie": [
           {
            "automargin": true,
            "type": "pie"
           }
          ],
          "scatter": [
           {
            "fillpattern": {
             "fillmode": "overlay",
             "size": 10,
             "solidity": 0.2
            },
            "type": "scatter"
           }
          ],
          "scatter3d": [
           {
            "line": {
             "colorbar": {
              "outlinewidth": 0,
              "ticks": ""
             }
            },
            "marker": {
             "colorbar": {
              "outlinewidth": 0,
              "ticks": ""
             }
            },
            "type": "scatter3d"
           }
          ],
          "scattercarpet": [
           {
            "marker": {
             "colorbar": {
              "outlinewidth": 0,
              "ticks": ""
             }
            },
            "type": "scattercarpet"
           }
          ],
          "scattergeo": [
           {
            "marker": {
             "colorbar": {
              "outlinewidth": 0,
              "ticks": ""
             }
            },
            "type": "scattergeo"
           }
          ],
          "scattergl": [
           {
            "marker": {
             "colorbar": {
              "outlinewidth": 0,
              "ticks": ""
             }
            },
            "type": "scattergl"
           }
          ],
          "scattermapbox": [
           {
            "marker": {
             "colorbar": {
              "outlinewidth": 0,
              "ticks": ""
             }
            },
            "type": "scattermapbox"
           }
          ],
          "scatterpolar": [
           {
            "marker": {
             "colorbar": {
              "outlinewidth": 0,
              "ticks": ""
             }
            },
            "type": "scatterpolar"
           }
          ],
          "scatterpolargl": [
           {
            "marker": {
             "colorbar": {
              "outlinewidth": 0,
              "ticks": ""
             }
            },
            "type": "scatterpolargl"
           }
          ],
          "scatterternary": [
           {
            "marker": {
             "colorbar": {
              "outlinewidth": 0,
              "ticks": ""
             }
            },
            "type": "scatterternary"
           }
          ],
          "surface": [
           {
            "colorbar": {
             "outlinewidth": 0,
             "ticks": ""
            },
            "colorscale": [
             [
              0,
              "#0d0887"
             ],
             [
              0.1111111111111111,
              "#46039f"
             ],
             [
              0.2222222222222222,
              "#7201a8"
             ],
             [
              0.3333333333333333,
              "#9c179e"
             ],
             [
              0.4444444444444444,
              "#bd3786"
             ],
             [
              0.5555555555555556,
              "#d8576b"
             ],
             [
              0.6666666666666666,
              "#ed7953"
             ],
             [
              0.7777777777777778,
              "#fb9f3a"
             ],
             [
              0.8888888888888888,
              "#fdca26"
             ],
             [
              1,
              "#f0f921"
             ]
            ],
            "type": "surface"
           }
          ],
          "table": [
           {
            "cells": {
             "fill": {
              "color": "#EBF0F8"
             },
             "line": {
              "color": "white"
             }
            },
            "header": {
             "fill": {
              "color": "#C8D4E3"
             },
             "line": {
              "color": "white"
             }
            },
            "type": "table"
           }
          ]
         },
         "layout": {
          "annotationdefaults": {
           "arrowcolor": "#2a3f5f",
           "arrowhead": 0,
           "arrowwidth": 1
          },
          "autotypenumbers": "strict",
          "coloraxis": {
           "colorbar": {
            "outlinewidth": 0,
            "ticks": ""
           }
          },
          "colorscale": {
           "diverging": [
            [
             0,
             "#8e0152"
            ],
            [
             0.1,
             "#c51b7d"
            ],
            [
             0.2,
             "#de77ae"
            ],
            [
             0.3,
             "#f1b6da"
            ],
            [
             0.4,
             "#fde0ef"
            ],
            [
             0.5,
             "#f7f7f7"
            ],
            [
             0.6,
             "#e6f5d0"
            ],
            [
             0.7,
             "#b8e186"
            ],
            [
             0.8,
             "#7fbc41"
            ],
            [
             0.9,
             "#4d9221"
            ],
            [
             1,
             "#276419"
            ]
           ],
           "sequential": [
            [
             0,
             "#0d0887"
            ],
            [
             0.1111111111111111,
             "#46039f"
            ],
            [
             0.2222222222222222,
             "#7201a8"
            ],
            [
             0.3333333333333333,
             "#9c179e"
            ],
            [
             0.4444444444444444,
             "#bd3786"
            ],
            [
             0.5555555555555556,
             "#d8576b"
            ],
            [
             0.6666666666666666,
             "#ed7953"
            ],
            [
             0.7777777777777778,
             "#fb9f3a"
            ],
            [
             0.8888888888888888,
             "#fdca26"
            ],
            [
             1,
             "#f0f921"
            ]
           ],
           "sequentialminus": [
            [
             0,
             "#0d0887"
            ],
            [
             0.1111111111111111,
             "#46039f"
            ],
            [
             0.2222222222222222,
             "#7201a8"
            ],
            [
             0.3333333333333333,
             "#9c179e"
            ],
            [
             0.4444444444444444,
             "#bd3786"
            ],
            [
             0.5555555555555556,
             "#d8576b"
            ],
            [
             0.6666666666666666,
             "#ed7953"
            ],
            [
             0.7777777777777778,
             "#fb9f3a"
            ],
            [
             0.8888888888888888,
             "#fdca26"
            ],
            [
             1,
             "#f0f921"
            ]
           ]
          },
          "colorway": [
           "#636efa",
           "#EF553B",
           "#00cc96",
           "#ab63fa",
           "#FFA15A",
           "#19d3f3",
           "#FF6692",
           "#B6E880",
           "#FF97FF",
           "#FECB52"
          ],
          "font": {
           "color": "#2a3f5f"
          },
          "geo": {
           "bgcolor": "white",
           "lakecolor": "white",
           "landcolor": "#E5ECF6",
           "showlakes": true,
           "showland": true,
           "subunitcolor": "white"
          },
          "hoverlabel": {
           "align": "left"
          },
          "hovermode": "closest",
          "mapbox": {
           "style": "light"
          },
          "paper_bgcolor": "white",
          "plot_bgcolor": "#E5ECF6",
          "polar": {
           "angularaxis": {
            "gridcolor": "white",
            "linecolor": "white",
            "ticks": ""
           },
           "bgcolor": "#E5ECF6",
           "radialaxis": {
            "gridcolor": "white",
            "linecolor": "white",
            "ticks": ""
           }
          },
          "scene": {
           "xaxis": {
            "backgroundcolor": "#E5ECF6",
            "gridcolor": "white",
            "gridwidth": 2,
            "linecolor": "white",
            "showbackground": true,
            "ticks": "",
            "zerolinecolor": "white"
           },
           "yaxis": {
            "backgroundcolor": "#E5ECF6",
            "gridcolor": "white",
            "gridwidth": 2,
            "linecolor": "white",
            "showbackground": true,
            "ticks": "",
            "zerolinecolor": "white"
           },
           "zaxis": {
            "backgroundcolor": "#E5ECF6",
            "gridcolor": "white",
            "gridwidth": 2,
            "linecolor": "white",
            "showbackground": true,
            "ticks": "",
            "zerolinecolor": "white"
           }
          },
          "shapedefaults": {
           "line": {
            "color": "#2a3f5f"
           }
          },
          "ternary": {
           "aaxis": {
            "gridcolor": "white",
            "linecolor": "white",
            "ticks": ""
           },
           "baxis": {
            "gridcolor": "white",
            "linecolor": "white",
            "ticks": ""
           },
           "bgcolor": "#E5ECF6",
           "caxis": {
            "gridcolor": "white",
            "linecolor": "white",
            "ticks": ""
           }
          },
          "title": {
           "x": 0.05
          },
          "xaxis": {
           "automargin": true,
           "gridcolor": "white",
           "linecolor": "white",
           "ticks": "",
           "title": {
            "standoff": 15
           },
           "zerolinecolor": "white",
           "zerolinewidth": 2
          },
          "yaxis": {
           "automargin": true,
           "gridcolor": "white",
           "linecolor": "white",
           "ticks": "",
           "title": {
            "standoff": 15
           },
           "zerolinecolor": "white",
           "zerolinewidth": 2
          }
         }
        },
        "title": {
         "text": "Volume by Minute and Location"
        },
        "xaxis": {
         "anchor": "y",
         "domain": [
          0,
          1
         ],
         "tickmode": "array",
         "tickvals": [
          0,
          5,
          10,
          15,
          20,
          25,
          30,
          35,
          40,
          45,
          50,
          55
         ],
         "title": {
          "text": "Location"
         }
        },
        "yaxis": {
         "anchor": "x",
         "domain": [
          0,
          1
         ],
         "title": {
          "text": "Total Volume"
         }
        }
       }
      }
     },
     "metadata": {},
     "output_type": "display_data"
    }
   ],
   "source": [
    "# Group by Minute and Location and calculate the sum of Volume\n",
    "minute_location_group = product_data.groupby(['Minute', 'Location'])['Order_Volume'].sum().reset_index()\n",
    "# Create the bar plot \n",
    "fig = px.bar(minute_location_group, x='Location', y='Order_Volume', color='Minute', \n",
    "             labels={'Minute': 'Minute', 'Order_Volume': 'Total Volume'},\n",
    "             title='Volume by Minute and Location')\n",
    "fig.update_xaxes(tickmode='array', tickvals=list(range(0, 60, 5)))\n",
    "fig.show()\n"
   ]
  },
  {
   "cell_type": "markdown",
   "metadata": {},
   "source": [
    "### Findings\n",
    "- **Average Order Size with Traffic, Weather, isHoliday, and Sundays:**  \n",
    "  The average order size with all these features (Traffic, Weather, isHoliday, and Sundays) is approximately 22.44 units.\n",
    "\n",
    "- **Total Order Size with Traffic, Weather, isHoliday, and Sundays:**  \n",
    "  The total order size with all these features is approximately 224.44 units.\n",
    "\n",
    "- **Average Order Size with Traffic, Weather, and Holiday (Excluding Sundays):**  \n",
    "  The average order size when excluding Sundays, but keeping Traffic, Weather, and isHoliday features, is approximately 18.37 units.\n",
    "\n",
    "- **Total Order Size with Traffic, Weather, and Holiday (Excluding Sundays):**  \n",
    "  The total order size when excluding Sundays is approximately 183.72 units.\n",
    "\n",
    "- **Order Size Difference (Including Sundays vs. Excluding Sundays):**  \n",
    "  There is a noticeable difference between the total and average order size when Sundays are included. The inclusion of Sundays increases the order size by 40.72 units, suggesting a potential uplift in sales on Sundays.\n",
    "\n",
    "- **Effect of Traffic, Weather, and Holiday Features:**  \n",
    "  Both the inclusion of these features with Sundays and without Sundays show a decrease in order size when excluding Sundays, pointing to Sundays playing an important role in boosting order volumes.\n",
    "\n",
    "- **Comparison between Traffic, Weather, and isHoliday with and without Sundays:**  \n",
    "  The absence of Sundays leads to a reduction in both the total and average order sizes. This indicates that Sundays might influence traffic or customer behavior, potentially due to promotional or higher engagement activities during the weekend.\n",
    "\n",
    "- **Overall Impact of Sundays:**  \n",
    "  Sundays seem to play a significant role in increasing both the average and total order size when combined with other features like traffic, weather, and holidays. This could indicate a higher level of customer activity or promotions leading to more purchases on Sundays.\n",
    "\n",
    "### Conclusion\n",
    "Based on the analysis, Sundays appear to have a positive effect on order size, with both the average and total order sizes being higher when Sundays are included. The removal of Sundays from the features results in a decrease in order sizes, highlighting the importance of Sundays in driving customer activity and boosting order volumes. This could be useful in understanding customer purchasing patterns, especially for future promotional strategies or targeted marketing.\n"
   ]
  },
  {
   "cell_type": "markdown",
   "metadata": {},
   "source": [
    "<h1>Time Series Analaysis of bread in 'Koramangala'</h1>"
   ]
  },
  {
   "cell_type": "markdown",
   "metadata": {},
   "source": []
  }
 ],
 "metadata": {
  "kernelspec": {
   "display_name": "Python 3",
   "language": "python",
   "name": "python3"
  },
  "language_info": {
   "codemirror_mode": {
    "name": "ipython",
    "version": 3
   },
   "file_extension": ".py",
   "mimetype": "text/x-python",
   "name": "python",
   "nbconvert_exporter": "python",
   "pygments_lexer": "ipython3",
   "version": "3.11.0"
  }
 },
 "nbformat": 4,
 "nbformat_minor": 2
}
