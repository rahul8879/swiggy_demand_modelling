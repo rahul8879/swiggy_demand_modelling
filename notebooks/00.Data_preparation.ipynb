{
 "cells": [
  {
   "cell_type": "code",
   "execution_count": 1,
   "metadata": {},
   "outputs": [],
   "source": [
    "import pandas as pd\n",
    "import numpy as np\n",
    "import matplotlib.pyplot as plt\n",
    "from statsmodels.tsa.seasonal import seasonal_decompose"
   ]
  },
  {
   "cell_type": "code",
   "execution_count": 2,
   "metadata": {},
   "outputs": [
    {
     "name": "stderr",
     "output_type": "stream",
     "text": [
      "C:\\Users\\Rahul\\AppData\\Local\\Temp\\ipykernel_3040\\3151598662.py:11: SettingWithCopyWarning: \n",
      "A value is trying to be set on a copy of a slice from a DataFrame.\n",
      "Try using .loc[row_indexer,col_indexer] = value instead\n",
      "\n",
      "See the caveats in the documentation: https://pandas.pydata.org/pandas-docs/stable/user_guide/indexing.html#returning-a-view-versus-a-copy\n",
      "  product_data['DateTime'] = pd.to_datetime(product_data['Date']) + pd.to_timedelta(product_data['Hour'], unit='h')\n"
     ]
    }
   ],
   "source": [
    "# Load the dataset\n",
    "forecasting_data = pd.read_csv('../data/processed/dataset.csv')\n",
    "\n",
    "# Filter for the product 'Milk' and location 'Koramangala'\n",
    "product_data = forecasting_data[\n",
    "    (forecasting_data['Product'] == 'Milk') &\n",
    "    (forecasting_data['Location'] == 'Koramangala')\n",
    "]\n",
    "\n",
    "# Combine Date and Hour into a DateTime column\n",
    "product_data['DateTime'] = pd.to_datetime(product_data['Date']) + pd.to_timedelta(product_data['Hour'], unit='h')\n",
    "\n",
    "# Aggregate data by DateTime\n",
    "aggregated_data = product_data.groupby('DateTime')['Order_Volume'].sum()"
   ]
  },
  {
   "cell_type": "code",
   "execution_count": 7,
   "metadata": {},
   "outputs": [
    {
     "name": "stdout",
     "output_type": "stream",
     "text": [
      "        Date  Order_Volume\n",
      "0 2023-01-01          5019\n",
      "1 2023-01-02          3714\n",
      "2 2023-01-03          3839\n",
      "3 2023-01-04          4911\n",
      "4 2023-01-05          4970\n"
     ]
    },
    {
     "name": "stderr",
     "output_type": "stream",
     "text": [
      "C:\\Users\\Rahul\\AppData\\Local\\Temp\\ipykernel_3040\\2635021989.py:6: SettingWithCopyWarning: \n",
      "A value is trying to be set on a copy of a slice from a DataFrame.\n",
      "Try using .loc[row_indexer,col_indexer] = value instead\n",
      "\n",
      "See the caveats in the documentation: https://pandas.pydata.org/pandas-docs/stable/user_guide/indexing.html#returning-a-view-versus-a-copy\n",
      "  filtered_data[\"Date\"] = pd.to_datetime(filtered_data[\"Date\"])\n"
     ]
    }
   ],
   "source": [
    "def filter_data(data, product, location, frequency):\n",
    "    # Filter by product and location\n",
    "    filtered_data = data[(data[\"Product\"] == product) & (data[\"Location\"] == location)]\n",
    "\n",
    "    # Convert 'Date' to datetime for time-based resampling\n",
    "    filtered_data[\"Date\"] = pd.to_datetime(filtered_data[\"Date\"])\n",
    "\n",
    "    # Handle frequency\n",
    "    if frequency == \"daily\":\n",
    "        resampled_data = filtered_data.groupby(\"Date\")[\"Order_Volume\"].sum().reset_index()\n",
    "    elif frequency == \"hourly\":\n",
    "        # Combine Date and Hour into a single datetime column\n",
    "        filtered_data[\"Datetime\"] = filtered_data[\"Date\"] + pd.to_timedelta(filtered_data[\"Hour\"], unit=\"h\")\n",
    "        resampled_data = filtered_data.groupby(\"Datetime\")[\"Order_Volume\"].sum().reset_index()\n",
    "    elif frequency == \"monthly\":\n",
    "        # Extract month and year for grouping\n",
    "        filtered_data[\"Month\"] = filtered_data[\"Date\"].dt.to_period(\"M\")\n",
    "        resampled_data = filtered_data.groupby(\"Month\")[\"Order_Volume\"].sum().reset_index()\n",
    "        resampled_data[\"Month\"] = resampled_data[\"Month\"].dt.to_timestamp()  # Convert period to timestamp\n",
    "    else:\n",
    "        raise ValueError(\"Invalid frequency. Choose from 'daily', 'hourly', or 'monthly'.\")\n",
    "\n",
    "    return resampled_data\n",
    "\n",
    "# Example Usage\n",
    "product = \"Milk\"\n",
    "location = \"Koramangala\"\n",
    "frequency = \"daily\"  # Can be 'daily', 'hourly', or 'monthly'\n",
    "filtered_data = filter_data(forecasting_data, product, location, frequency)\n",
    "print(filtered_data.head())\n"
   ]
  },
  {
   "cell_type": "code",
   "execution_count": 8,
   "metadata": {},
   "outputs": [
    {
     "name": "stdout",
     "output_type": "stream",
     "text": [
      "Collecting prophet\n",
      "  Downloading prophet-1.1.6-py3-none-win_amd64.whl.metadata (3.6 kB)\n",
      "Collecting cmdstanpy>=1.0.4 (from prophet)\n",
      "  Downloading cmdstanpy-1.2.5-py3-none-any.whl.metadata (4.0 kB)\n",
      "Requirement already satisfied: numpy>=1.15.4 in c:\\users\\rahul\\anaconda3\\envs\\live-demo\\lib\\site-packages (from prophet) (2.0.2)\n",
      "Requirement already satisfied: matplotlib>=2.0.0 in c:\\users\\rahul\\anaconda3\\envs\\live-demo\\lib\\site-packages (from prophet) (3.9.4)\n",
      "Requirement already satisfied: pandas>=1.0.4 in c:\\users\\rahul\\anaconda3\\envs\\live-demo\\lib\\site-packages (from prophet) (2.2.3)\n",
      "Collecting holidays<1,>=0.25 (from prophet)\n",
      "  Downloading holidays-0.64-py3-none-any.whl.metadata (26 kB)\n",
      "Collecting tqdm>=4.36.1 (from prophet)\n",
      "  Downloading tqdm-4.67.1-py3-none-any.whl.metadata (57 kB)\n",
      "     ---------------------------------------- 0.0/57.7 kB ? eta -:--:--\n",
      "     ------------- ------------------------ 20.5/57.7 kB 682.7 kB/s eta 0:00:01\n",
      "     --------------------------------- ---- 51.2/57.7 kB 890.4 kB/s eta 0:00:01\n",
      "     -------------------------------------- 57.7/57.7 kB 608.1 kB/s eta 0:00:00\n",
      "Requirement already satisfied: importlib-resources in c:\\users\\rahul\\anaconda3\\envs\\live-demo\\lib\\site-packages (from prophet) (6.4.5)\n",
      "Collecting stanio<2.0.0,>=0.4.0 (from cmdstanpy>=1.0.4->prophet)\n",
      "  Downloading stanio-0.5.1-py3-none-any.whl.metadata (1.6 kB)\n",
      "Requirement already satisfied: python-dateutil in c:\\users\\rahul\\anaconda3\\envs\\live-demo\\lib\\site-packages (from holidays<1,>=0.25->prophet) (2.9.0.post0)\n",
      "Requirement already satisfied: contourpy>=1.0.1 in c:\\users\\rahul\\anaconda3\\envs\\live-demo\\lib\\site-packages (from matplotlib>=2.0.0->prophet) (1.3.0)\n",
      "Requirement already satisfied: cycler>=0.10 in c:\\users\\rahul\\anaconda3\\envs\\live-demo\\lib\\site-packages (from matplotlib>=2.0.0->prophet) (0.12.1)\n",
      "Requirement already satisfied: fonttools>=4.22.0 in c:\\users\\rahul\\anaconda3\\envs\\live-demo\\lib\\site-packages (from matplotlib>=2.0.0->prophet) (4.55.3)\n",
      "Requirement already satisfied: kiwisolver>=1.3.1 in c:\\users\\rahul\\anaconda3\\envs\\live-demo\\lib\\site-packages (from matplotlib>=2.0.0->prophet) (1.4.7)\n",
      "Requirement already satisfied: packaging>=20.0 in c:\\users\\rahul\\anaconda3\\envs\\live-demo\\lib\\site-packages (from matplotlib>=2.0.0->prophet) (24.2)\n",
      "Requirement already satisfied: pillow>=8 in c:\\users\\rahul\\anaconda3\\envs\\live-demo\\lib\\site-packages (from matplotlib>=2.0.0->prophet) (11.0.0)\n",
      "Requirement already satisfied: pyparsing>=2.3.1 in c:\\users\\rahul\\anaconda3\\envs\\live-demo\\lib\\site-packages (from matplotlib>=2.0.0->prophet) (3.2.0)\n",
      "Requirement already satisfied: zipp>=3.1.0 in c:\\users\\rahul\\anaconda3\\envs\\live-demo\\lib\\site-packages (from importlib-resources->prophet) (3.21.0)\n",
      "Requirement already satisfied: pytz>=2020.1 in c:\\users\\rahul\\anaconda3\\envs\\live-demo\\lib\\site-packages (from pandas>=1.0.4->prophet) (2024.2)\n",
      "Requirement already satisfied: tzdata>=2022.7 in c:\\users\\rahul\\anaconda3\\envs\\live-demo\\lib\\site-packages (from pandas>=1.0.4->prophet) (2024.2)\n",
      "Requirement already satisfied: colorama in c:\\users\\rahul\\anaconda3\\envs\\live-demo\\lib\\site-packages (from tqdm>=4.36.1->prophet) (0.4.6)\n",
      "Requirement already satisfied: six>=1.5 in c:\\users\\rahul\\anaconda3\\envs\\live-demo\\lib\\site-packages (from python-dateutil->holidays<1,>=0.25->prophet) (1.17.0)\n",
      "Downloading prophet-1.1.6-py3-none-win_amd64.whl (13.3 MB)\n",
      "   ---------------------------------------- 0.0/13.3 MB ? eta -:--:--\n",
      "   ---------------------------------------- 0.1/13.3 MB 3.0 MB/s eta 0:00:05\n",
      "    --------------------------------------- 0.3/13.3 MB 4.3 MB/s eta 0:00:04\n",
      "   - -------------------------------------- 0.6/13.3 MB 5.1 MB/s eta 0:00:03\n",
      "   -- ------------------------------------- 0.8/13.3 MB 4.5 MB/s eta 0:00:03\n",
      "   -- ------------------------------------- 1.0/13.3 MB 4.8 MB/s eta 0:00:03\n",
      "   --- ------------------------------------ 1.0/13.3 MB 4.9 MB/s eta 0:00:03\n",
      "   ---- ----------------------------------- 1.4/13.3 MB 4.6 MB/s eta 0:00:03\n",
      "   ---- ----------------------------------- 1.5/13.3 MB 4.3 MB/s eta 0:00:03\n",
      "   ----- ---------------------------------- 1.8/13.3 MB 4.8 MB/s eta 0:00:03\n",
      "   ----- ---------------------------------- 1.8/13.3 MB 4.5 MB/s eta 0:00:03\n",
      "   ----- ---------------------------------- 1.8/13.3 MB 4.5 MB/s eta 0:00:03\n",
      "   ------- -------------------------------- 2.5/13.3 MB 4.6 MB/s eta 0:00:03\n",
      "   -------- ------------------------------- 2.7/13.3 MB 4.8 MB/s eta 0:00:03\n",
      "   -------- ------------------------------- 2.9/13.3 MB 4.8 MB/s eta 0:00:03\n",
      "   --------- ------------------------------ 3.1/13.3 MB 4.7 MB/s eta 0:00:03\n",
      "   --------- ------------------------------ 3.2/13.3 MB 4.7 MB/s eta 0:00:03\n",
      "   --------- ------------------------------ 3.2/13.3 MB 4.7 MB/s eta 0:00:03\n",
      "   ---------- ----------------------------- 3.5/13.3 MB 4.4 MB/s eta 0:00:03\n",
      "   ------------ --------------------------- 4.0/13.3 MB 4.8 MB/s eta 0:00:02\n",
      "   ------------ --------------------------- 4.3/13.3 MB 4.8 MB/s eta 0:00:02\n",
      "   ------------- -------------------------- 4.5/13.3 MB 4.8 MB/s eta 0:00:02\n",
      "   -------------- ------------------------- 4.7/13.3 MB 4.8 MB/s eta 0:00:02\n",
      "   -------------- ------------------------- 4.9/13.3 MB 4.8 MB/s eta 0:00:02\n",
      "   --------------- ------------------------ 5.1/13.3 MB 4.7 MB/s eta 0:00:02\n",
      "   ---------------- ----------------------- 5.4/13.3 MB 4.8 MB/s eta 0:00:02\n",
      "   ---------------- ----------------------- 5.5/13.3 MB 4.8 MB/s eta 0:00:02\n",
      "   ----------------- ---------------------- 5.8/13.3 MB 4.8 MB/s eta 0:00:02\n",
      "   ------------------ --------------------- 6.0/13.3 MB 4.8 MB/s eta 0:00:02\n",
      "   ------------------ --------------------- 6.2/13.3 MB 4.8 MB/s eta 0:00:02\n",
      "   ------------------- -------------------- 6.5/13.3 MB 4.8 MB/s eta 0:00:02\n",
      "   -------------------- ------------------- 6.7/13.3 MB 4.8 MB/s eta 0:00:02\n",
      "   -------------------- ------------------- 6.9/13.3 MB 4.8 MB/s eta 0:00:02\n",
      "   --------------------- ------------------ 7.1/13.3 MB 4.8 MB/s eta 0:00:02\n",
      "   --------------------- ------------------ 7.3/13.3 MB 4.8 MB/s eta 0:00:02\n",
      "   ---------------------- ----------------- 7.6/13.3 MB 4.8 MB/s eta 0:00:02\n",
      "   ----------------------- ---------------- 7.8/13.3 MB 4.8 MB/s eta 0:00:02\n",
      "   ------------------------ --------------- 8.0/13.3 MB 4.8 MB/s eta 0:00:02\n",
      "   ------------------------ --------------- 8.3/13.3 MB 4.8 MB/s eta 0:00:02\n",
      "   ------------------------ --------------- 8.3/13.3 MB 4.8 MB/s eta 0:00:02\n",
      "   ------------------------ --------------- 8.3/13.3 MB 4.8 MB/s eta 0:00:02\n",
      "   -------------------------- ------------- 8.9/13.3 MB 4.8 MB/s eta 0:00:01\n",
      "   --------------------------- ------------ 9.1/13.3 MB 4.8 MB/s eta 0:00:01\n",
      "   --------------------------- ------------ 9.3/13.3 MB 4.8 MB/s eta 0:00:01\n",
      "   ---------------------------- ----------- 9.7/13.3 MB 4.8 MB/s eta 0:00:01\n",
      "   ----------------------------- ---------- 9.9/13.3 MB 4.8 MB/s eta 0:00:01\n",
      "   ------------------------------ --------- 10.1/13.3 MB 4.8 MB/s eta 0:00:01\n",
      "   ------------------------------ --------- 10.3/13.3 MB 4.8 MB/s eta 0:00:01\n",
      "   ------------------------------- -------- 10.5/13.3 MB 4.8 MB/s eta 0:00:01\n",
      "   -------------------------------- ------- 10.8/13.3 MB 4.8 MB/s eta 0:00:01\n",
      "   -------------------------------- ------- 10.9/13.3 MB 4.8 MB/s eta 0:00:01\n",
      "   --------------------------------- ------ 11.1/13.3 MB 4.8 MB/s eta 0:00:01\n",
      "   --------------------------------- ------ 11.2/13.3 MB 4.7 MB/s eta 0:00:01\n",
      "   ---------------------------------- ----- 11.5/13.3 MB 4.7 MB/s eta 0:00:01\n",
      "   ---------------------------------- ----- 11.6/13.3 MB 4.7 MB/s eta 0:00:01\n",
      "   ----------------------------------- ---- 11.9/13.3 MB 4.7 MB/s eta 0:00:01\n",
      "   ------------------------------------ --- 12.1/13.3 MB 4.9 MB/s eta 0:00:01\n",
      "   ------------------------------------- -- 12.3/13.3 MB 4.8 MB/s eta 0:00:01\n",
      "   ------------------------------------- -- 12.6/13.3 MB 4.8 MB/s eta 0:00:01\n",
      "   -------------------------------------- - 12.8/13.3 MB 4.7 MB/s eta 0:00:01\n",
      "   ---------------------------------------  13.1/13.3 MB 4.7 MB/s eta 0:00:01\n",
      "   ---------------------------------------  13.3/13.3 MB 4.7 MB/s eta 0:00:01\n",
      "   ---------------------------------------  13.3/13.3 MB 4.8 MB/s eta 0:00:01\n",
      "   ---------------------------------------  13.3/13.3 MB 4.8 MB/s eta 0:00:01\n",
      "   ---------------------------------------- 13.3/13.3 MB 4.5 MB/s eta 0:00:00\n",
      "Downloading cmdstanpy-1.2.5-py3-none-any.whl (94 kB)\n",
      "   ---------------------------------------- 0.0/94.5 kB ? eta -:--:--\n",
      "   ---------------------------------------- 94.5/94.5 kB 2.7 MB/s eta 0:00:00\n",
      "Downloading holidays-0.64-py3-none-any.whl (1.2 MB)\n",
      "   ---------------------------------------- 0.0/1.2 MB ? eta -:--:--\n",
      "   ---------- ----------------------------- 0.3/1.2 MB 9.6 MB/s eta 0:00:01\n",
      "   -------------------- ------------------- 0.6/1.2 MB 5.5 MB/s eta 0:00:01\n",
      "   ---------------------------- ----------- 0.9/1.2 MB 5.6 MB/s eta 0:00:01\n",
      "   ------------------------------------ --- 1.1/1.2 MB 5.5 MB/s eta 0:00:01\n",
      "   ---------------------------------------- 1.2/1.2 MB 4.8 MB/s eta 0:00:00\n",
      "Downloading tqdm-4.67.1-py3-none-any.whl (78 kB)\n",
      "   ---------------------------------------- 0.0/78.5 kB ? eta -:--:--\n",
      "   ---------------------------------------- 78.5/78.5 kB 4.6 MB/s eta 0:00:00\n",
      "Downloading stanio-0.5.1-py3-none-any.whl (8.1 kB)\n",
      "Installing collected packages: tqdm, stanio, holidays, cmdstanpy, prophet\n",
      "Successfully installed cmdstanpy-1.2.5 holidays-0.64 prophet-1.1.6 stanio-0.5.1 tqdm-4.67.1\n"
     ]
    }
   ],
   "source": [
    "!pip install prophet"
   ]
  },
  {
   "cell_type": "code",
   "execution_count": 10,
   "metadata": {},
   "outputs": [
    {
     "name": "stdout",
     "output_type": "stream",
     "text": [
      "        Date Product     Location  Order_Volume\n",
      "0 2023-01-01   Bread  Indiranagar          4833\n",
      "1 2023-01-01   Bread  Koramangala          4960\n",
      "2 2023-01-01    Milk  Indiranagar          4953\n",
      "3 2023-01-01    Milk  Koramangala          5019\n",
      "4 2023-01-02   Bread  Indiranagar          3693\n"
     ]
    }
   ],
   "source": [
    "def filter_data(data, products=None, locations=None, frequency=\"daily\"):\n",
    "    # Filter by products and locations\n",
    "    if products and products != \"all\":\n",
    "        data = data[data[\"Product\"].isin(products)]\n",
    "    if locations and locations != \"all\":\n",
    "        data = data[data[\"Location\"].isin(locations)]\n",
    "\n",
    "    # Convert 'Date' to datetime for time-based resampling\n",
    "    data[\"Date\"] = pd.to_datetime(data[\"Date\"])\n",
    "\n",
    "    # Handle frequency\n",
    "    if frequency == \"daily\":\n",
    "        resampled_data = data.groupby([\"Date\", \"Product\", \"Location\"])[\"Order_Volume\"].sum().reset_index()\n",
    "    elif frequency == \"hourly\":\n",
    "        # Combine Date and Hour into a single datetime column\n",
    "        data[\"Datetime\"] = data[\"Date\"] + pd.to_timedelta(data[\"Hour\"], unit=\"h\")\n",
    "        resampled_data = data.groupby([\"Datetime\", \"Product\", \"Location\"])[\"Order_Volume\"].sum().reset_index()\n",
    "    elif frequency == \"monthly\":\n",
    "        # Extract month and year for grouping\n",
    "        data[\"Month\"] = data[\"Date\"].dt.to_period(\"M\")\n",
    "        resampled_data = data.groupby([\"Month\", \"Product\", \"Location\"])[\"Order_Volume\"].sum().reset_index()\n",
    "        resampled_data[\"Month\"] = resampled_data[\"Month\"].dt.to_timestamp()  # Convert period to timestamp\n",
    "    else:\n",
    "        raise ValueError(\"Invalid frequency. Choose from 'daily', 'hourly', or 'monthly'.\")\n",
    "\n",
    "    return resampled_data\n",
    "\n",
    "# Example Usage\n",
    "products = [\"Milk\", \"Bread\"]  # List of products\n",
    "locations = [\"Koramangala\", \"Indiranagar\"]  # List of locations\n",
    "frequency = \"daily\"  # Can be 'daily', 'hourly', or 'monthly'\n",
    "filtered_data = filter_data(forecasting_data, products, locations, frequency)\n",
    "print(filtered_data.head())\n"
   ]
  },
  {
   "cell_type": "code",
   "execution_count": 11,
   "metadata": {},
   "outputs": [
    {
     "name": "stderr",
     "output_type": "stream",
     "text": [
      "18:08:03 - cmdstanpy - INFO - Chain [1] start processing\n",
      "18:08:03 - cmdstanpy - INFO - Chain [1] done processing\n",
      "18:08:03 - cmdstanpy - INFO - Chain [1] start processing\n",
      "18:08:03 - cmdstanpy - INFO - Chain [1] done processing\n",
      "18:08:04 - cmdstanpy - INFO - Chain [1] start processing\n",
      "18:08:04 - cmdstanpy - INFO - Chain [1] done processing\n",
      "18:08:04 - cmdstanpy - INFO - Chain [1] start processing\n",
      "18:08:04 - cmdstanpy - INFO - Chain [1] done processing\n"
     ]
    },
    {
     "name": "stdout",
     "output_type": "stream",
     "text": [
      "{('Bread', 'Indiranagar'): [{'ds': Timestamp('2023-01-01 00:00:00'), 'yhat': 4933.747274128648}, {'ds': Timestamp('2023-01-02 00:00:00'), 'yhat': 3790.178228309451}, {'ds': Timestamp('2023-01-03 00:00:00'), 'yhat': 3848.550609446311}, {'ds': Timestamp('2023-01-04 00:00:00'), 'yhat': 4967.55178834245}, {'ds': Timestamp('2023-01-05 00:00:00'), 'yhat': 4968.668591166777}, {'ds': Timestamp('2023-01-06 00:00:00'), 'yhat': 3805.7967795406585}, {'ds': Timestamp('2023-01-07 00:00:00'), 'yhat': 4936.924495315373}, {'ds': Timestamp('2023-01-08 00:00:00'), 'yhat': 4934.257635298876}, {'ds': Timestamp('2023-01-09 00:00:00'), 'yhat': 3790.688589358542}, {'ds': Timestamp('2023-01-10 00:00:00'), 'yhat': 3849.060970377468}, {'ds': Timestamp('2023-01-11 00:00:00'), 'yhat': 4968.062148624971}, {'ds': Timestamp('2023-01-12 00:00:00'), 'yhat': 4969.1789508105185}, {'ds': Timestamp('2023-01-13 00:00:00'), 'yhat': 3806.3071386636143}, {'ds': Timestamp('2023-01-14 00:00:00'), 'yhat': 4937.434853918796}, {'ds': Timestamp('2023-01-15 00:00:00'), 'yhat': 4934.767993518564}, {'ds': Timestamp('2023-01-16 00:00:00'), 'yhat': 3791.1989472011455}, {'ds': Timestamp('2023-01-17 00:00:00'), 'yhat': 3849.5713278331773}, {'ds': Timestamp('2023-01-18 00:00:00'), 'yhat': 4968.572506220009}, {'ds': Timestamp('2023-01-19 00:00:00'), 'yhat': 4969.689308542831}, {'ds': Timestamp('2023-01-20 00:00:00'), 'yhat': 3806.8174968238486}, {'ds': Timestamp('2023-01-21 00:00:00'), 'yhat': 4937.945212505696}, {'ds': Timestamp('2023-01-22 00:00:00'), 'yhat': 4935.278352393016}, {'ds': Timestamp('2023-01-23 00:00:00'), 'yhat': 3791.709306361366}, {'ds': Timestamp('2023-01-24 00:00:00'), 'yhat': 3850.0816874166776}, {'ds': Timestamp('2023-01-25 00:00:00'), 'yhat': 4969.082866225985}, {'ds': Timestamp('2023-01-26 00:00:00'), 'yhat': 4970.199668967745}, {'ds': Timestamp('2023-01-27 00:00:00'), 'yhat': 3807.327857382539}, {'ds': Timestamp('2023-01-28 00:00:00'), 'yhat': 4938.455573410835}, {'ds': Timestamp('2023-01-29 00:00:00'), 'yhat': 4935.788713650368}, {'ds': Timestamp('2023-01-30 00:00:00'), 'yhat': 3792.2196679687495}, {'ds': Timestamp('2023-01-31 00:00:00'), 'yhat': 3850.5920492413397}, {'ds': Timestamp('2023-02-01 00:00:00'), 'yhat': 4969.593228263034}, {'ds': Timestamp('2023-02-02 00:00:00'), 'yhat': 4970.711417706717}, {'ds': Timestamp('2023-02-03 00:00:00'), 'yhat': 3807.8409928221317}, {'ds': Timestamp('2023-02-04 00:00:00'), 'yhat': 4938.970095333746}, {'ds': Timestamp('2023-02-05 00:00:00'), 'yhat': 4936.304622055302}, {'ds': Timestamp('2023-02-06 00:00:00'), 'yhat': 3792.742738315554}, {'ds': Timestamp('2023-02-07 00:00:00'), 'yhat': 3851.122281525969}, {'ds': Timestamp('2023-02-08 00:00:00'), 'yhat': 4970.13062249536}, {'ds': Timestamp('2023-02-09 00:00:00'), 'yhat': 4971.254587395079}, {'ds': Timestamp('2023-02-10 00:00:00'), 'yhat': 3808.3899379692134}, {'ds': Timestamp('2023-02-11 00:00:00'), 'yhat': 4939.526906422239}, {'ds': Timestamp('2023-02-12 00:00:00'), 'yhat': 4936.8692990854215}, {'ds': Timestamp('2023-02-13 00:00:00'), 'yhat': 3793.309505823593}, {'ds': Timestamp('2023-02-14 00:00:00'), 'yhat': 3851.6911395207717}, {'ds': Timestamp('2023-02-15 00:00:00'), 'yhat': 4970.701571093958}, {'ds': Timestamp('2023-02-16 00:00:00'), 'yhat': 4971.82762660126}, {'ds': Timestamp('2023-02-17 00:00:00'), 'yhat': 3808.965067784765}, {'ds': Timestamp('2023-02-18 00:00:00'), 'yhat': 4940.102036365296}, {'ds': Timestamp('2023-02-19 00:00:00'), 'yhat': 4937.44443431891}, {'ds': Timestamp('2023-02-20 00:00:00'), 'yhat': 3793.8846463506025}, {'ds': Timestamp('2023-02-21 00:00:00'), 'yhat': 3852.266285341932}, {'ds': Timestamp('2023-02-22 00:00:00'), 'yhat': 4971.27672208358}, {'ds': Timestamp('2023-02-23 00:00:00'), 'yhat': 4972.4027827603295}, {'ds': Timestamp('2023-02-24 00:00:00'), 'yhat': 3809.5402290133566}, {'ds': Timestamp('2023-02-25 00:00:00'), 'yhat': 4940.677202667118}, {'ds': Timestamp('2023-02-26 00:00:00'), 'yhat': 4938.0196005278385}, {'ds': Timestamp('2023-02-27 00:00:00'), 'yhat': 3794.4598124652994}, {'ds': Timestamp('2023-02-28 00:00:00'), 'yhat': 3852.841452250237}, {'ds': Timestamp('2023-03-01 00:00:00'), 'yhat': 4971.851889794122}, {'ds': Timestamp('2023-03-02 00:00:00'), 'yhat': 4972.977951265684}, {'ds': Timestamp('2023-03-03 00:00:00'), 'yhat': 3810.1153984109765}, {'ds': Timestamp('2023-03-04 00:00:00'), 'yhat': 4941.252372957076}, {'ds': Timestamp('2023-03-05 00:00:00'), 'yhat': 4938.595341847758}, {'ds': Timestamp('2023-03-06 00:00:00'), 'yhat': 3795.036124822715}, {'ds': Timestamp('2023-03-07 00:00:00'), 'yhat': 3853.418334745847}, {'ds': Timestamp('2023-03-08 00:00:00'), 'yhat': 4972.429342430913}, {'ds': Timestamp('2023-03-09 00:00:00'), 'yhat': 4973.555987531635}, {'ds': Timestamp('2023-03-10 00:00:00'), 'yhat': 3810.6940183058828}, {'ds': Timestamp('2023-03-11 00:00:00'), 'yhat': 4941.831576476955}, {'ds': Timestamp('2023-03-12 00:00:00'), 'yhat': 4939.174558856991}, {'ds': Timestamp('2023-03-13 00:00:00'), 'yhat': 3795.6153558208443}, {'ds': Timestamp('2023-03-14 00:00:00'), 'yhat': 3853.9975797347884}, {'ds': Timestamp('2023-03-15 00:00:00'), 'yhat': 4973.008601408616}, {'ds': Timestamp('2023-03-16 00:00:00'), 'yhat': 4974.135247008297}, {'ds': Timestamp('2023-03-17 00:00:00'), 'yhat': 3811.2732782852704}, {'ds': Timestamp('2023-03-18 00:00:00'), 'yhat': 4942.410837235919}, {'ds': Timestamp('2023-03-19 00:00:00'), 'yhat': 4939.753820393697}, {'ds': Timestamp('2023-03-20 00:00:00'), 'yhat': 3796.194617631124}, {'ds': Timestamp('2023-03-21 00:00:00'), 'yhat': 3854.5768418254265}, {'ds': Timestamp('2023-03-22 00:00:00'), 'yhat': 4973.587863792231}, {'ds': Timestamp('2023-03-23 00:00:00'), 'yhat': 4974.714509690476}, {'ds': Timestamp('2023-03-24 00:00:00'), 'yhat': 3811.852541265526}, {'ds': Timestamp('2023-03-25 00:00:00'), 'yhat': 4942.990100237063}, {'ds': Timestamp('2023-03-26 00:00:00'), 'yhat': 4940.333083412917}, {'ds': Timestamp('2023-03-27 00:00:00'), 'yhat': 3796.7738807064916}, {'ds': Timestamp('2023-03-28 00:00:00'), 'yhat': 3855.1561049473116}, {'ds': Timestamp('2023-03-29 00:00:00'), 'yhat': 4974.167126944188}, {'ds': Timestamp('2023-03-30 00:00:00'), 'yhat': 4975.293772875276}, {'ds': Timestamp('2023-03-31 00:00:00'), 'yhat': 3812.43180529625}, {'ds': Timestamp('2023-04-01 00:00:00'), 'yhat': 4943.569365118452}, {'ds': Timestamp('2023-04-02 00:00:00'), 'yhat': 4940.912349146701}, {'ds': Timestamp('2023-04-03 00:00:00'), 'yhat': 3797.3531472565087}, {'ds': Timestamp('2023-04-04 00:00:00'), 'yhat': 3855.735372927742}, {'ds': Timestamp('2023-04-05 00:00:00'), 'yhat': 4974.746396354564}, {'ds': Timestamp('2023-04-06 00:00:00'), 'yhat': 4975.873043713543}, {'ds': Timestamp('2023-04-07 00:00:00'), 'yhat': 3813.011076744866}, {'ds': Timestamp('2023-04-08 00:00:00'), 'yhat': 4944.148637176954}, {'ds': Timestamp('2023-04-09 00:00:00'), 'yhat': 4941.491621788187}, {'ds': Timestamp('2023-04-10 00:00:00'), 'yhat': 3797.932420482518}, {'ds': Timestamp('2023-04-11 00:00:00'), 'yhat': 3856.314646130734}, {'ds': Timestamp('2023-04-12 00:00:00'), 'yhat': 4975.325669530252}, {'ds': Timestamp('2023-04-13 00:00:00'), 'yhat': 4976.45231683048}, {'ds': Timestamp('2023-04-14 00:00:00'), 'yhat': 3813.5903498038388}, {'ds': Timestamp('2023-04-15 00:00:00'), 'yhat': 4944.727910179032}, {'ds': Timestamp('2023-04-16 00:00:00'), 'yhat': 4942.070894755651}, {'ds': Timestamp('2023-04-17 00:00:00'), 'yhat': 3798.5116934175767}, {'ds': Timestamp('2023-04-18 00:00:00'), 'yhat': 3856.8939189752605}, {'ds': Timestamp('2023-04-19 00:00:00'), 'yhat': 4975.904942294458}, {'ds': Timestamp('2023-04-20 00:00:00'), 'yhat': 4977.0315895406}, {'ds': Timestamp('2023-04-21 00:00:00'), 'yhat': 3814.169622462559}, {'ds': Timestamp('2023-04-22 00:00:00'), 'yhat': 4945.3071827315935}, {'ds': Timestamp('2023-04-23 00:00:00'), 'yhat': 4942.650167204929}, {'ds': Timestamp('2023-04-24 00:00:00'), 'yhat': 3799.0909657552907}, {'ds': Timestamp('2023-04-25 00:00:00'), 'yhat': 3857.4731912628677}, {'ds': Timestamp('2023-04-26 00:00:00'), 'yhat': 4976.484214524411}, {'ds': Timestamp('2023-04-27 00:00:00'), 'yhat': 4977.610861718987}, {'ds': Timestamp('2023-04-28 00:00:00'), 'yhat': 3814.7488945878904}, {'ds': Timestamp('2023-04-29 00:00:00'), 'yhat': 4945.886454853923}, {'ds': Timestamp('2023-04-30 00:00:00'), 'yhat': 4943.229439329998}, {'ds': Timestamp('2023-05-01 00:00:00'), 'yhat': 3799.670237880916}, {'ds': Timestamp('2023-05-02 00:00:00'), 'yhat': 3858.05246338813}, {'ds': Timestamp('2023-05-03 00:00:00'), 'yhat': 4977.063486650169}, {'ds': Timestamp('2023-05-04 00:00:00'), 'yhat': 4978.190133848207}, {'ds': Timestamp('2023-05-05 00:00:00'), 'yhat': 3815.3281667134065}, {'ds': Timestamp('2023-05-06 00:00:00'), 'yhat': 4946.465726979975}, {'ds': Timestamp('2023-05-07 00:00:00'), 'yhat': 4943.808711453961}, {'ds': Timestamp('2023-05-08 00:00:00'), 'yhat': 3800.2495100052142}, {'ds': Timestamp('2023-05-09 00:00:00'), 'yhat': 3858.6317355133915}, {'ds': Timestamp('2023-05-10 00:00:00'), 'yhat': 4977.6427587769185}, {'ds': Timestamp('2023-05-11 00:00:00'), 'yhat': 4978.769405972906}, {'ds': Timestamp('2023-05-12 00:00:00'), 'yhat': 3815.907438838737}, {'ds': Timestamp('2023-05-13 00:00:00'), 'yhat': 4947.044999106029}, {'ds': Timestamp('2023-05-14 00:00:00'), 'yhat': 4944.387983579029}, {'ds': Timestamp('2023-05-15 00:00:00'), 'yhat': 3800.8287821339563}, {'ds': Timestamp('2023-05-16 00:00:00'), 'yhat': 3859.2110076412273}, {'ds': Timestamp('2023-05-17 00:00:00'), 'yhat': 4978.222030901687}, {'ds': Timestamp('2023-05-18 00:00:00'), 'yhat': 4979.348678097107}, {'ds': Timestamp('2023-05-19 00:00:00'), 'yhat': 3816.486710964161}, {'ds': Timestamp('2023-05-20 00:00:00'), 'yhat': 4947.6242712276935}, {'ds': Timestamp('2023-05-21 00:00:00'), 'yhat': 4944.967255702993}, {'ds': Timestamp('2023-05-22 00:00:00'), 'yhat': 3801.4080542582537}, {'ds': Timestamp('2023-05-23 00:00:00'), 'yhat': 3859.7902797664897}, {'ds': Timestamp('2023-05-24 00:00:00'), 'yhat': 4978.801303028436}, {'ds': Timestamp('2023-05-25 00:00:00'), 'yhat': 4979.927950221806}, {'ds': Timestamp('2023-05-26 00:00:00'), 'yhat': 3817.0659830896093}, {'ds': Timestamp('2023-05-27 00:00:00'), 'yhat': 4948.203543353746}, {'ds': Timestamp('2023-05-28 00:00:00'), 'yhat': 4945.546527829168}, {'ds': Timestamp('2023-05-29 00:00:00'), 'yhat': 3801.98732638388}, {'ds': Timestamp('2023-05-30 00:00:00'), 'yhat': 3860.36955188965}, {'ds': Timestamp('2023-05-31 00:00:00'), 'yhat': 4979.380575151016}, {'ds': Timestamp('2023-06-01 00:00:00'), 'yhat': 4980.507222346008}, {'ds': Timestamp('2023-06-02 00:00:00'), 'yhat': 3817.645255215033}, {'ds': Timestamp('2023-06-03 00:00:00'), 'yhat': 4948.782815479798}, {'ds': Timestamp('2023-06-04 00:00:00'), 'yhat': 4946.125799953131}, {'ds': Timestamp('2023-06-05 00:00:00'), 'yhat': 3802.5665985081773}, {'ds': Timestamp('2023-06-06 00:00:00'), 'yhat': 3860.9488240149126}, {'ds': Timestamp('2023-06-07 00:00:00'), 'yhat': 4979.959847276776}, {'ds': Timestamp('2023-06-08 00:00:00'), 'yhat': 4981.086494471207}, {'ds': Timestamp('2023-06-09 00:00:00'), 'yhat': 3818.224527340457}, {'ds': Timestamp('2023-06-10 00:00:00'), 'yhat': 4949.362087606515}, {'ds': Timestamp('2023-06-11 00:00:00'), 'yhat': 4946.705072081448}, {'ds': Timestamp('2023-06-12 00:00:00'), 'yhat': 3803.1458706338035}, {'ds': Timestamp('2023-06-13 00:00:00'), 'yhat': 3861.528096141461}, {'ds': Timestamp('2023-06-14 00:00:00'), 'yhat': 4980.539119402533}, {'ds': Timestamp('2023-06-15 00:00:00'), 'yhat': 4981.665766595408}, {'ds': Timestamp('2023-06-16 00:00:00'), 'yhat': 3818.8037994659057}, {'ds': Timestamp('2023-06-17 00:00:00'), 'yhat': 4949.941359733233}, {'ds': Timestamp('2023-06-18 00:00:00'), 'yhat': 4947.284344206517}], ('Bread', 'Koramangala'): [{'ds': Timestamp('2023-01-01 00:00:00'), 'yhat': 4966.70810862227}, {'ds': Timestamp('2023-01-02 00:00:00'), 'yhat': 3833.445538395774}, {'ds': Timestamp('2023-01-03 00:00:00'), 'yhat': 3881.630143353521}, {'ds': Timestamp('2023-01-04 00:00:00'), 'yhat': 4959.314046663068}, {'ds': Timestamp('2023-01-05 00:00:00'), 'yhat': 4991.683849672698}, {'ds': Timestamp('2023-01-06 00:00:00'), 'yhat': 3863.8522788329865}, {'ds': Timestamp('2023-01-07 00:00:00'), 'yhat': 4998.776997544605}, {'ds': Timestamp('2023-01-08 00:00:00'), 'yhat': 4960.191685856474}, {'ds': Timestamp('2023-01-09 00:00:00'), 'yhat': 3826.929115734996}, {'ds': Timestamp('2023-01-10 00:00:00'), 'yhat': 3875.113720800963}, {'ds': Timestamp('2023-01-11 00:00:00'), 'yhat': 4952.79762396922}, {'ds': Timestamp('2023-01-12 00:00:00'), 'yhat': 4985.167426847478}, {'ds': Timestamp('2023-01-13 00:00:00'), 'yhat': 3857.335855768184}, {'ds': Timestamp('2023-01-14 00:00:00'), 'yhat': 4992.260574241497}, {'ds': Timestamp('2023-01-15 00:00:00'), 'yhat': 4953.6752622810545}, {'ds': Timestamp('2023-01-16 00:00:00'), 'yhat': 3820.4126918939087}, {'ds': Timestamp('2023-01-17 00:00:00'), 'yhat': 3868.597296684335}, {'ds': Timestamp('2023-01-18 00:00:00'), 'yhat': 4946.281199822133}, {'ds': Timestamp('2023-01-19 00:00:00'), 'yhat': 4978.651002667884}, {'ds': Timestamp('2023-01-20 00:00:00'), 'yhat': 3850.819431302458}, {'ds': Timestamp('2023-01-21 00:00:00'), 'yhat': 4985.74414948831}, {'ds': Timestamp('2023-01-22 00:00:00'), 'yhat': 4947.158837271256}, {'ds': Timestamp('2023-01-23 00:00:00'), 'yhat': 3813.8962666256043}, {'ds': Timestamp('2023-01-24 00:00:00'), 'yhat': 3862.0808710722968}, {'ds': Timestamp('2023-01-25 00:00:00'), 'yhat': 4939.764773865639}, {'ds': Timestamp('2023-01-26 00:00:00'), 'yhat': 4972.134576363351}, {'ds': Timestamp('2023-01-27 00:00:00'), 'yhat': 3844.30300490878}, {'ds': Timestamp('2023-01-28 00:00:00'), 'yhat': 4979.305010577816}, {'ds': Timestamp('2023-01-29 00:00:00'), 'yhat': 4940.796985849363}, {'ds': Timestamp('2023-01-30 00:00:00'), 'yhat': 3807.6117026902953}, {'ds': Timestamp('2023-01-31 00:00:00'), 'yhat': 3855.873594713505}, {'ds': Timestamp('2023-02-01 00:00:00'), 'yhat': 4933.634785078588}, {'ds': Timestamp('2023-02-02 00:00:00'), 'yhat': 4966.446528816678}, {'ds': Timestamp('2023-02-03 00:00:00'), 'yhat': 3839.0568986011713}, {'ds': Timestamp('2023-02-04 00:00:00'), 'yhat': 4974.423557932601}, {'ds': Timestamp('2023-02-05 00:00:00'), 'yhat': 4936.280186865352}, {'ds': Timestamp('2023-02-06 00:00:00'), 'yhat': 3803.7994522249146}, {'ds': Timestamp('2023-02-07 00:00:00'), 'yhat': 3852.7658927627544}, {'ds': Timestamp('2023-02-08 00:00:00'), 'yhat': 4931.231631652198}, {'ds': Timestamp('2023-02-09 00:00:00'), 'yhat': 4964.383270243919}, {'ds': Timestamp('2023-02-10 00:00:00'), 'yhat': 3837.3335348846695}, {'ds': Timestamp('2023-02-11 00:00:00'), 'yhat': 4973.236356111381}, {'ds': Timestamp('2023-02-12 00:00:00'), 'yhat': 4935.629146939685}, {'ds': Timestamp('2023-02-13 00:00:00'), 'yhat': 3803.3446793334483}, {'ds': Timestamp('2023-02-14 00:00:00'), 'yhat': 3852.5073869144526}, {'ds': Timestamp('2023-02-15 00:00:00'), 'yhat': 4931.169393048683}, {'ds': Timestamp('2023-02-16 00:00:00'), 'yhat': 4964.517298889183}, {'ds': Timestamp('2023-02-17 00:00:00'), 'yhat': 3837.663830780417}, {'ds': Timestamp('2023-02-18 00:00:00'), 'yhat': 4973.566652219405}, {'ds': Timestamp('2023-02-19 00:00:00'), 'yhat': 4935.959446082181}, {'ds': Timestamp('2023-02-20 00:00:00'), 'yhat': 3803.6749815135754}, {'ds': Timestamp('2023-02-21 00:00:00'), 'yhat': 3852.837692132748}, {'ds': Timestamp('2023-02-22 00:00:00'), 'yhat': 4931.499701094795}, {'ds': Timestamp('2023-02-23 00:00:00'), 'yhat': 4964.847609763836}, {'ds': Timestamp('2023-02-24 00:00:00'), 'yhat': 3837.994144804269}, {'ds': Timestamp('2023-02-25 00:00:00'), 'yhat': 4973.896969396115}, {'ds': Timestamp('2023-02-26 00:00:00'), 'yhat': 4936.289763586416}, {'ds': Timestamp('2023-02-27 00:00:00'), 'yhat': 3804.005299343894}, {'ds': Timestamp('2023-02-28 00:00:00'), 'yhat': 3853.168010581039}, {'ds': Timestamp('2023-03-01 00:00:00'), 'yhat': 4931.830020169498}, {'ds': Timestamp('2023-03-02 00:00:00'), 'yhat': 4965.177929457649}, {'ds': Timestamp('2023-03-03 00:00:00'), 'yhat': 3838.3244647943093}, {'ds': Timestamp('2023-03-04 00:00:00'), 'yhat': 4974.227289682436}, {'ds': Timestamp('2023-03-05 00:00:00'), 'yhat': 4936.620084257352}, {'ds': Timestamp('2023-03-06 00:00:00'), 'yhat': 3804.3356204070083}, {'ds': Timestamp('2023-03-07 00:00:00'), 'yhat': 3853.4983317330507}, {'ds': Timestamp('2023-03-08 00:00:00'), 'yhat': 4932.160341413418}, {'ds': Timestamp('2023-03-09 00:00:00'), 'yhat': 4965.508250817916}, {'ds': Timestamp('2023-03-10 00:00:00'), 'yhat': 3838.6547862705747}, {'ds': Timestamp('2023-03-11 00:00:00'), 'yhat': 4974.5576112708295}, {'ds': Timestamp('2023-03-12 00:00:00'), 'yhat': 4936.950405871318}, {'ds': Timestamp('2023-03-13 00:00:00'), 'yhat': 3804.665941922357}, {'ds': Timestamp('2023-03-14 00:00:00'), 'yhat': 3853.8286531516533}, {'ds': Timestamp('2023-03-15 00:00:00'), 'yhat': 4932.490662733262}, {'ds': Timestamp('2023-03-16 00:00:00'), 'yhat': 4965.8385720128235}, {'ds': Timestamp('2023-03-17 00:00:00'), 'yhat': 3838.9851073442987}, {'ds': Timestamp('2023-03-18 00:00:00'), 'yhat': 4974.887932185972}, {'ds': Timestamp('2023-03-19 00:00:00'), 'yhat': 4937.280726626116}, {'ds': Timestamp('2023-03-20 00:00:00'), 'yhat': 3804.996262636404}, {'ds': Timestamp('2023-03-21 00:00:00'), 'yhat': 3854.1589738318653}, {'ds': Timestamp('2023-03-22 00:00:00'), 'yhat': 4932.820983234726}, {'ds': Timestamp('2023-03-23 00:00:00'), 'yhat': 4966.168892341054}, {'ds': Timestamp('2023-03-24 00:00:00'), 'yhat': 3839.3154274988074}, {'ds': Timestamp('2023-03-25 00:00:00'), 'yhat': 4975.21825220377}, {'ds': Timestamp('2023-03-26 00:00:00'), 'yhat': 4937.611046504427}, {'ds': Timestamp('2023-03-27 00:00:00'), 'yhat': 3805.3265821006944}, {'ds': Timestamp('2023-03-28 00:00:00'), 'yhat': 3854.4892928724475}, {'ds': Timestamp('2023-03-29 00:00:00'), 'yhat': 4933.151301992754}, {'ds': Timestamp('2023-03-30 00:00:00'), 'yhat': 4966.499210819102}, {'ds': Timestamp('2023-03-31 00:00:00'), 'yhat': 3839.6457451893293}, {'ds': Timestamp('2023-04-01 00:00:00'), 'yhat': 4975.5485691112635}, {'ds': Timestamp('2023-04-02 00:00:00'), 'yhat': 4937.941362630746}, {'ds': Timestamp('2023-04-03 00:00:00'), 'yhat': 3805.6568977222273}, {'ds': Timestamp('2023-04-04 00:00:00'), 'yhat': 3854.819607781118}, {'ds': Timestamp('2023-04-05 00:00:00'), 'yhat': 4933.481616188192}, {'ds': Timestamp('2023-04-06 00:00:00'), 'yhat': 4966.829524299256}, {'ds': Timestamp('2023-04-07 00:00:00'), 'yhat': 3839.9760584574715}, {'ds': Timestamp('2023-04-08 00:00:00'), 'yhat': 4975.87888216712}, {'ds': Timestamp('2023-04-09 00:00:00'), 'yhat': 4938.271675527252}, {'ds': Timestamp('2023-04-10 00:00:00'), 'yhat': 3805.9872104609317}, {'ds': Timestamp('2023-04-11 00:00:00'), 'yhat': 3855.1499205766636}, {'ds': Timestamp('2023-04-12 00:00:00'), 'yhat': 4933.8119290362565}, {'ds': Timestamp('2023-04-13 00:00:00'), 'yhat': 4967.148224945481}, {'ds': Timestamp('2023-04-14 00:00:00'), 'yhat': 3840.283146902532}, {'ds': Timestamp('2023-04-15 00:00:00'), 'yhat': 4976.174358412095}, {'ds': Timestamp('2023-04-16 00:00:00'), 'yhat': 4938.555539514586}, {'ds': Timestamp('2023-04-17 00:00:00'), 'yhat': 3806.2594621928624}, {'ds': Timestamp('2023-04-18 00:00:00'), 'yhat': 3855.406670302893}, {'ds': Timestamp('2023-04-19 00:00:00'), 'yhat': 4934.053176766866}, {'ds': Timestamp('2023-04-20 00:00:00'), 'yhat': 4967.385582929885}, {'ds': Timestamp('2023-04-21 00:00:00'), 'yhat': 3840.516615143357}, {'ds': Timestamp('2023-04-22 00:00:00'), 'yhat': 4976.4039360073}, {'ds': Timestamp('2023-04-23 00:00:00'), 'yhat': 4938.78122646721}, {'ds': Timestamp('2023-04-24 00:00:00'), 'yhat': 3806.4812584944475}, {'ds': Timestamp('2023-04-25 00:00:00'), 'yhat': 3855.6284657071847}, {'ds': Timestamp('2023-04-26 00:00:00'), 'yhat': 4934.274971266338}, {'ds': Timestamp('2023-04-27 00:00:00'), 'yhat': 4967.607376530565}, {'ds': Timestamp('2023-04-28 00:00:00'), 'yhat': 3840.738407843733}, {'ds': Timestamp('2023-04-29 00:00:00'), 'yhat': 4976.625728704789}, {'ds': Timestamp('2023-04-30 00:00:00'), 'yhat': 4939.003019167312}, {'ds': Timestamp('2023-05-01 00:00:00'), 'yhat': 3806.7030511951475}, {'ds': Timestamp('2023-05-02 00:00:00'), 'yhat': 3855.8502584074167}, {'ds': Timestamp('2023-05-03 00:00:00'), 'yhat': 4934.496763967108}, {'ds': Timestamp('2023-05-04 00:00:00'), 'yhat': 4967.8291692346465}, {'ds': Timestamp('2023-05-05 00:00:00'), 'yhat': 3840.9602005443076}, {'ds': Timestamp('2023-05-06 00:00:00'), 'yhat': 4976.847521405842}, {'ds': Timestamp('2023-05-07 00:00:00'), 'yhat': 4939.224811866268}, {'ds': Timestamp('2023-05-08 00:00:00'), 'yhat': 3806.9248438944715}, {'ds': Timestamp('2023-05-09 00:00:00'), 'yhat': 3856.07205110765}, {'ds': Timestamp('2023-05-10 00:00:00'), 'yhat': 4934.718556668902}, {'ds': Timestamp('2023-05-11 00:00:00'), 'yhat': 4968.0509619344175}, {'ds': Timestamp('2023-05-12 00:00:00'), 'yhat': 3841.181993244683}, {'ds': Timestamp('2023-05-13 00:00:00'), 'yhat': 4977.069314106894}, {'ds': Timestamp('2023-05-14 00:00:00'), 'yhat': 4939.44660456637}, {'ds': Timestamp('2023-05-15 00:00:00'), 'yhat': 3807.1466365982005}, {'ds': Timestamp('2023-05-16 00:00:00'), 'yhat': 3856.2938438105457}, {'ds': Timestamp('2023-05-17 00:00:00'), 'yhat': 4934.940349368648}, {'ds': Timestamp('2023-05-18 00:00:00'), 'yhat': 4968.2727546336755}, {'ds': Timestamp('2023-05-19 00:00:00'), 'yhat': 3841.4037859451573}, {'ds': Timestamp('2023-05-20 00:00:00'), 'yhat': 4977.291106803691}, {'ds': Timestamp('2023-05-21 00:00:00'), 'yhat': 4939.668397265326}, {'ds': Timestamp('2023-05-22 00:00:00'), 'yhat': 3807.3684292975254}, {'ds': Timestamp('2023-05-23 00:00:00'), 'yhat': 3856.515636510779}, {'ds': Timestamp('2023-05-24 00:00:00'), 'yhat': 4935.162142070441}, {'ds': Timestamp('2023-05-25 00:00:00'), 'yhat': 4968.4945473334465}, {'ds': Timestamp('2023-05-26 00:00:00'), 'yhat': 3841.625578645549}, {'ds': Timestamp('2023-05-27 00:00:00'), 'yhat': 4977.5128995047435}, {'ds': Timestamp('2023-05-28 00:00:00'), 'yhat': 4939.890189966575}, {'ds': Timestamp('2023-05-29 00:00:00'), 'yhat': 3807.590221998225}, {'ds': Timestamp('2023-05-30 00:00:00'), 'yhat': 3856.7374292091363}, {'ds': Timestamp('2023-05-31 00:00:00'), 'yhat': 4935.383934768095}, {'ds': Timestamp('2023-06-01 00:00:00'), 'yhat': 4968.716340032705}, {'ds': Timestamp('2023-06-02 00:00:00'), 'yhat': 3841.8473713460235}, {'ds': Timestamp('2023-06-03 00:00:00'), 'yhat': 4977.734692205796}, {'ds': Timestamp('2023-06-04 00:00:00'), 'yhat': 4940.111982665531}, {'ds': Timestamp('2023-06-05 00:00:00'), 'yhat': 3807.8120146975484}, {'ds': Timestamp('2023-06-06 00:00:00'), 'yhat': 3856.959221909369}, {'ds': Timestamp('2023-06-07 00:00:00'), 'yhat': 4935.605727468866}, {'ds': Timestamp('2023-06-08 00:00:00'), 'yhat': 4968.93813273299}, {'ds': Timestamp('2023-06-09 00:00:00'), 'yhat': 3842.069164046499}, {'ds': Timestamp('2023-06-10 00:00:00'), 'yhat': 4977.95648490754}, {'ds': Timestamp('2023-06-11 00:00:00'), 'yhat': 4940.333775368915}, {'ds': Timestamp('2023-06-12 00:00:00'), 'yhat': 3808.0338073982493}, {'ds': Timestamp('2023-06-13 00:00:00'), 'yhat': 3857.1810146109337}, {'ds': Timestamp('2023-06-14 00:00:00'), 'yhat': 4935.827520169635}, {'ds': Timestamp('2023-06-15 00:00:00'), 'yhat': 4969.159925432248}, {'ds': Timestamp('2023-06-16 00:00:00'), 'yhat': 3842.2909567468905}, {'ds': Timestamp('2023-06-17 00:00:00'), 'yhat': 4978.178277609285}, {'ds': Timestamp('2023-06-18 00:00:00'), 'yhat': 4940.555568069018}], ('Milk', 'Indiranagar'): [{'ds': Timestamp('2023-01-01 00:00:00'), 'yhat': 4968.519934673583}, {'ds': Timestamp('2023-01-02 00:00:00'), 'yhat': 3805.2881839032702}, {'ds': Timestamp('2023-01-03 00:00:00'), 'yhat': 3861.236849910713}, {'ds': Timestamp('2023-01-04 00:00:00'), 'yhat': 4952.047641303125}, {'ds': Timestamp('2023-01-05 00:00:00'), 'yhat': 4958.493763898914}, {'ds': Timestamp('2023-01-06 00:00:00'), 'yhat': 3828.5782986271292}, {'ds': Timestamp('2023-01-07 00:00:00'), 'yhat': 4947.282726770198}, {'ds': Timestamp('2023-01-08 00:00:00'), 'yhat': 4969.2948006185225}, {'ds': Timestamp('2023-01-09 00:00:00'), 'yhat': 3806.0630496415324}, {'ds': Timestamp('2023-01-10 00:00:00'), 'yhat': 3862.0117154453956}, {'ds': Timestamp('2023-01-11 00:00:00'), 'yhat': 4952.822506476827}, {'ds': Timestamp('2023-01-12 00:00:00'), 'yhat': 4959.268628721046}, {'ds': Timestamp('2023-01-13 00:00:00'), 'yhat': 3829.3531633014786}, {'ds': Timestamp('2023-01-14 00:00:00'), 'yhat': 4948.057591298026}, {'ds': Timestamp('2023-01-15 00:00:00'), 'yhat': 4970.069664968907}, {'ds': Timestamp('2023-01-16 00:00:00'), 'yhat': 3806.8379138211303}, {'ds': Timestamp('2023-01-17 00:00:00'), 'yhat': 3862.7865794444588}, {'ds': Timestamp('2023-01-18 00:00:00'), 'yhat': 4953.597370448553}, {'ds': Timestamp('2023-01-19 00:00:00'), 'yhat': 4960.043492663465}, {'ds': Timestamp('2023-01-20 00:00:00'), 'yhat': 3830.1280270066977}, {'ds': Timestamp('2023-01-21 00:00:00'), 'yhat': 4948.832454764782}, {'ds': Timestamp('2023-01-22 00:00:00'), 'yhat': 4970.8445282248185}, {'ds': Timestamp('2023-01-23 00:00:00'), 'yhat': 3807.6127768644333}, {'ds': Timestamp('2023-01-24 00:00:00'), 'yhat': 3863.5614420191364}, {'ds': Timestamp('2023-01-25 00:00:00'), 'yhat': 4954.37223255371}, {'ds': Timestamp('2023-01-26 00:00:00'), 'yhat': 4960.8183542957395}, {'ds': Timestamp('2023-01-27 00:00:00'), 'yhat': 3830.9028883791925}, {'ds': Timestamp('2023-01-28 00:00:00'), 'yhat': 4949.607315929739}, {'ds': Timestamp('2023-01-29 00:00:00'), 'yhat': 4971.619389187877}, {'ds': Timestamp('2023-01-30 00:00:00'), 'yhat': 3808.3876376233843}, {'ds': Timestamp('2023-01-31 00:00:00'), 'yhat': 3864.3363028347358}, {'ds': Timestamp('2023-02-01 00:00:00'), 'yhat': 4955.147093421144}, {'ds': Timestamp('2023-02-02 00:00:00'), 'yhat': 4961.593215371686}, {'ds': Timestamp('2023-02-03 00:00:00'), 'yhat': 3831.677749662484}, {'ds': Timestamp('2023-02-04 00:00:00'), 'yhat': 4950.382177363509}, {'ds': Timestamp('2023-02-05 00:00:00'), 'yhat': 4972.394250770989}, {'ds': Timestamp('2023-02-06 00:00:00'), 'yhat': 3809.16249944709}, {'ds': Timestamp('2023-02-07 00:00:00'), 'yhat': 3865.1111648951332}, {'ds': Timestamp('2023-02-08 00:00:00'), 'yhat': 4955.921955727757}, {'ds': Timestamp('2023-02-09 00:00:00'), 'yhat': 4962.36807776586}, {'ds': Timestamp('2023-02-10 00:00:00'), 'yhat': 3832.4526121468007}, {'ds': Timestamp('2023-02-11 00:00:00'), 'yhat': 4951.157039988005}, {'ds': Timestamp('2023-02-12 00:00:00'), 'yhat': 4973.169113535782}, {'ds': Timestamp('2023-02-13 00:00:00'), 'yhat': 3809.937362257081}, {'ds': Timestamp('2023-02-14 00:00:00'), 'yhat': 3865.8860277589592}, {'ds': Timestamp('2023-02-15 00:00:00'), 'yhat': 4956.696818701465}, {'ds': Timestamp('2023-02-16 00:00:00'), 'yhat': 4963.1429408529475}, {'ds': Timestamp('2023-02-17 00:00:00'), 'yhat': 3833.2274753490237}, {'ds': Timestamp('2023-02-18 00:00:00'), 'yhat': 4951.931903256291}, {'ds': Timestamp('2023-02-19 00:00:00'), 'yhat': 4973.9439769464825}, {'ds': Timestamp('2023-02-20 00:00:00'), 'yhat': 3810.7122258132895}, {'ds': Timestamp('2023-02-21 00:00:00'), 'yhat': 3866.6608914613407}, {'ds': Timestamp('2023-02-22 00:00:00'), 'yhat': 4957.471682485637}, {'ds': Timestamp('2023-02-23 00:00:00'), 'yhat': 4963.917804719979}, {'ds': Timestamp('2023-02-24 00:00:00'), 'yhat': 3834.0023390235847}, {'ds': Timestamp('2023-02-25 00:00:00'), 'yhat': 4952.706766742043}, {'ds': Timestamp('2023-02-26 00:00:00'), 'yhat': 4974.718840163888}, {'ds': Timestamp('2023-02-27 00:00:00'), 'yhat': 3811.4870887609577}, {'ds': Timestamp('2023-02-28 00:00:00'), 'yhat': 3867.4357529760073}, {'ds': Timestamp('2023-03-01 00:00:00'), 'yhat': 4958.246542575675}, {'ds': Timestamp('2023-03-02 00:00:00'), 'yhat': 4964.692663378256}, {'ds': Timestamp('2023-03-03 00:00:00'), 'yhat': 3834.7771965228276}, {'ds': Timestamp('2023-03-04 00:00:00'), 'yhat': 4953.481623082373}, {'ds': Timestamp('2023-03-05 00:00:00'), 'yhat': 4975.493695148538}, {'ds': Timestamp('2023-03-06 00:00:00'), 'yhat': 3812.2619423974907}, {'ds': Timestamp('2023-03-07 00:00:00'), 'yhat': 3868.2106064163513}, {'ds': Timestamp('2023-03-08 00:00:00'), 'yhat': 4959.021395822873}, {'ds': Timestamp('2023-03-09 00:00:00'), 'yhat': 4965.467078007402}, {'ds': Timestamp('2023-03-10 00:00:00'), 'yhat': 3835.551172533997}, {'ds': Timestamp('2023-03-11 00:00:00'), 'yhat': 4954.255160471445}, {'ds': Timestamp('2023-03-12 00:00:00'), 'yhat': 4976.266794114334}, {'ds': Timestamp('2023-03-13 00:00:00'), 'yhat': 3812.960528704689}, {'ds': Timestamp('2023-03-14 00:00:00'), 'yhat': 3868.834680066831}, {'ds': Timestamp('2023-03-15 00:00:00'), 'yhat': 4959.570956814592}, {'ds': Timestamp('2023-03-16 00:00:00'), 'yhat': 4965.942564763384}, {'ds': Timestamp('2023-03-17 00:00:00'), 'yhat': 3835.952585057818}, {'ds': Timestamp('2023-03-18 00:00:00'), 'yhat': 4954.393028369745}, {'ds': Timestamp('2023-03-19 00:00:00'), 'yhat': 4976.141117385248}, {'ds': Timestamp('2023-03-20 00:00:00'), 'yhat': 3812.645381578979}, {'ds': Timestamp('2023-03-21 00:00:00'), 'yhat': 3868.3300625511374}, {'ds': Timestamp('2023-03-22 00:00:00'), 'yhat': 4958.876868566711}, {'ds': Timestamp('2023-03-23 00:00:00'), 'yhat': 4965.059005788851}, {'ds': Timestamp('2023-03-24 00:00:00'), 'yhat': 3834.8795553560035}, {'ds': Timestamp('2023-03-25 00:00:00'), 'yhat': 4953.319998333856}, {'ds': Timestamp('2023-03-26 00:00:00'), 'yhat': 4975.068087012465}, {'ds': Timestamp('2023-03-27 00:00:00'), 'yhat': 3811.5723505891337}, {'ds': Timestamp('2023-03-28 00:00:00'), 'yhat': 3867.257030934601}, {'ds': Timestamp('2023-03-29 00:00:00'), 'yhat': 4957.8038366620185}, {'ds': Timestamp('2023-03-30 00:00:00'), 'yhat': 4963.98597359871}, {'ds': Timestamp('2023-03-31 00:00:00'), 'yhat': 3833.8065224185784}, {'ds': Timestamp('2023-04-01 00:00:00'), 'yhat': 4952.246964653552}, {'ds': Timestamp('2023-04-02 00:00:00'), 'yhat': 4973.9950525910845}, {'ds': Timestamp('2023-04-03 00:00:00'), 'yhat': 3810.4993157087492}, {'ds': Timestamp('2023-04-04 00:00:00'), 'yhat': 3866.1839951113593}, {'ds': Timestamp('2023-04-05 00:00:00'), 'yhat': 4956.7307998953975}, {'ds': Timestamp('2023-04-06 00:00:00'), 'yhat': 4962.912935886743}, {'ds': Timestamp('2023-04-07 00:00:00'), 'yhat': 3832.7334842187506}, {'ds': Timestamp('2023-04-08 00:00:00'), 'yhat': 4951.173925965662}, {'ds': Timestamp('2023-04-09 00:00:00'), 'yhat': 4972.922013013835}, {'ds': Timestamp('2023-04-10 00:00:00'), 'yhat': 3809.426275243633}, {'ds': Timestamp('2023-04-11 00:00:00'), 'yhat': 3865.1109542488484}, {'ds': Timestamp('2023-04-12 00:00:00'), 'yhat': 4955.65775863139}, {'ds': Timestamp('2023-04-13 00:00:00'), 'yhat': 4961.830061936241}, {'ds': Timestamp('2023-04-14 00:00:00'), 'yhat': 3831.6407775827356}, {'ds': Timestamp('2023-04-15 00:00:00'), 'yhat': 4950.071386645097}, {'ds': Timestamp('2023-04-16 00:00:00'), 'yhat': 4971.809641405296}, {'ds': Timestamp('2023-04-17 00:00:00'), 'yhat': 3808.3040713493046}, {'ds': Timestamp('2023-04-18 00:00:00'), 'yhat': 3863.690697311185}, {'ds': Timestamp('2023-04-19 00:00:00'), 'yhat': 4953.93944866029}, {'ds': Timestamp('2023-04-20 00:00:00'), 'yhat': 4959.823531211472}, {'ds': Timestamp('2023-04-21 00:00:00'), 'yhat': 3829.346026106815}, {'ds': Timestamp('2023-04-22 00:00:00'), 'yhat': 4947.4884134306285}, {'ds': Timestamp('2023-04-23 00:00:00'), 'yhat': 4968.938446455169}, {'ds': Timestamp('2023-04-24 00:00:00'), 'yhat': 3805.1446546552925}, {'ds': Timestamp('2023-04-25 00:00:00'), 'yhat': 3860.531279634234}, {'ds': Timestamp('2023-04-26 00:00:00'), 'yhat': 4950.780029993024}, {'ds': Timestamp('2023-04-27 00:00:00'), 'yhat': 4956.664111559844}, {'ds': Timestamp('2023-04-28 00:00:00'), 'yhat': 3826.1866054693546}, {'ds': Timestamp('2023-04-29 00:00:00'), 'yhat': 4944.328992790219}, {'ds': Timestamp('2023-04-30 00:00:00'), 'yhat': 4965.779025817481}, {'ds': Timestamp('2023-05-01 00:00:00'), 'yhat': 3801.9852340181214}, {'ds': Timestamp('2023-05-02 00:00:00'), 'yhat': 3857.371858996774}, {'ds': Timestamp('2023-05-03 00:00:00'), 'yhat': 4947.620609356038}, {'ds': Timestamp('2023-05-04 00:00:00'), 'yhat': 4953.50469092622}, {'ds': Timestamp('2023-05-05 00:00:00'), 'yhat': 3823.027184832196}, {'ds': Timestamp('2023-05-06 00:00:00'), 'yhat': 4941.169572153509}, {'ds': Timestamp('2023-05-07 00:00:00'), 'yhat': 4962.619605178697}, {'ds': Timestamp('2023-05-08 00:00:00'), 'yhat': 3798.825813379667}, {'ds': Timestamp('2023-05-09 00:00:00'), 'yhat': 3854.212438359314}, {'ds': Timestamp('2023-05-10 00:00:00'), 'yhat': 4944.461188719959}, {'ds': Timestamp('2023-05-11 00:00:00'), 'yhat': 4950.34527028816}, {'ds': Timestamp('2023-05-12 00:00:00'), 'yhat': 3819.8677641947356}, {'ds': Timestamp('2023-05-13 00:00:00'), 'yhat': 4938.010151516798}, {'ds': Timestamp('2023-05-14 00:00:00'), 'yhat': 4959.46018454101}, {'ds': Timestamp('2023-05-15 00:00:00'), 'yhat': 3795.6663927456843}, {'ds': Timestamp('2023-05-16 00:00:00'), 'yhat': 3851.0530177242863}, {'ds': Timestamp('2023-05-17 00:00:00'), 'yhat': 4941.301768082065}, {'ds': Timestamp('2023-05-18 00:00:00'), 'yhat': 4947.18584964968}, {'ds': Timestamp('2023-05-19 00:00:00'), 'yhat': 3816.708343557425}, {'ds': Timestamp('2023-05-20 00:00:00'), 'yhat': 4934.850730875697}, {'ds': Timestamp('2023-05-21 00:00:00'), 'yhat': 4956.300763902227}, {'ds': Timestamp('2023-05-22 00:00:00'), 'yhat': 3792.50697210723}, {'ds': Timestamp('2023-05-23 00:00:00'), 'yhat': 3847.893597086826}, {'ds': Timestamp('2023-05-24 00:00:00'), 'yhat': 4938.142347445987}, {'ds': Timestamp('2023-05-25 00:00:00'), 'yhat': 4944.02642901162}, {'ds': Timestamp('2023-05-26 00:00:00'), 'yhat': 3813.5489229200807}, {'ds': Timestamp('2023-05-27 00:00:00'), 'yhat': 4931.691310238986}, {'ds': Timestamp('2023-05-28 00:00:00'), 'yhat': 4953.141343265635}, {'ds': Timestamp('2023-05-29 00:00:00'), 'yhat': 3789.347551470059}, {'ds': Timestamp('2023-05-30 00:00:00'), 'yhat': 3844.7341764472303}, {'ds': Timestamp('2023-05-31 00:00:00'), 'yhat': 4934.9829268058575}, {'ds': Timestamp('2023-06-01 00:00:00'), 'yhat': 4940.8670083731395}, {'ds': Timestamp('2023-06-02 00:00:00'), 'yhat': 3810.389502282771}, {'ds': Timestamp('2023-06-03 00:00:00'), 'yhat': 4928.531889602276}, {'ds': Timestamp('2023-06-04 00:00:00'), 'yhat': 4949.981922626853}, {'ds': Timestamp('2023-06-05 00:00:00'), 'yhat': 3786.188130831605}, {'ds': Timestamp('2023-06-06 00:00:00'), 'yhat': 3841.57475580977}, {'ds': Timestamp('2023-06-07 00:00:00'), 'yhat': 4931.82350616887}, {'ds': Timestamp('2023-06-08 00:00:00'), 'yhat': 4937.7075877355}, {'ds': Timestamp('2023-06-09 00:00:00'), 'yhat': 3807.2300816454617}, {'ds': Timestamp('2023-06-10 00:00:00'), 'yhat': 4925.372468966258}, {'ds': Timestamp('2023-06-11 00:00:00'), 'yhat': 4946.822501992395}, {'ds': Timestamp('2023-06-12 00:00:00'), 'yhat': 3783.0287101944336}, {'ds': Timestamp('2023-06-13 00:00:00'), 'yhat': 3838.4153351735263}, {'ds': Timestamp('2023-06-14 00:00:00'), 'yhat': 4928.664085531885}, {'ds': Timestamp('2023-06-15 00:00:00'), 'yhat': 4934.548167097019}, {'ds': Timestamp('2023-06-16 00:00:00'), 'yhat': 3804.070661008117}, {'ds': Timestamp('2023-06-17 00:00:00'), 'yhat': 4922.213048330239}, {'ds': Timestamp('2023-06-18 00:00:00'), 'yhat': 4943.663081354708}], ('Milk', 'Koramangala'): [{'ds': Timestamp('2023-01-01 00:00:00'), 'yhat': 4961.237638439914}, {'ds': Timestamp('2023-01-02 00:00:00'), 'yhat': 3820.4084387139656}, {'ds': Timestamp('2023-01-03 00:00:00'), 'yhat': 3845.67744826521}, {'ds': Timestamp('2023-01-04 00:00:00'), 'yhat': 4947.895580260775}, {'ds': Timestamp('2023-01-05 00:00:00'), 'yhat': 4982.549766119079}, {'ds': Timestamp('2023-01-06 00:00:00'), 'yhat': 3858.7077672448636}, {'ds': Timestamp('2023-01-07 00:00:00'), 'yhat': 4961.997938079318}, {'ds': Timestamp('2023-01-08 00:00:00'), 'yhat': 4958.105245150125}, {'ds': Timestamp('2023-01-09 00:00:00'), 'yhat': 3817.2760459273914}, {'ds': Timestamp('2023-01-10 00:00:00'), 'yhat': 3842.545055985016}, {'ds': Timestamp('2023-01-11 00:00:00'), 'yhat': 4944.763187376562}, {'ds': Timestamp('2023-01-12 00:00:00'), 'yhat': 4979.417372640691}, {'ds': Timestamp('2023-01-13 00:00:00'), 'yhat': 3855.5753726658504}, {'ds': Timestamp('2023-01-14 00:00:00'), 'yhat': 4958.865542400922}, {'ds': Timestamp('2023-01-15 00:00:00'), 'yhat': 4954.972848467871}, {'ds': Timestamp('2023-01-16 00:00:00'), 'yhat': 3814.1436482479066}, {'ds': Timestamp('2023-01-17 00:00:00'), 'yhat': 3839.412657298464}, {'ds': Timestamp('2023-01-18 00:00:00'), 'yhat': 4941.630788789024}, {'ds': Timestamp('2023-01-19 00:00:00'), 'yhat': 4976.284974150122}, {'ds': Timestamp('2023-01-20 00:00:00'), 'yhat': 3852.4429763348453}, {'ds': Timestamp('2023-01-21 00:00:00'), 'yhat': 4955.733148228275}, {'ds': Timestamp('2023-01-22 00:00:00'), 'yhat': 4951.8404563548}, {'ds': Timestamp('2023-01-23 00:00:00'), 'yhat': 3811.0112581926637}, {'ds': Timestamp('2023-01-24 00:00:00'), 'yhat': 3836.2802737044835}, {'ds': Timestamp('2023-01-25 00:00:00'), 'yhat': 4938.498411655541}, {'ds': Timestamp('2023-01-26 00:00:00'), 'yhat': 4973.152603473643}, {'ds': Timestamp('2023-01-27 00:00:00'), 'yhat': 3849.3106100581012}, {'ds': Timestamp('2023-01-28 00:00:00'), 'yhat': 4952.701906798407}, {'ds': Timestamp('2023-01-29 00:00:00'), 'yhat': 4948.910339777444}, {'ds': Timestamp('2023-01-30 00:00:00'), 'yhat': 3808.182266465668}, {'ds': Timestamp('2023-01-31 00:00:00'), 'yhat': 3833.55240242913}, {'ds': Timestamp('2023-02-01 00:00:00'), 'yhat': 4935.871660826942}, {'ds': Timestamp('2023-02-02 00:00:00'), 'yhat': 4970.998262013905}, {'ds': Timestamp('2023-02-03 00:00:00'), 'yhat': 3847.6286779658067}, {'ds': Timestamp('2023-02-04 00:00:00'), 'yhat': 4951.391263621933}, {'ds': Timestamp('2023-02-05 00:00:00'), 'yhat': 4947.970985515512}, {'ds': Timestamp('2023-02-06 00:00:00'), 'yhat': 3807.750424828682}, {'ds': Timestamp('2023-02-07 00:00:00'), 'yhat': 3833.6280734132342}, {'ds': Timestamp('2023-02-08 00:00:00'), 'yhat': 4936.454844441675}, {'ds': Timestamp('2023-02-09 00:00:00'), 'yhat': 4971.717669335329}, {'ds': Timestamp('2023-02-10 00:00:00'), 'yhat': 3848.484308996523}, {'ds': Timestamp('2023-02-11 00:00:00'), 'yhat': 4952.408927162553}, {'ds': Timestamp('2023-02-12 00:00:00'), 'yhat': 4949.150681566275}, {'ds': Timestamp('2023-02-13 00:00:00'), 'yhat': 3808.9559296753173}, {'ds': Timestamp('2023-02-14 00:00:00'), 'yhat': 3834.8593870644527}, {'ds': Timestamp('2023-02-15 00:00:00'), 'yhat': 4937.711975067181}, {'ds': Timestamp('2023-02-16 00:00:00'), 'yhat': 4973.000616938786}, {'ds': Timestamp('2023-02-17 00:00:00'), 'yhat': 3849.7930735796617}, {'ds': Timestamp('2023-02-18 00:00:00'), 'yhat': 4953.717699925607}, {'ds': Timestamp('2023-02-19 00:00:00'), 'yhat': 4950.4594621568995}, {'ds': Timestamp('2023-02-20 00:00:00'), 'yhat': 3810.2647180965164}, {'ds': Timestamp('2023-02-21 00:00:00'), 'yhat': 3836.1681833168745}, {'ds': Timestamp('2023-02-22 00:00:00'), 'yhat': 4939.020770972705}, {'ds': Timestamp('2023-02-23 00:00:00'), 'yhat': 4974.309412498224}, {'ds': Timestamp('2023-02-24 00:00:00'), 'yhat': 3851.101869085791}, {'ds': Timestamp('2023-02-25 00:00:00'), 'yhat': 4955.026495381963}, {'ds': Timestamp('2023-02-26 00:00:00'), 'yhat': 4951.768257912685}, {'ds': Timestamp('2023-02-27 00:00:00'), 'yhat': 3811.5735141504147}, {'ds': Timestamp('2023-02-28 00:00:00'), 'yhat': 3837.4769793038377}, {'ds': Timestamp('2023-03-01 00:00:00'), 'yhat': 4940.329566901053}, {'ds': Timestamp('2023-03-02 00:00:00'), 'yhat': 4975.61820836073}, {'ds': Timestamp('2023-03-03 00:00:00'), 'yhat': 3852.4106645874513}, {'ds': Timestamp('2023-03-04 00:00:00'), 'yhat': 4956.3352905228685}, {'ds': Timestamp('2023-03-05 00:00:00'), 'yhat': 4953.077052277189}, {'ds': Timestamp('2023-03-06 00:00:00'), 'yhat': 3812.8823077460065}, {'ds': Timestamp('2023-03-07 00:00:00'), 'yhat': 3838.7857724842133}, {'ds': Timestamp('2023-03-08 00:00:00'), 'yhat': 4941.638359669294}, {'ds': Timestamp('2023-03-09 00:00:00'), 'yhat': 4976.92695095353}, {'ds': Timestamp('2023-03-10 00:00:00'), 'yhat': 3853.7193570045883}, {'ds': Timestamp('2023-03-11 00:00:00'), 'yhat': 4957.643932760473}, {'ds': Timestamp('2023-03-12 00:00:00'), 'yhat': 4954.3856447528615}, {'ds': Timestamp('2023-03-13 00:00:00'), 'yhat': 3814.1630868437533}, {'ds': Timestamp('2023-03-14 00:00:00'), 'yhat': 3840.038738205941}, {'ds': Timestamp('2023-03-15 00:00:00'), 'yhat': 4942.86351201302}, {'ds': Timestamp('2023-03-16 00:00:00'), 'yhat': 4978.124339680706}, {'ds': Timestamp('2023-03-17 00:00:00'), 'yhat': 3854.888982118881}, {'ds': Timestamp('2023-03-18 00:00:00'), 'yhat': 4958.645197130086}, {'ds': Timestamp('2023-03-19 00:00:00'), 'yhat': 4955.218548375996}, {'ds': Timestamp('2023-03-20 00:00:00'), 'yhat': 3814.855393331855}, {'ds': Timestamp('2023-03-21 00:00:00'), 'yhat': 3840.590447565669}, {'ds': Timestamp('2023-03-22 00:00:00'), 'yhat': 4943.229785405011}, {'ds': Timestamp('2023-03-23 00:00:00'), 'yhat': 4978.305177110636}, {'ds': Timestamp('2023-03-24 00:00:00'), 'yhat': 3854.884383586127}, {'ds': Timestamp('2023-03-25 00:00:00'), 'yhat': 4958.595759766153}, {'ds': Timestamp('2023-03-26 00:00:00'), 'yhat': 4955.124272178131}, {'ds': Timestamp('2023-03-27 00:00:00'), 'yhat': 3814.6625150096443}, {'ds': Timestamp('2023-03-28 00:00:00'), 'yhat': 3840.298967109454}, {'ds': Timestamp('2023-03-29 00:00:00'), 'yhat': 4942.884541650476}, {'ds': Timestamp('2023-03-30 00:00:00'), 'yhat': 4977.906170060337}, {'ds': Timestamp('2023-03-31 00:00:00'), 'yhat': 3854.3475828274645}, {'ds': Timestamp('2023-04-01 00:00:00'), 'yhat': 4957.921165303668}, {'ds': Timestamp('2023-04-02 00:00:00'), 'yhat': 4954.3118840135385}, {'ds': Timestamp('2023-04-03 00:00:00'), 'yhat': 3813.7660964352735}, {'ds': Timestamp('2023-04-04 00:00:00'), 'yhat': 3839.3185104636414}, {'ds': Timestamp('2023-04-05 00:00:00'), 'yhat': 4941.820046932783}, {'ds': Timestamp('2023-04-06 00:00:00'), 'yhat': 4976.75763726872}, {'ds': Timestamp('2023-04-07 00:00:00'), 'yhat': 3853.199042370354}, {'ds': Timestamp('2023-04-08 00:00:00'), 'yhat': 4956.772617180636}, {'ds': Timestamp('2023-04-09 00:00:00'), 'yhat': 4953.163326428762}, {'ds': Timestamp('2023-04-10 00:00:00'), 'yhat': 3812.617529390243}, {'ds': Timestamp('2023-04-11 00:00:00'), 'yhat': 3838.1699416266097}, {'ds': Timestamp('2023-04-12 00:00:00'), 'yhat': 4940.671476299583}, {'ds': Timestamp('2023-04-13 00:00:00'), 'yhat': 4975.6090647999945}, {'ds': Timestamp('2023-04-14 00:00:00'), 'yhat': 3852.0504680668528}, {'ds': Timestamp('2023-04-15 00:00:00'), 'yhat': 4955.624041043423}, {'ds': Timestamp('2023-04-16 00:00:00'), 'yhat': 4952.014750249132}, {'ds': Timestamp('2023-04-17 00:00:00'), 'yhat': 3811.468953170335}, {'ds': Timestamp('2023-04-18 00:00:00'), 'yhat': 3837.0213458830876}, {'ds': Timestamp('2023-04-19 00:00:00'), 'yhat': 4939.522861042313}, {'ds': Timestamp('2023-04-20 00:00:00'), 'yhat': 4974.460430063228}, {'ds': Timestamp('2023-04-21 00:00:00'), 'yhat': 3850.9018138532006}, {'ds': Timestamp('2023-04-22 00:00:00'), 'yhat': 4954.475285863784}, {'ds': Timestamp('2023-04-23 00:00:00'), 'yhat': 4950.865894106338}, {'ds': Timestamp('2023-04-24 00:00:00'), 'yhat': 3810.319996056221}, {'ds': Timestamp('2023-04-25 00:00:00'), 'yhat': 3835.872307284411}, {'ds': Timestamp('2023-04-26 00:00:00'), 'yhat': 4938.373740951594}, {'ds': Timestamp('2023-04-27 00:00:00'), 'yhat': 4973.311228486632}, {'ds': Timestamp('2023-04-28 00:00:00'), 'yhat': 3849.7525307891297}, {'ds': Timestamp('2023-04-29 00:00:00'), 'yhat': 4953.326002796776}, {'ds': Timestamp('2023-04-30 00:00:00'), 'yhat': 4949.716611042002}, {'ds': Timestamp('2023-05-01 00:00:00'), 'yhat': 3809.1707129924107}, {'ds': Timestamp('2023-05-02 00:00:00'), 'yhat': 3834.7230242202595}, {'ds': Timestamp('2023-05-03 00:00:00'), 'yhat': 4937.224457887963}, {'ds': Timestamp('2023-05-04 00:00:00'), 'yhat': 4972.161945426269}, {'ds': Timestamp('2023-05-05 00:00:00'), 'yhat': 3848.603247725237}, {'ds': Timestamp('2023-05-06 00:00:00'), 'yhat': 4952.176719733409}, {'ds': Timestamp('2023-05-07 00:00:00'), 'yhat': 4948.567327976589}, {'ds': Timestamp('2023-05-08 00:00:00'), 'yhat': 3808.021429927303}, {'ds': Timestamp('2023-05-09 00:00:00'), 'yhat': 3833.5737411561086}, {'ds': Timestamp('2023-05-10 00:00:00'), 'yhat': 4936.0751748253}, {'ds': Timestamp('2023-05-11 00:00:00'), 'yhat': 4971.0126623616}, {'ds': Timestamp('2023-05-12 00:00:00'), 'yhat': 3847.453964661166}, {'ds': Timestamp('2023-05-13 00:00:00'), 'yhat': 4951.027436670043}, {'ds': Timestamp('2023-05-14 00:00:00'), 'yhat': 4947.418044912254}, {'ds': Timestamp('2023-05-15 00:00:00'), 'yhat': 3806.8721468666818}, {'ds': Timestamp('2023-05-16 00:00:00'), 'yhat': 3832.424458094472}, {'ds': Timestamp('2023-05-17 00:00:00'), 'yhat': 4934.925891760699}, {'ds': Timestamp('2023-05-18 00:00:00'), 'yhat': 4969.863379296445}, {'ds': Timestamp('2023-05-19 00:00:00'), 'yhat': 3846.304681597184}, {'ds': Timestamp('2023-05-20 00:00:00'), 'yhat': 4949.878153602387}, {'ds': Timestamp('2023-05-21 00:00:00'), 'yhat': 4946.268761846841}, {'ds': Timestamp('2023-05-22 00:00:00'), 'yhat': 3805.722863801574}, {'ds': Timestamp('2023-05-23 00:00:00'), 'yhat': 3831.2751750303205}, {'ds': Timestamp('2023-05-24 00:00:00'), 'yhat': 4933.776608698036}, {'ds': Timestamp('2023-05-25 00:00:00'), 'yhat': 4968.714096231776}, {'ds': Timestamp('2023-05-26 00:00:00'), 'yhat': 3845.155398533226}, {'ds': Timestamp('2023-05-27 00:00:00'), 'yhat': 4948.728870539021}, {'ds': Timestamp('2023-05-28 00:00:00'), 'yhat': 4945.119478783585}, {'ds': Timestamp('2023-05-29 00:00:00'), 'yhat': 3804.5735807377623}, {'ds': Timestamp('2023-05-30 00:00:00'), 'yhat': 3830.125891964181}, {'ds': Timestamp('2023-05-31 00:00:00'), 'yhat': 4932.627325631173}, {'ds': Timestamp('2023-06-01 00:00:00'), 'yhat': 4967.564813166619}, {'ds': Timestamp('2023-06-02 00:00:00'), 'yhat': 3844.006115469245}, {'ds': Timestamp('2023-06-03 00:00:00'), 'yhat': 4947.579587475653}, {'ds': Timestamp('2023-06-04 00:00:00'), 'yhat': 4943.9701957181705}, {'ds': Timestamp('2023-06-05 00:00:00'), 'yhat': 3803.424297672656}, {'ds': Timestamp('2023-06-06 00:00:00'), 'yhat': 3828.9766089000295}, {'ds': Timestamp('2023-06-07 00:00:00'), 'yhat': 4931.478042567542}, {'ds': Timestamp('2023-06-08 00:00:00'), 'yhat': 4966.415530102439}, {'ds': Timestamp('2023-06-09 00:00:00'), 'yhat': 3842.8568324052626}, {'ds': Timestamp('2023-06-10 00:00:00'), 'yhat': 4946.4303044129365}, {'ds': Timestamp('2023-06-11 00:00:00'), 'yhat': 4942.820912657045}, {'ds': Timestamp('2023-06-12 00:00:00'), 'yhat': 3802.2750146088442}, {'ds': Timestamp('2023-06-13 00:00:00'), 'yhat': 3827.8273258371364}, {'ds': Timestamp('2023-06-14 00:00:00'), 'yhat': 4930.328759503911}, {'ds': Timestamp('2023-06-15 00:00:00'), 'yhat': 4965.2662470372825}, {'ds': Timestamp('2023-06-16 00:00:00'), 'yhat': 3841.707549341306}, {'ds': Timestamp('2023-06-17 00:00:00'), 'yhat': 4945.281021350218}, {'ds': Timestamp('2023-06-18 00:00:00'), 'yhat': 4941.67162959271}]}\n"
     ]
    }
   ],
   "source": [
    "from prophet import Prophet\n",
    "\n",
    "def forecast_for_all(filtered_data, frequency):\n",
    "    forecasts = {}\n",
    "    \n",
    "    # Group by Product and Location\n",
    "    grouped_data = filtered_data.groupby([\"Product\", \"Location\"])\n",
    "\n",
    "    for (product, location), group in grouped_data:\n",
    "        group = group[[\"Date\" if frequency == \"daily\" else \"Datetime\", \"Order_Volume\"]]\n",
    "        group.columns = [\"ds\", \"y\"]  # Rename columns for Prophet\n",
    "\n",
    "        # Train and forecast\n",
    "        model = Prophet()\n",
    "        model.fit(group)\n",
    "        future = model.make_future_dataframe(periods=30, freq=\"D\" if frequency == \"daily\" else \"H\")\n",
    "        forecast = model.predict(future)\n",
    "\n",
    "        # Save the forecast for this product-location pair\n",
    "        forecasts[(product, location)] = forecast[[\"ds\", \"yhat\"]].to_dict(orient=\"records\")\n",
    "\n",
    "    return forecasts\n",
    "\n",
    "# Example Usage\n",
    "frequency = \"daily\"\n",
    "forecast_results = forecast_for_all(filtered_data, frequency)\n",
    "print(forecast_results)  # Contains forecasts for all product-location pairs\n"
   ]
  },
  {
   "cell_type": "code",
   "execution_count": 13,
   "metadata": {},
   "outputs": [
    {
     "name": "stdout",
     "output_type": "stream",
     "text": [
      "{'status': 'success', 'data': [{'product': 'Milk', 'location': 'Koramangala', 'forecast': [{'ds': '2023-05-20', 'yhat': 4949.878153602387}, {'ds': '2023-05-21', 'yhat': 4946.268761846841}, {'ds': '2023-05-22', 'yhat': 3805.722863801574}, {'ds': '2023-05-23', 'yhat': 3831.2751750303205}, {'ds': '2023-05-24', 'yhat': 4933.776608698036}, {'ds': '2023-05-25', 'yhat': 4968.714096231776}, {'ds': '2023-05-26', 'yhat': 3845.155398533226}, {'ds': '2023-05-27', 'yhat': 4948.728870539021}, {'ds': '2023-05-28', 'yhat': 4945.119478783585}, {'ds': '2023-05-29', 'yhat': 3804.5735807377623}, {'ds': '2023-05-30', 'yhat': 3830.125891964181}, {'ds': '2023-05-31', 'yhat': 4932.627325631173}, {'ds': '2023-06-01', 'yhat': 4967.564813166619}, {'ds': '2023-06-02', 'yhat': 3844.006115469245}, {'ds': '2023-06-03', 'yhat': 4947.579587475653}, {'ds': '2023-06-04', 'yhat': 4943.9701957181705}, {'ds': '2023-06-05', 'yhat': 3803.424297672656}, {'ds': '2023-06-06', 'yhat': 3828.9766089000295}, {'ds': '2023-06-07', 'yhat': 4931.478042567542}, {'ds': '2023-06-08', 'yhat': 4966.415530102439}, {'ds': '2023-06-09', 'yhat': 3842.8568324052626}, {'ds': '2023-06-10', 'yhat': 4946.4303044129365}, {'ds': '2023-06-11', 'yhat': 4942.820912657045}, {'ds': '2023-06-12', 'yhat': 3802.2750146088442}, {'ds': '2023-06-13', 'yhat': 3827.8273258371364}, {'ds': '2023-06-14', 'yhat': 4930.328759503911}, {'ds': '2023-06-15', 'yhat': 4965.2662470372825}, {'ds': '2023-06-16', 'yhat': 3841.707549341306}, {'ds': '2023-06-17', 'yhat': 4945.281021350218}, {'ds': '2023-06-18', 'yhat': 4941.67162959271}]}], 'message': None}\n"
     ]
    }
   ],
   "source": [
    "import requests\n",
    "\n",
    "response = requests.get(\"http://127.0.0.1:8000/forecast?products=Milk&locations=Koramangala&frequency=daily\")\n",
    "data = response.json()\n",
    "print(data)\n"
   ]
  },
  {
   "cell_type": "code",
   "execution_count": null,
   "metadata": {},
   "outputs": [],
   "source": []
  }
 ],
 "metadata": {
  "kernelspec": {
   "display_name": "live-demo",
   "language": "python",
   "name": "python3"
  },
  "language_info": {
   "codemirror_mode": {
    "name": "ipython",
    "version": 3
   },
   "file_extension": ".py",
   "mimetype": "text/x-python",
   "name": "python",
   "nbconvert_exporter": "python",
   "pygments_lexer": "ipython3",
   "version": "3.9.19"
  }
 },
 "nbformat": 4,
 "nbformat_minor": 2
}
